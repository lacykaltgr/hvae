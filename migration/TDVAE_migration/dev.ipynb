{
 "cells": [
  {
   "cell_type": "code",
   "execution_count": 7,
   "metadata": {
    "collapsed": true
   },
   "outputs": [
    {
     "name": "stdout",
     "output_type": "stream",
     "text": [
      "dev.ipynb           \u001B[31mdownload_weights.sh\u001B[m\u001B[m\r\n"
     ]
    },
    {
     "ename": "KeyboardInterrupt",
     "evalue": "",
     "output_type": "error",
     "traceback": [
      "\u001B[0;31m---------------------------------------------------------------------------\u001B[0m",
      "\u001B[0;31mKeyboardInterrupt\u001B[0m                         Traceback (most recent call last)",
      "Cell \u001B[0;32mIn[7], line 4\u001B[0m\n\u001B[1;32m      2\u001B[0m script_path \u001B[38;5;241m=\u001B[39m \u001B[38;5;124m'\u001B[39m\u001B[38;5;124m./download_weights.sh\u001B[39m\u001B[38;5;124m'\u001B[39m\n\u001B[1;32m      3\u001B[0m get_ipython()\u001B[38;5;241m.\u001B[39msystem(\u001B[38;5;124m'\u001B[39m\u001B[38;5;124mls\u001B[39m\u001B[38;5;124m'\u001B[39m)\n\u001B[0;32m----> 4\u001B[0m process \u001B[38;5;241m=\u001B[39m \u001B[43msubprocess\u001B[49m\u001B[38;5;241;43m.\u001B[39;49m\u001B[43mrun\u001B[49m\u001B[43m(\u001B[49m\u001B[43m[\u001B[49m\u001B[43mscript_path\u001B[49m\u001B[43m]\u001B[49m\u001B[43m,\u001B[49m\u001B[43m \u001B[49m\u001B[43mstdout\u001B[49m\u001B[38;5;241;43m=\u001B[39;49m\u001B[43msubprocess\u001B[49m\u001B[38;5;241;43m.\u001B[39;49m\u001B[43mPIPE\u001B[49m\u001B[43m,\u001B[49m\u001B[43m \u001B[49m\u001B[43mstderr\u001B[49m\u001B[38;5;241;43m=\u001B[39;49m\u001B[43msubprocess\u001B[49m\u001B[38;5;241;43m.\u001B[39;49m\u001B[43mPIPE\u001B[49m\u001B[43m,\u001B[49m\u001B[43m \u001B[49m\u001B[43mtext\u001B[49m\u001B[38;5;241;43m=\u001B[39;49m\u001B[38;5;28;43;01mTrue\u001B[39;49;00m\u001B[43m)\u001B[49m\n\u001B[1;32m      6\u001B[0m \u001B[38;5;28;01mif\u001B[39;00m process\u001B[38;5;241m.\u001B[39mreturncode \u001B[38;5;241m==\u001B[39m \u001B[38;5;241m0\u001B[39m:\n\u001B[1;32m      7\u001B[0m     \u001B[38;5;28mprint\u001B[39m(\u001B[38;5;124m\"\u001B[39m\u001B[38;5;124mShell script completed successfully.\u001B[39m\u001B[38;5;124m\"\u001B[39m)\n",
      "File \u001B[0;32m~/miniconda/envs/tensyflow/lib/python3.8/subprocess.py:495\u001B[0m, in \u001B[0;36mrun\u001B[0;34m(input, capture_output, timeout, check, *popenargs, **kwargs)\u001B[0m\n\u001B[1;32m    493\u001B[0m \u001B[38;5;28;01mwith\u001B[39;00m Popen(\u001B[38;5;241m*\u001B[39mpopenargs, \u001B[38;5;241m*\u001B[39m\u001B[38;5;241m*\u001B[39mkwargs) \u001B[38;5;28;01mas\u001B[39;00m process:\n\u001B[1;32m    494\u001B[0m     \u001B[38;5;28;01mtry\u001B[39;00m:\n\u001B[0;32m--> 495\u001B[0m         stdout, stderr \u001B[38;5;241m=\u001B[39m \u001B[43mprocess\u001B[49m\u001B[38;5;241;43m.\u001B[39;49m\u001B[43mcommunicate\u001B[49m\u001B[43m(\u001B[49m\u001B[38;5;28;43minput\u001B[39;49m\u001B[43m,\u001B[49m\u001B[43m \u001B[49m\u001B[43mtimeout\u001B[49m\u001B[38;5;241;43m=\u001B[39;49m\u001B[43mtimeout\u001B[49m\u001B[43m)\u001B[49m\n\u001B[1;32m    496\u001B[0m     \u001B[38;5;28;01mexcept\u001B[39;00m TimeoutExpired \u001B[38;5;28;01mas\u001B[39;00m exc:\n\u001B[1;32m    497\u001B[0m         process\u001B[38;5;241m.\u001B[39mkill()\n",
      "File \u001B[0;32m~/miniconda/envs/tensyflow/lib/python3.8/subprocess.py:1028\u001B[0m, in \u001B[0;36mPopen.communicate\u001B[0;34m(self, input, timeout)\u001B[0m\n\u001B[1;32m   1025\u001B[0m     endtime \u001B[38;5;241m=\u001B[39m \u001B[38;5;28;01mNone\u001B[39;00m\n\u001B[1;32m   1027\u001B[0m \u001B[38;5;28;01mtry\u001B[39;00m:\n\u001B[0;32m-> 1028\u001B[0m     stdout, stderr \u001B[38;5;241m=\u001B[39m \u001B[38;5;28;43mself\u001B[39;49m\u001B[38;5;241;43m.\u001B[39;49m\u001B[43m_communicate\u001B[49m\u001B[43m(\u001B[49m\u001B[38;5;28;43minput\u001B[39;49m\u001B[43m,\u001B[49m\u001B[43m \u001B[49m\u001B[43mendtime\u001B[49m\u001B[43m,\u001B[49m\u001B[43m \u001B[49m\u001B[43mtimeout\u001B[49m\u001B[43m)\u001B[49m\n\u001B[1;32m   1029\u001B[0m \u001B[38;5;28;01mexcept\u001B[39;00m \u001B[38;5;167;01mKeyboardInterrupt\u001B[39;00m:\n\u001B[1;32m   1030\u001B[0m     \u001B[38;5;66;03m# https://bugs.python.org/issue25942\u001B[39;00m\n\u001B[1;32m   1031\u001B[0m     \u001B[38;5;66;03m# See the detailed comment in .wait().\u001B[39;00m\n\u001B[1;32m   1032\u001B[0m     \u001B[38;5;28;01mif\u001B[39;00m timeout \u001B[38;5;129;01mis\u001B[39;00m \u001B[38;5;129;01mnot\u001B[39;00m \u001B[38;5;28;01mNone\u001B[39;00m:\n",
      "File \u001B[0;32m~/miniconda/envs/tensyflow/lib/python3.8/subprocess.py:1868\u001B[0m, in \u001B[0;36mPopen._communicate\u001B[0;34m(self, input, endtime, orig_timeout)\u001B[0m\n\u001B[1;32m   1861\u001B[0m     \u001B[38;5;28mself\u001B[39m\u001B[38;5;241m.\u001B[39m_check_timeout(endtime, orig_timeout,\n\u001B[1;32m   1862\u001B[0m                         stdout, stderr,\n\u001B[1;32m   1863\u001B[0m                         skip_check_and_raise\u001B[38;5;241m=\u001B[39m\u001B[38;5;28;01mTrue\u001B[39;00m)\n\u001B[1;32m   1864\u001B[0m     \u001B[38;5;28;01mraise\u001B[39;00m \u001B[38;5;167;01mRuntimeError\u001B[39;00m(  \u001B[38;5;66;03m# Impossible :)\u001B[39;00m\n\u001B[1;32m   1865\u001B[0m         \u001B[38;5;124m'\u001B[39m\u001B[38;5;124m_check_timeout(..., skip_check_and_raise=True) \u001B[39m\u001B[38;5;124m'\u001B[39m\n\u001B[1;32m   1866\u001B[0m         \u001B[38;5;124m'\u001B[39m\u001B[38;5;124mfailed to raise TimeoutExpired.\u001B[39m\u001B[38;5;124m'\u001B[39m)\n\u001B[0;32m-> 1868\u001B[0m ready \u001B[38;5;241m=\u001B[39m \u001B[43mselector\u001B[49m\u001B[38;5;241;43m.\u001B[39;49m\u001B[43mselect\u001B[49m\u001B[43m(\u001B[49m\u001B[43mtimeout\u001B[49m\u001B[43m)\u001B[49m\n\u001B[1;32m   1869\u001B[0m \u001B[38;5;28mself\u001B[39m\u001B[38;5;241m.\u001B[39m_check_timeout(endtime, orig_timeout, stdout, stderr)\n\u001B[1;32m   1871\u001B[0m \u001B[38;5;66;03m# XXX Rewrite these to use non-blocking I/O on the file\u001B[39;00m\n\u001B[1;32m   1872\u001B[0m \u001B[38;5;66;03m# objects; they are no longer using C stdio!\u001B[39;00m\n",
      "File \u001B[0;32m~/miniconda/envs/tensyflow/lib/python3.8/selectors.py:415\u001B[0m, in \u001B[0;36m_PollLikeSelector.select\u001B[0;34m(self, timeout)\u001B[0m\n\u001B[1;32m    413\u001B[0m ready \u001B[38;5;241m=\u001B[39m []\n\u001B[1;32m    414\u001B[0m \u001B[38;5;28;01mtry\u001B[39;00m:\n\u001B[0;32m--> 415\u001B[0m     fd_event_list \u001B[38;5;241m=\u001B[39m \u001B[38;5;28;43mself\u001B[39;49m\u001B[38;5;241;43m.\u001B[39;49m\u001B[43m_selector\u001B[49m\u001B[38;5;241;43m.\u001B[39;49m\u001B[43mpoll\u001B[49m\u001B[43m(\u001B[49m\u001B[43mtimeout\u001B[49m\u001B[43m)\u001B[49m\n\u001B[1;32m    416\u001B[0m \u001B[38;5;28;01mexcept\u001B[39;00m \u001B[38;5;167;01mInterruptedError\u001B[39;00m:\n\u001B[1;32m    417\u001B[0m     \u001B[38;5;28;01mreturn\u001B[39;00m ready\n",
      "\u001B[0;31mKeyboardInterrupt\u001B[0m: "
     ]
    }
   ],
   "source": [
    "import subprocess\n",
    "\n",
    "import torch\n",
    "\n",
    "script_path = './download_weights.sh'\n",
    "process = subprocess.run([script_path], stdout=subprocess.PIPE, stderr=subprocess.PIPE, text=True)\n",
    "\n",
    "if process.returncode == 0:\n",
    "    print(\"Shell script completed successfully.\")\n",
    "else:\n",
    "    print(\"Shell script encountered an error.\")"
   ]
  },
  {
   "cell_type": "code",
   "execution_count": 2,
   "outputs": [],
   "source": [
    "import tensorflow as tf\n",
    "tfc = tf.compat.v1\n",
    "tfc.disable_eager_execution()"
   ],
   "metadata": {
    "collapsed": false
   }
  },
  {
   "cell_type": "code",
   "execution_count": 3,
   "outputs": [
    {
     "ename": "ValueError",
     "evalue": "No variables to save",
     "output_type": "error",
     "traceback": [
      "\u001B[0;31m---------------------------------------------------------------------------\u001B[0m",
      "\u001B[0;31mValueError\u001B[0m                                Traceback (most recent call last)",
      "Cell \u001B[0;32mIn[3], line 1\u001B[0m\n\u001B[0;32m----> 1\u001B[0m saver \u001B[38;5;241m=\u001B[39m \u001B[43mtfc\u001B[49m\u001B[38;5;241;43m.\u001B[39;49m\u001B[43mtrain\u001B[49m\u001B[38;5;241;43m.\u001B[39;49m\u001B[43mSaver\u001B[49m\u001B[43m(\u001B[49m\u001B[43m)\u001B[49m\n\u001B[1;32m      2\u001B[0m sess \u001B[38;5;241m=\u001B[39m tfc\u001B[38;5;241m.\u001B[39mtrain\u001B[38;5;241m.\u001B[39mSingularMonitoredSession()\n\u001B[1;32m      3\u001B[0m saver\u001B[38;5;241m.\u001B[39mrestore(sess, \u001B[38;5;124m\"\u001B[39m\u001B[38;5;124m/eval_TDVAE40/mycurl-33750000.index\u001B[39m\u001B[38;5;124m\"\u001B[39m)\n",
      "File \u001B[0;32m~/miniconda/envs/tensyflow/lib/python3.8/site-packages/tensorflow/python/training/saver.py:934\u001B[0m, in \u001B[0;36mSaver.__init__\u001B[0;34m(self, var_list, reshape, sharded, max_to_keep, keep_checkpoint_every_n_hours, name, restore_sequentially, saver_def, builder, defer_build, allow_empty, write_version, pad_step_number, save_relative_paths, filename)\u001B[0m\n\u001B[1;32m    931\u001B[0m   \u001B[38;5;28mself\u001B[39m\u001B[38;5;241m.\u001B[39m_next_checkpoint_time \u001B[38;5;241m=\u001B[39m (\n\u001B[1;32m    932\u001B[0m       time\u001B[38;5;241m.\u001B[39mtime() \u001B[38;5;241m+\u001B[39m \u001B[38;5;28mself\u001B[39m\u001B[38;5;241m.\u001B[39m_keep_checkpoint_every_n_hours \u001B[38;5;241m*\u001B[39m \u001B[38;5;241m3600\u001B[39m)\n\u001B[1;32m    933\u001B[0m \u001B[38;5;28;01melif\u001B[39;00m \u001B[38;5;129;01mnot\u001B[39;00m defer_build:\n\u001B[0;32m--> 934\u001B[0m   \u001B[38;5;28;43mself\u001B[39;49m\u001B[38;5;241;43m.\u001B[39;49m\u001B[43mbuild\u001B[49m\u001B[43m(\u001B[49m\u001B[43m)\u001B[49m\n\u001B[1;32m    935\u001B[0m \u001B[38;5;28;01mif\u001B[39;00m \u001B[38;5;28mself\u001B[39m\u001B[38;5;241m.\u001B[39msaver_def:\n\u001B[1;32m    936\u001B[0m   \u001B[38;5;28mself\u001B[39m\u001B[38;5;241m.\u001B[39m_check_saver_def()\n",
      "File \u001B[0;32m~/miniconda/envs/tensyflow/lib/python3.8/site-packages/tensorflow/python/training/saver.py:946\u001B[0m, in \u001B[0;36mSaver.build\u001B[0;34m(self)\u001B[0m\n\u001B[1;32m    944\u001B[0m \u001B[38;5;28;01mif\u001B[39;00m context\u001B[38;5;241m.\u001B[39mexecuting_eagerly():\n\u001B[1;32m    945\u001B[0m   \u001B[38;5;28;01mraise\u001B[39;00m \u001B[38;5;167;01mRuntimeError\u001B[39;00m(\u001B[38;5;124m\"\u001B[39m\u001B[38;5;124mUse save/restore instead of build in eager mode.\u001B[39m\u001B[38;5;124m\"\u001B[39m)\n\u001B[0;32m--> 946\u001B[0m \u001B[38;5;28;43mself\u001B[39;49m\u001B[38;5;241;43m.\u001B[39;49m\u001B[43m_build\u001B[49m\u001B[43m(\u001B[49m\u001B[38;5;28;43mself\u001B[39;49m\u001B[38;5;241;43m.\u001B[39;49m\u001B[43m_filename\u001B[49m\u001B[43m,\u001B[49m\u001B[43m \u001B[49m\u001B[43mbuild_save\u001B[49m\u001B[38;5;241;43m=\u001B[39;49m\u001B[38;5;28;43;01mTrue\u001B[39;49;00m\u001B[43m,\u001B[49m\u001B[43m \u001B[49m\u001B[43mbuild_restore\u001B[49m\u001B[38;5;241;43m=\u001B[39;49m\u001B[38;5;28;43;01mTrue\u001B[39;49;00m\u001B[43m)\u001B[49m\n",
      "File \u001B[0;32m~/miniconda/envs/tensyflow/lib/python3.8/site-packages/tensorflow/python/training/saver.py:971\u001B[0m, in \u001B[0;36mSaver._build\u001B[0;34m(self, checkpoint_path, build_save, build_restore)\u001B[0m\n\u001B[1;32m    969\u001B[0m     \u001B[38;5;28;01mreturn\u001B[39;00m\n\u001B[1;32m    970\u001B[0m   \u001B[38;5;28;01melse\u001B[39;00m:\n\u001B[0;32m--> 971\u001B[0m     \u001B[38;5;28;01mraise\u001B[39;00m \u001B[38;5;167;01mValueError\u001B[39;00m(\u001B[38;5;124m\"\u001B[39m\u001B[38;5;124mNo variables to save\u001B[39m\u001B[38;5;124m\"\u001B[39m)\n\u001B[1;32m    972\u001B[0m \u001B[38;5;28mself\u001B[39m\u001B[38;5;241m.\u001B[39m_is_empty \u001B[38;5;241m=\u001B[39m \u001B[38;5;28;01mFalse\u001B[39;00m\n\u001B[1;32m    974\u001B[0m \u001B[38;5;28mself\u001B[39m\u001B[38;5;241m.\u001B[39msaver_def \u001B[38;5;241m=\u001B[39m \u001B[38;5;28mself\u001B[39m\u001B[38;5;241m.\u001B[39m_builder\u001B[38;5;241m.\u001B[39m_build_internal(  \u001B[38;5;66;03m# pylint: disable=protected-access\u001B[39;00m\n\u001B[1;32m    975\u001B[0m     \u001B[38;5;28mself\u001B[39m\u001B[38;5;241m.\u001B[39m_var_list,\n\u001B[1;32m    976\u001B[0m     reshape\u001B[38;5;241m=\u001B[39m\u001B[38;5;28mself\u001B[39m\u001B[38;5;241m.\u001B[39m_reshape,\n\u001B[0;32m   (...)\u001B[0m\n\u001B[1;32m    983\u001B[0m     build_save\u001B[38;5;241m=\u001B[39mbuild_save,\n\u001B[1;32m    984\u001B[0m     build_restore\u001B[38;5;241m=\u001B[39mbuild_restore)\n",
      "\u001B[0;31mValueError\u001B[0m: No variables to save"
     ]
    }
   ],
   "source": [
    "saver = tfc.train.Saver(var_list=)\n",
    "sess = tfc.train.SingularMonitoredSession()\n",
    "saver.restore(sess, \"/eval_TDVAE40/mycurl-33750000.index\")"
   ],
   "metadata": {
    "collapsed": false
   }
  },
  {
   "cell_type": "code",
   "execution_count": 11,
   "outputs": [
    {
     "name": "stderr",
     "output_type": "stream",
     "text": [
      "2023-08-28 14:45:03.486426: W tensorflow/core/util/tensor_slice_reader.cc:97] Could not open ./eval_TDVAE40/mycurl-33750000.data-00000-of-00001: DATA_LOSS: not an sstable (bad magic number): perhaps your file is in a different file format and you need to use a different restore operator?\n"
     ]
    },
    {
     "ename": "DataLossError",
     "evalue": "Unable to open table file ./eval_TDVAE40/mycurl-33750000.data-00000-of-00001: DATA_LOSS: not an sstable (bad magic number): perhaps your file is in a different file format and you need to use a different restore operator?",
     "output_type": "error",
     "traceback": [
      "\u001B[0;31m---------------------------------------------------------------------------\u001B[0m",
      "\u001B[0;31mRuntimeError\u001B[0m                              Traceback (most recent call last)",
      "File \u001B[0;32m~/miniconda/envs/tensyflow/lib/python3.8/site-packages/tensorflow/python/training/py_checkpoint_reader.py:92\u001B[0m, in \u001B[0;36mNewCheckpointReader\u001B[0;34m(filepattern)\u001B[0m\n\u001B[1;32m     91\u001B[0m \u001B[38;5;28;01mtry\u001B[39;00m:\n\u001B[0;32m---> 92\u001B[0m   \u001B[38;5;28;01mreturn\u001B[39;00m \u001B[43mCheckpointReader\u001B[49m\u001B[43m(\u001B[49m\u001B[43mcompat\u001B[49m\u001B[38;5;241;43m.\u001B[39;49m\u001B[43mas_bytes\u001B[49m\u001B[43m(\u001B[49m\u001B[43mfilepattern\u001B[49m\u001B[43m)\u001B[49m\u001B[43m)\u001B[49m\n\u001B[1;32m     93\u001B[0m \u001B[38;5;66;03m# TODO(b/143319754): Remove the RuntimeError casting logic once we resolve the\u001B[39;00m\n\u001B[1;32m     94\u001B[0m \u001B[38;5;66;03m# issue with throwing python exceptions from C++.\u001B[39;00m\n",
      "\u001B[0;31mRuntimeError\u001B[0m: Unable to open table file ./eval_TDVAE40/mycurl-33750000.data-00000-of-00001: DATA_LOSS: not an sstable (bad magic number): perhaps your file is in a different file format and you need to use a different restore operator?",
      "\nDuring handling of the above exception, another exception occurred:\n",
      "\u001B[0;31mDataLossError\u001B[0m                             Traceback (most recent call last)",
      "Cell \u001B[0;32mIn[11], line 1\u001B[0m\n\u001B[0;32m----> 1\u001B[0m \u001B[43mtf\u001B[49m\u001B[38;5;241;43m.\u001B[39;49m\u001B[43mtrain\u001B[49m\u001B[38;5;241;43m.\u001B[39;49m\u001B[43mlist_variables\u001B[49m\u001B[43m(\u001B[49m\u001B[38;5;124;43m\"\u001B[39;49m\u001B[38;5;124;43m./eval_TDVAE40/mycurl-33750000.data-00000-of-00001\u001B[39;49m\u001B[38;5;124;43m\"\u001B[39;49m\u001B[43m)\u001B[49m\n",
      "File \u001B[0;32m~/miniconda/envs/tensyflow/lib/python3.8/site-packages/tensorflow/python/training/checkpoint_utils.py:141\u001B[0m, in \u001B[0;36mlist_variables\u001B[0;34m(ckpt_dir_or_file)\u001B[0m\n\u001B[1;32m    117\u001B[0m \u001B[38;5;129m@tf_export\u001B[39m(\u001B[38;5;124m\"\u001B[39m\u001B[38;5;124mtrain.list_variables\u001B[39m\u001B[38;5;124m\"\u001B[39m)\n\u001B[1;32m    118\u001B[0m \u001B[38;5;28;01mdef\u001B[39;00m \u001B[38;5;21mlist_variables\u001B[39m(ckpt_dir_or_file):\n\u001B[1;32m    119\u001B[0m \u001B[38;5;250m  \u001B[39m\u001B[38;5;124;03m\"\"\"Lists the checkpoint keys and shapes of variables in a checkpoint.\u001B[39;00m\n\u001B[1;32m    120\u001B[0m \n\u001B[1;32m    121\u001B[0m \u001B[38;5;124;03m  Checkpoint keys are paths in a checkpoint graph.\u001B[39;00m\n\u001B[0;32m   (...)\u001B[0m\n\u001B[1;32m    139\u001B[0m \u001B[38;5;124;03m    List of tuples `(key, shape)`.\u001B[39;00m\n\u001B[1;32m    140\u001B[0m \u001B[38;5;124;03m  \"\"\"\u001B[39;00m\n\u001B[0;32m--> 141\u001B[0m   reader \u001B[38;5;241m=\u001B[39m \u001B[43mload_checkpoint\u001B[49m\u001B[43m(\u001B[49m\u001B[43mckpt_dir_or_file\u001B[49m\u001B[43m)\u001B[49m\n\u001B[1;32m    142\u001B[0m   variable_map \u001B[38;5;241m=\u001B[39m reader\u001B[38;5;241m.\u001B[39mget_variable_to_shape_map()\n\u001B[1;32m    143\u001B[0m   names \u001B[38;5;241m=\u001B[39m \u001B[38;5;28msorted\u001B[39m(variable_map\u001B[38;5;241m.\u001B[39mkeys())\n",
      "File \u001B[0;32m~/miniconda/envs/tensyflow/lib/python3.8/site-packages/tensorflow/python/training/checkpoint_utils.py:80\u001B[0m, in \u001B[0;36mload_checkpoint\u001B[0;34m(ckpt_dir_or_file)\u001B[0m\n\u001B[1;32m     77\u001B[0m \u001B[38;5;28;01mif\u001B[39;00m filename \u001B[38;5;129;01mis\u001B[39;00m \u001B[38;5;28;01mNone\u001B[39;00m:\n\u001B[1;32m     78\u001B[0m   \u001B[38;5;28;01mraise\u001B[39;00m \u001B[38;5;167;01mValueError\u001B[39;00m(\u001B[38;5;124m\"\u001B[39m\u001B[38;5;124mCouldn\u001B[39m\u001B[38;5;124m'\u001B[39m\u001B[38;5;124mt find \u001B[39m\u001B[38;5;124m'\u001B[39m\u001B[38;5;124mcheckpoint\u001B[39m\u001B[38;5;124m'\u001B[39m\u001B[38;5;124m file or checkpoints in \u001B[39m\u001B[38;5;124m\"\u001B[39m\n\u001B[1;32m     79\u001B[0m                    \u001B[38;5;124m\"\u001B[39m\u001B[38;5;124mgiven directory \u001B[39m\u001B[38;5;132;01m%s\u001B[39;00m\u001B[38;5;124m\"\u001B[39m \u001B[38;5;241m%\u001B[39m ckpt_dir_or_file)\n\u001B[0;32m---> 80\u001B[0m \u001B[38;5;28;01mreturn\u001B[39;00m \u001B[43mpy_checkpoint_reader\u001B[49m\u001B[38;5;241;43m.\u001B[39;49m\u001B[43mNewCheckpointReader\u001B[49m\u001B[43m(\u001B[49m\u001B[43mfilename\u001B[49m\u001B[43m)\u001B[49m\n",
      "File \u001B[0;32m~/miniconda/envs/tensyflow/lib/python3.8/site-packages/tensorflow/python/training/py_checkpoint_reader.py:96\u001B[0m, in \u001B[0;36mNewCheckpointReader\u001B[0;34m(filepattern)\u001B[0m\n\u001B[1;32m     93\u001B[0m \u001B[38;5;66;03m# TODO(b/143319754): Remove the RuntimeError casting logic once we resolve the\u001B[39;00m\n\u001B[1;32m     94\u001B[0m \u001B[38;5;66;03m# issue with throwing python exceptions from C++.\u001B[39;00m\n\u001B[1;32m     95\u001B[0m \u001B[38;5;28;01mexcept\u001B[39;00m \u001B[38;5;167;01mRuntimeError\u001B[39;00m \u001B[38;5;28;01mas\u001B[39;00m e:\n\u001B[0;32m---> 96\u001B[0m   \u001B[43merror_translator\u001B[49m\u001B[43m(\u001B[49m\u001B[43me\u001B[49m\u001B[43m)\u001B[49m\n",
      "File \u001B[0;32m~/miniconda/envs/tensyflow/lib/python3.8/site-packages/tensorflow/python/training/py_checkpoint_reader.py:40\u001B[0m, in \u001B[0;36merror_translator\u001B[0;34m(e)\u001B[0m\n\u001B[1;32m     38\u001B[0m   \u001B[38;5;28;01mraise\u001B[39;00m errors_impl\u001B[38;5;241m.\u001B[39mInvalidArgumentError(\u001B[38;5;28;01mNone\u001B[39;00m, \u001B[38;5;28;01mNone\u001B[39;00m, error_message)\n\u001B[1;32m     39\u001B[0m \u001B[38;5;28;01melif\u001B[39;00m \u001B[38;5;124m'\u001B[39m\u001B[38;5;124mUnable to open table file\u001B[39m\u001B[38;5;124m'\u001B[39m \u001B[38;5;129;01min\u001B[39;00m error_message:\n\u001B[0;32m---> 40\u001B[0m   \u001B[38;5;28;01mraise\u001B[39;00m errors_impl\u001B[38;5;241m.\u001B[39mDataLossError(\u001B[38;5;28;01mNone\u001B[39;00m, \u001B[38;5;28;01mNone\u001B[39;00m, error_message)\n\u001B[1;32m     41\u001B[0m \u001B[38;5;28;01melif\u001B[39;00m \u001B[38;5;124m'\u001B[39m\u001B[38;5;124mFailed to find the saved tensor slices\u001B[39m\u001B[38;5;124m'\u001B[39m \u001B[38;5;129;01min\u001B[39;00m error_message \u001B[38;5;129;01mor\u001B[39;00m (\n\u001B[1;32m     42\u001B[0m     \u001B[38;5;124m'\u001B[39m\u001B[38;5;124mnot convertible to numpy dtype\u001B[39m\u001B[38;5;124m'\u001B[39m \u001B[38;5;129;01min\u001B[39;00m error_message):\n\u001B[1;32m     43\u001B[0m   \u001B[38;5;28;01mraise\u001B[39;00m errors_impl\u001B[38;5;241m.\u001B[39mInternalError(\u001B[38;5;28;01mNone\u001B[39;00m, \u001B[38;5;28;01mNone\u001B[39;00m, error_message)\n",
      "\u001B[0;31mDataLossError\u001B[0m: Unable to open table file ./eval_TDVAE40/mycurl-33750000.data-00000-of-00001: DATA_LOSS: not an sstable (bad magic number): perhaps your file is in a different file format and you need to use a different restore operator?"
     ]
    }
   ],
   "source": [
    "tf.train.list_variables(\"./eval_TDVAE40/mycurl-33750000.data-00000-of-00001\")"
   ],
   "metadata": {
    "collapsed": false
   }
  },
  {
   "cell_type": "code",
   "execution_count": 9,
   "outputs": [
    {
     "data": {
      "text/plain": "[('beta1_power', []),\n ('beta2_power', []),\n ('cluster_encoder/mlp_cluster_encoder/linear_0/b', [1000]),\n ('cluster_encoder/mlp_cluster_encoder/linear_0/b/Adam', [1000]),\n ('cluster_encoder/mlp_cluster_encoder/linear_0/b/Adam_1', [1000]),\n ('cluster_encoder/mlp_cluster_encoder/linear_0/w', [2000, 1000]),\n ('cluster_encoder/mlp_cluster_encoder/linear_0/w/Adam', [2000, 1000]),\n ('cluster_encoder/mlp_cluster_encoder/linear_0/w/Adam_1', [2000, 1000]),\n ('cluster_encoder/mlp_cluster_encoder/linear_1/b', [500]),\n ('cluster_encoder/mlp_cluster_encoder/linear_1/b/Adam', [500]),\n ('cluster_encoder/mlp_cluster_encoder/linear_1/b/Adam_1', [500]),\n ('cluster_encoder/mlp_cluster_encoder/linear_1/w', [1000, 500]),\n ('cluster_encoder/mlp_cluster_encoder/linear_1/w/Adam', [1000, 500]),\n ('cluster_encoder/mlp_cluster_encoder/linear_1/w/Adam_1', [1000, 500]),\n ('cluster_encoder/mlp_cluster_encoder/linear_2/b', [250]),\n ('cluster_encoder/mlp_cluster_encoder/linear_2/b/Adam', [250]),\n ('cluster_encoder/mlp_cluster_encoder/linear_2/b/Adam_1', [250]),\n ('cluster_encoder/mlp_cluster_encoder/linear_2/w', [500, 250]),\n ('cluster_encoder/mlp_cluster_encoder/linear_2/w/Adam', [500, 250]),\n ('cluster_encoder/mlp_cluster_encoder/linear_2/w/Adam_1', [500, 250]),\n ('cluster_encoder/mlp_cluster_encoder/linear_3/b', [500]),\n ('cluster_encoder/mlp_cluster_encoder/linear_3/b/Adam', [500]),\n ('cluster_encoder/mlp_cluster_encoder/linear_3/b/Adam_1', [500]),\n ('cluster_encoder/mlp_cluster_encoder/linear_3/w', [250, 500]),\n ('cluster_encoder/mlp_cluster_encoder/linear_3/w/Adam', [250, 500]),\n ('cluster_encoder/mlp_cluster_encoder/linear_3/w/Adam_1', [250, 500]),\n ('data_decoder/mlp_data_decoder/linear_0/b', [1600]),\n ('data_decoder/mlp_data_decoder/linear_0/b/Adam', [1600]),\n ('data_decoder/mlp_data_decoder/linear_0/b/Adam_1', [1600]),\n ('data_decoder/mlp_data_decoder/linear_0/w', [1800, 1600]),\n ('data_decoder/mlp_data_decoder/linear_0/w/Adam', [1800, 1600]),\n ('data_decoder/mlp_data_decoder/linear_0/w/Adam_1', [1800, 1600]),\n ('global_step', []),\n ('latent_decoder/mlp_latent_decoder/linear_0/b', [2000]),\n ('latent_decoder/mlp_latent_decoder/linear_0/b/Adam', [2000]),\n ('latent_decoder/mlp_latent_decoder/linear_0/b/Adam_1', [2000]),\n ('latent_decoder/mlp_latent_decoder/linear_0/w', [250, 2000]),\n ('latent_decoder/mlp_latent_decoder/linear_0/w/Adam', [250, 2000]),\n ('latent_decoder/mlp_latent_decoder/linear_0/w/Adam_1', [250, 2000]),\n ('latent_decoder/mlp_latent_decoder/linear_1/b', [3600]),\n ('latent_decoder/mlp_latent_decoder/linear_1/b/Adam', [3600]),\n ('latent_decoder/mlp_latent_decoder/linear_1/b/Adam_1', [3600]),\n ('latent_decoder/mlp_latent_decoder/linear_1/w', [2000, 3600]),\n ('latent_decoder/mlp_latent_decoder/linear_1/w/Adam', [2000, 3600]),\n ('latent_decoder/mlp_latent_decoder/linear_1/w/Adam_1', [2000, 3600]),\n ('latent_encoder/mlp_latent_encoder_concat_to_z/linear_0/b', [2000]),\n ('latent_encoder/mlp_latent_encoder_concat_to_z/linear_0/b/Adam', [2000]),\n ('latent_encoder/mlp_latent_encoder_concat_to_z/linear_0/b/Adam_1', [2000]),\n ('latent_encoder/mlp_latent_encoder_concat_to_z/linear_0/w', [4000, 2000]),\n ('latent_encoder/mlp_latent_encoder_concat_to_z/linear_0/w/Adam',\n  [4000, 2000]),\n ('latent_encoder/mlp_latent_encoder_concat_to_z/linear_0/w/Adam_1',\n  [4000, 2000]),\n ('latent_encoder/mlp_latent_encoder_concat_to_z/linear_1/b', [3600]),\n ('latent_encoder/mlp_latent_encoder_concat_to_z/linear_1/b/Adam', [3600]),\n ('latent_encoder/mlp_latent_encoder_concat_to_z/linear_1/b/Adam_1', [3600]),\n ('latent_encoder/mlp_latent_encoder_concat_to_z/linear_1/w', [2000, 3600]),\n ('latent_encoder/mlp_latent_encoder_concat_to_z/linear_1/w/Adam',\n  [2000, 3600]),\n ('latent_encoder/mlp_latent_encoder_concat_to_z/linear_1/w/Adam_1',\n  [2000, 3600]),\n ('latent_encoder/mlp_latent_encoder_y_to_concat/linear_0/b', [250]),\n ('latent_encoder/mlp_latent_encoder_y_to_concat/linear_0/b/Adam', [250]),\n ('latent_encoder/mlp_latent_encoder_y_to_concat/linear_0/b/Adam_1', [250]),\n ('latent_encoder/mlp_latent_encoder_y_to_concat/linear_0/w', [250, 250]),\n ('latent_encoder/mlp_latent_encoder_y_to_concat/linear_0/w/Adam', [250, 250]),\n ('latent_encoder/mlp_latent_encoder_y_to_concat/linear_0/w/Adam_1',\n  [250, 250]),\n ('latent_encoder/mlp_latent_encoder_y_to_concat/linear_1/b', [500]),\n ('latent_encoder/mlp_latent_encoder_y_to_concat/linear_1/b/Adam', [500]),\n ('latent_encoder/mlp_latent_encoder_y_to_concat/linear_1/b/Adam_1', [500]),\n ('latent_encoder/mlp_latent_encoder_y_to_concat/linear_1/w', [250, 500]),\n ('latent_encoder/mlp_latent_encoder_y_to_concat/linear_1/w/Adam', [250, 500]),\n ('latent_encoder/mlp_latent_encoder_y_to_concat/linear_1/w/Adam_1',\n  [250, 500]),\n ('latent_encoder/mlp_latent_encoder_y_to_concat/linear_2/b', [1000]),\n ('latent_encoder/mlp_latent_encoder_y_to_concat/linear_2/b/Adam', [1000]),\n ('latent_encoder/mlp_latent_encoder_y_to_concat/linear_2/b/Adam_1', [1000]),\n ('latent_encoder/mlp_latent_encoder_y_to_concat/linear_2/w', [500, 1000]),\n ('latent_encoder/mlp_latent_encoder_y_to_concat/linear_2/w/Adam',\n  [500, 1000]),\n ('latent_encoder/mlp_latent_encoder_y_to_concat/linear_2/w/Adam_1',\n  [500, 1000]),\n ('latent_encoder/mlp_latent_encoder_y_to_concat/linear_3/b', [2000]),\n ('latent_encoder/mlp_latent_encoder_y_to_concat/linear_3/b/Adam', [2000]),\n ('latent_encoder/mlp_latent_encoder_y_to_concat/linear_3/b/Adam_1', [2000]),\n ('latent_encoder/mlp_latent_encoder_y_to_concat/linear_3/w', [1000, 2000]),\n ('latent_encoder/mlp_latent_encoder_y_to_concat/linear_3/w/Adam',\n  [1000, 2000]),\n ('latent_encoder/mlp_latent_encoder_y_to_concat/linear_3/w/Adam_1',\n  [1000, 2000]),\n ('mlp_shared_encoder/linear_0/b', [2000]),\n ('mlp_shared_encoder/linear_0/b/Adam', [2000]),\n ('mlp_shared_encoder/linear_0/b/Adam_1', [2000]),\n ('mlp_shared_encoder/linear_0/w', [1600, 2000]),\n ('mlp_shared_encoder/linear_0/w/Adam', [1600, 2000]),\n ('mlp_shared_encoder/linear_0/w/Adam_1', [1600, 2000])]"
     },
     "execution_count": 9,
     "metadata": {},
     "output_type": "execute_result"
    }
   ],
   "source": [
    "tf.train.list_variables(\"./eval_TDVAE40/mycurl-33750000\")"
   ],
   "metadata": {
    "collapsed": false
   }
  },
  {
   "cell_type": "code",
   "execution_count": 22,
   "outputs": [],
   "source": [
    "path = \"./eval_TDVAE40/mycurl-33750000\"\n",
    "checkpoint = tf.train.load_checkpoint(path)\n",
    "variables = tf.train.list_variables(path)"
   ],
   "metadata": {
    "collapsed": false
   }
  },
  {
   "cell_type": "code",
   "execution_count": 28,
   "outputs": [],
   "source": [
    "import numpy as np\n",
    "modules = dict()\n",
    "for v in variables:\n",
    "    name, shape = v\n",
    "    path_list = name.split('/')\n",
    "    if len(path_list) != 4:\n",
    "        continue\n",
    "    module_name = path_list[-4]\n",
    "    module_type = path_list[-3].split('_')[0]\n",
    "    layer_name = path_list[-2]\n",
    "    param_type = path_list[-1]\n",
    "    if module_name not in modules.keys():\n",
    "        modules[module_name] = dict()\n",
    "    if layer_name not in modules[module_name].keys():\n",
    "        modules[module_name][layer_name] = dict()\n",
    "    modules[module_name][layer_name][param_type] = checkpoint.get_tensor(name)"
   ],
   "metadata": {
    "collapsed": false
   }
  },
  {
   "cell_type": "code",
   "execution_count": 30,
   "outputs": [
    {
     "data": {
      "text/plain": "[2]"
     },
     "execution_count": 30,
     "metadata": {},
     "output_type": "execute_result"
    }
   ],
   "source": [
    "x = dict(m = 2)\n",
    "list(x.values())"
   ],
   "metadata": {
    "collapsed": false
   }
  },
  {
   "cell_type": "code",
   "execution_count": null,
   "outputs": [],
   "source": [],
   "metadata": {
    "collapsed": false
   }
  }
 ],
 "metadata": {
  "kernelspec": {
   "display_name": "Python 3",
   "language": "python",
   "name": "python3"
  },
  "language_info": {
   "codemirror_mode": {
    "name": "ipython",
    "version": 2
   },
   "file_extension": ".py",
   "mimetype": "text/x-python",
   "name": "python",
   "nbconvert_exporter": "python",
   "pygments_lexer": "ipython2",
   "version": "2.7.6"
  }
 },
 "nbformat": 4,
 "nbformat_minor": 0
}
