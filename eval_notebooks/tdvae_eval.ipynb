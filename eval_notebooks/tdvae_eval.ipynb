{
 "cells": [
  {
   "cell_type": "markdown",
   "source": [
    "# hVAE"
   ],
   "metadata": {
    "collapsed": false
   }
  },
  {
   "cell_type": "code",
   "execution_count": 2,
   "metadata": {
    "collapsed": true
   },
   "outputs": [
    {
     "ename": "FileNotFoundError",
     "evalue": "[Errno 2] No such file or directory: 'data/textures/datasets'",
     "output_type": "error",
     "traceback": [
      "\u001B[0;31m---------------------------------------------------------------------------\u001B[0m",
      "\u001B[0;31mFileNotFoundError\u001B[0m                         Traceback (most recent call last)",
      "Cell \u001B[0;32mIn[2], line 1\u001B[0m\n\u001B[0;32m----> 1\u001B[0m \u001B[38;5;28;01mfrom\u001B[39;00m \u001B[38;5;21;01msrc\u001B[39;00m\u001B[38;5;21;01m.\u001B[39;00m\u001B[38;5;21;01mhvae\u001B[39;00m \u001B[38;5;28;01mimport\u001B[39;00m hVAE\n\u001B[1;32m      2\u001B[0m \u001B[38;5;28;01mfrom\u001B[39;00m \u001B[38;5;21;01mhparams\u001B[39;00m \u001B[38;5;28;01mimport\u001B[39;00m get_hparams\n\u001B[1;32m      4\u001B[0m PATH \u001B[38;5;241m=\u001B[39m \u001B[38;5;124m\"\u001B[39m\u001B[38;5;124m/Users/laszlofreund/code/ai/hvae/experiments/TDVAE/2023-08-27__23-49/checkpoints/checkpoint-0.pth\u001B[39m\u001B[38;5;124m\"\u001B[39m\n",
      "File \u001B[0;32m~/code/ai/hvae/src/hvae.py:8\u001B[0m\n\u001B[1;32m      5\u001B[0m \u001B[38;5;28;01mfrom\u001B[39;00m \u001B[38;5;21;01mtorch\u001B[39;00m \u001B[38;5;28;01mimport\u001B[39;00m tensor\n\u001B[1;32m      7\u001B[0m \u001B[38;5;28;01mfrom\u001B[39;00m \u001B[38;5;21;01msrc\u001B[39;00m\u001B[38;5;21;01m.\u001B[39;00m\u001B[38;5;21;01mblock\u001B[39;00m \u001B[38;5;28;01mimport\u001B[39;00m GenBlock, InputBlock, OutputBlock, ConcatBlock, SimpleBlock, TopGenBlock\n\u001B[0;32m----> 8\u001B[0m \u001B[38;5;28;01mfrom\u001B[39;00m \u001B[38;5;21;01msrc\u001B[39;00m\u001B[38;5;21;01m.\u001B[39;00m\u001B[38;5;21;01mmodel\u001B[39;00m \u001B[38;5;28;01mimport\u001B[39;00m train, reconstruct, generate, compute_per_dimension_divergence_stats, evaluate, model_summary\n\u001B[1;32m     11\u001B[0m \u001B[38;5;28;01mclass\u001B[39;00m \u001B[38;5;21;01mEncoder\u001B[39;00m(nn\u001B[38;5;241m.\u001B[39mModule):\n\u001B[1;32m     12\u001B[0m     \u001B[38;5;28;01mdef\u001B[39;00m \u001B[38;5;21m__init__\u001B[39m(\u001B[38;5;28mself\u001B[39m, encoder_blocks: nn\u001B[38;5;241m.\u001B[39mModuleList):\n",
      "File \u001B[0;32m~/code/ai/hvae/src/model.py:21\u001B[0m\n\u001B[1;32m     16\u001B[0m \u001B[38;5;28;01mfrom\u001B[39;00m \u001B[38;5;21;01msrc\u001B[39;00m\u001B[38;5;21;01m.\u001B[39;00m\u001B[38;5;21;01melements\u001B[39;00m\u001B[38;5;21;01m.\u001B[39;00m\u001B[38;5;21;01mschedules\u001B[39;00m \u001B[38;5;28;01mimport\u001B[39;00m get_beta_schedule, get_gamma_schedule\n\u001B[1;32m     18\u001B[0m \u001B[38;5;28;01mfrom\u001B[39;00m \u001B[38;5;21;01msrc\u001B[39;00m\u001B[38;5;21;01m.\u001B[39;00m\u001B[38;5;21;01mutils\u001B[39;00m \u001B[38;5;28;01mimport\u001B[39;00m tensorboard_log, get_variate_masks, write_image_to_disk, linear_temperature, \\\n\u001B[1;32m     19\u001B[0m     prepare_for_log, print_line\n\u001B[0;32m---> 21\u001B[0m prms \u001B[38;5;241m=\u001B[39m \u001B[43mget_hparams\u001B[49m\u001B[43m(\u001B[49m\u001B[43m)\u001B[49m\n\u001B[1;32m     22\u001B[0m device \u001B[38;5;241m=\u001B[39m prms\u001B[38;5;241m.\u001B[39mmodel_params\u001B[38;5;241m.\u001B[39mdevice\n\u001B[1;32m     23\u001B[0m kldiv_schedule \u001B[38;5;241m=\u001B[39m get_beta_schedule()\n",
      "File \u001B[0;32m~/code/ai/hvae/hparams.py:5\u001B[0m, in \u001B[0;36mget_hparams\u001B[0;34m()\u001B[0m\n\u001B[1;32m      1\u001B[0m \u001B[38;5;28;01mdef\u001B[39;00m \u001B[38;5;21mget_hparams\u001B[39m():\n\u001B[1;32m      2\u001B[0m     \u001B[38;5;66;03m# SET WHICH params TO USE HERE\u001B[39;00m\n\u001B[1;32m      3\u001B[0m     \u001B[38;5;66;03m# |    |    |    |    |    |\u001B[39;00m\n\u001B[1;32m      4\u001B[0m     \u001B[38;5;66;03m# v    v    v    v    v    v\u001B[39;00m\n\u001B[0;32m----> 5\u001B[0m     \u001B[38;5;28;01mimport\u001B[39;00m \u001B[38;5;21;01mmodels\u001B[39;00m\u001B[38;5;21;01m.\u001B[39;00m\u001B[38;5;21;01mTDVAE\u001B[39;00m \u001B[38;5;28;01mas\u001B[39;00m \u001B[38;5;21;01mparams\u001B[39;00m\n\u001B[1;32m      7\u001B[0m     \u001B[38;5;28;01mreturn\u001B[39;00m Hyperparams(\n\u001B[1;32m      8\u001B[0m         log_params\u001B[38;5;241m=\u001B[39mparams\u001B[38;5;241m.\u001B[39mlog_params,\n\u001B[1;32m      9\u001B[0m         model_params\u001B[38;5;241m=\u001B[39mparams\u001B[38;5;241m.\u001B[39mmodel_params,\n\u001B[0;32m   (...)\u001B[0m\n\u001B[1;32m     20\u001B[0m         unpool_params\u001B[38;5;241m=\u001B[39mparams\u001B[38;5;241m.\u001B[39munpool_params,\n\u001B[1;32m     21\u001B[0m     )\n",
      "File \u001B[0;32m~/code/ai/hvae/models/TDVAE.py:117\u001B[0m\n\u001B[1;32m    108\u001B[0m \u001B[38;5;124;03m\"\"\"\u001B[39;00m\n\u001B[1;32m    109\u001B[0m \u001B[38;5;124;03m--------------------\u001B[39;00m\n\u001B[1;32m    110\u001B[0m \u001B[38;5;124;03mDATA HYPERPARAMETERS\u001B[39;00m\n\u001B[1;32m    111\u001B[0m \u001B[38;5;124;03m--------------------\u001B[39;00m\n\u001B[1;32m    112\u001B[0m \u001B[38;5;124;03m\"\"\"\u001B[39;00m\n\u001B[1;32m    113\u001B[0m \u001B[38;5;28;01mfrom\u001B[39;00m \u001B[38;5;21;01mdata\u001B[39;00m\u001B[38;5;21;01m.\u001B[39;00m\u001B[38;5;21;01mtextures\u001B[39;00m\u001B[38;5;21;01m.\u001B[39;00m\u001B[38;5;21;01mtextures\u001B[39;00m \u001B[38;5;28;01mimport\u001B[39;00m TexturesDataset \u001B[38;5;28;01mas\u001B[39;00m dataset\n\u001B[1;32m    114\u001B[0m data_params \u001B[38;5;241m=\u001B[39m Hyperparams(\n\u001B[1;32m    115\u001B[0m     \u001B[38;5;66;03m# Dataset source.\u001B[39;00m\n\u001B[1;32m    116\u001B[0m     \u001B[38;5;66;03m# Can be one of ('mnist', 'cifar', 'imagenet', 'textures')\u001B[39;00m\n\u001B[0;32m--> 117\u001B[0m     dataset\u001B[38;5;241m=\u001B[39m\u001B[43mdataset\u001B[49m\u001B[43m(\u001B[49m\u001B[38;5;124;43m\"\u001B[39;49m\u001B[38;5;124;43mnatural\u001B[39;49m\u001B[38;5;124;43m\"\u001B[39;49m\u001B[43m,\u001B[49m\u001B[43m \u001B[49m\u001B[38;5;241;43m20\u001B[39;49m\u001B[43m,\u001B[49m\u001B[43m \u001B[49m\u001B[38;5;124;43m\"\u001B[39;49m\u001B[38;5;124;43mold\u001B[39;49m\u001B[38;5;124;43m\"\u001B[39;49m\u001B[43m)\u001B[49m,\n\u001B[1;32m    118\u001B[0m \n\u001B[1;32m    119\u001B[0m     \u001B[38;5;66;03m# Data paths. Not used for (mnist, cifar-10)\u001B[39;00m\n\u001B[1;32m    120\u001B[0m     train_data_path\u001B[38;5;241m=\u001B[39m\u001B[38;5;124m'\u001B[39m\u001B[38;5;124m../datasets/imagenet_32/train_data/\u001B[39m\u001B[38;5;124m'\u001B[39m,\n\u001B[1;32m    121\u001B[0m     val_data_path\u001B[38;5;241m=\u001B[39m\u001B[38;5;124m'\u001B[39m\u001B[38;5;124m../datasets/imagenet_32/val_data/\u001B[39m\u001B[38;5;124m'\u001B[39m,\n\u001B[1;32m    122\u001B[0m     synthesis_data_path\u001B[38;5;241m=\u001B[39m\u001B[38;5;124m'\u001B[39m\u001B[38;5;124m../datasets/imagenet_32/val_data/\u001B[39m\u001B[38;5;124m'\u001B[39m,\n\u001B[1;32m    123\u001B[0m \n\u001B[1;32m    124\u001B[0m     \u001B[38;5;66;03m# Image metadata\u001B[39;00m\n\u001B[1;32m    125\u001B[0m     shape\u001B[38;5;241m=\u001B[39m(\u001B[38;5;241m1\u001B[39m, \u001B[38;5;241m20\u001B[39m, \u001B[38;5;241m20\u001B[39m),\n\u001B[1;32m    126\u001B[0m     \u001B[38;5;66;03m# Image color depth in the dataset (bit-depth of each color channel)\u001B[39;00m\n\u001B[1;32m    127\u001B[0m     num_bits\u001B[38;5;241m=\u001B[39m\u001B[38;5;241m8.\u001B[39m,\n\u001B[1;32m    128\u001B[0m )\n\u001B[1;32m    130\u001B[0m \u001B[38;5;124;03m\"\"\"\u001B[39;00m\n\u001B[1;32m    131\u001B[0m \u001B[38;5;124;03m--------------------\u001B[39;00m\n\u001B[1;32m    132\u001B[0m \u001B[38;5;124;03mTRAINING HYPERPARAMETERS\u001B[39;00m\n\u001B[1;32m    133\u001B[0m \u001B[38;5;124;03m--------------------\u001B[39;00m\n\u001B[1;32m    134\u001B[0m \u001B[38;5;124;03m\"\"\"\u001B[39;00m\n\u001B[1;32m    135\u001B[0m train_params \u001B[38;5;241m=\u001B[39m Hyperparams(\n\u001B[1;32m    136\u001B[0m     \u001B[38;5;66;03m# The total number of training updates\u001B[39;00m\n\u001B[1;32m    137\u001B[0m     total_train_steps\u001B[38;5;241m=\u001B[39m\u001B[38;5;241m640000\u001B[39m,\n\u001B[1;32m    138\u001B[0m     \u001B[38;5;66;03m# training batch size\u001B[39;00m\n\u001B[1;32m    139\u001B[0m     batch_size\u001B[38;5;241m=\u001B[39m\u001B[38;5;241m128\u001B[39m,\n\u001B[1;32m    140\u001B[0m )\n",
      "File \u001B[0;32m~/code/ai/hvae/data/textures/textures.py:15\u001B[0m, in \u001B[0;36mTexturesDataset.__init__\u001B[0;34m(self, type, image_size, whitening)\u001B[0m\n\u001B[1;32m     13\u001B[0m \u001B[38;5;28mself\u001B[39m\u001B[38;5;241m.\u001B[39mimage_size \u001B[38;5;241m=\u001B[39m image_size\n\u001B[1;32m     14\u001B[0m \u001B[38;5;28mself\u001B[39m\u001B[38;5;241m.\u001B[39mwhitening \u001B[38;5;241m=\u001B[39m whitening\n\u001B[0;32m---> 15\u001B[0m \u001B[38;5;28;43msuper\u001B[39;49m\u001B[43m(\u001B[49m\u001B[43mTexturesDataset\u001B[49m\u001B[43m,\u001B[49m\u001B[43m \u001B[49m\u001B[38;5;28;43mself\u001B[39;49m\u001B[43m)\u001B[49m\u001B[38;5;241;43m.\u001B[39;49m\u001B[38;5;21;43m__init__\u001B[39;49m\u001B[43m(\u001B[49m\u001B[43m)\u001B[49m\n",
      "File \u001B[0;32m~/code/ai/hvae/src/elements/dataset.py:24\u001B[0m, in \u001B[0;36m_DataSet.__init__\u001B[0;34m(self, train_transform, val_transform, test_transform)\u001B[0m\n\u001B[1;32m     21\u001B[0m \u001B[38;5;28mself\u001B[39m\u001B[38;5;241m.\u001B[39mtest_transform \u001B[38;5;241m=\u001B[39m test_transform\n\u001B[1;32m     22\u001B[0m \u001B[38;5;28mself\u001B[39m\u001B[38;5;241m.\u001B[39mval_transform \u001B[38;5;241m=\u001B[39m val_transform\n\u001B[0;32m---> 24\u001B[0m train_data, val_data, test_data \u001B[38;5;241m=\u001B[39m \u001B[38;5;28;43mself\u001B[39;49m\u001B[38;5;241;43m.\u001B[39;49m\u001B[43mload\u001B[49m\u001B[43m(\u001B[49m\u001B[43m)\u001B[49m\n\u001B[1;32m     26\u001B[0m \u001B[38;5;28mself\u001B[39m\u001B[38;5;241m.\u001B[39mtrain_set \u001B[38;5;241m=\u001B[39m \u001B[38;5;28mself\u001B[39m\u001B[38;5;241m.\u001B[39m_FunctionalDataset(train_data, \u001B[38;5;28mself\u001B[39m\u001B[38;5;241m.\u001B[39mtrain_transform)\n\u001B[1;32m     27\u001B[0m \u001B[38;5;28mself\u001B[39m\u001B[38;5;241m.\u001B[39mval_set \u001B[38;5;241m=\u001B[39m \u001B[38;5;28mself\u001B[39m\u001B[38;5;241m.\u001B[39m_FunctionalDataset(val_data, \u001B[38;5;28mself\u001B[39m\u001B[38;5;241m.\u001B[39mval_transform)\n",
      "File \u001B[0;32m~/code/ai/hvae/data/textures/textures.py:18\u001B[0m, in \u001B[0;36mTexturesDataset.load\u001B[0;34m(self)\u001B[0m\n\u001B[1;32m     17\u001B[0m \u001B[38;5;28;01mdef\u001B[39;00m \u001B[38;5;21mload\u001B[39m(\u001B[38;5;28mself\u001B[39m):\n\u001B[0;32m---> 18\u001B[0m     \u001B[38;5;28;01mif\u001B[39;00m \u001B[38;5;129;01mnot\u001B[39;00m \u001B[38;5;28mlen\u001B[39m(\u001B[43mos\u001B[49m\u001B[38;5;241;43m.\u001B[39;49m\u001B[43mlistdir\u001B[49m\u001B[43m(\u001B[49m\u001B[38;5;124;43m'\u001B[39;49m\u001B[38;5;124;43mdata/textures/datasets\u001B[39;49m\u001B[38;5;124;43m'\u001B[39;49m\u001B[43m)\u001B[49m) \u001B[38;5;241m==\u001B[39m \u001B[38;5;241m4\u001B[39m:\n\u001B[1;32m     19\u001B[0m         run_download_script()\n\u001B[1;32m     21\u001B[0m     \u001B[38;5;28;01mif\u001B[39;00m \u001B[38;5;28mself\u001B[39m\u001B[38;5;241m.\u001B[39mtype \u001B[38;5;241m==\u001B[39m \u001B[38;5;124m\"\u001B[39m\u001B[38;5;124mnatural\u001B[39m\u001B[38;5;124m\"\u001B[39m:\n",
      "\u001B[0;31mFileNotFoundError\u001B[0m: [Errno 2] No such file or directory: 'data/textures/datasets'"
     ]
    }
   ],
   "source": [
    "import torch\n",
    "\n",
    "from src.hvae import hVAE\n",
    "from hparams import get_hparams\n",
    "\n",
    "PATH = \"/Users/laszlofreund/code/ai/hvae/experiments/TDVAE/2023-08-27__23-49/checkpoints/checkpoint-0.pth\"\n",
    "#dataset = get_hparams().data_params.dataset\n",
    "#test_loader = dataset.get_test_loader()\n",
    "\n",
    "hvae = hVAE.load(PATH)\n",
    "#hvae.test_model(test_loader)\n",
    "hvae.summary()"
   ]
  },
  {
   "cell_type": "code",
   "execution_count": 2,
   "outputs": [],
   "source": [
    "import tensorflow as tf\n",
    "\n",
    "tfc = tf.compat.v1\n",
    "tfc.disable_eager_execution()\n",
    "output_sd_placeholder = tfc.placeholder(tf.float32, shape=[], name='output_sd')\n",
    "\n",
    "import tensorflow_probability as tfp\n",
    "\n",
    "dist = tfp.distributions.Normal(loc=0., scale=output_sd_placeholder)"
   ],
   "metadata": {
    "collapsed": false
   }
  },
  {
   "cell_type": "code",
   "execution_count": 3,
   "outputs": [
    {
     "data": {
      "text/plain": "<tf.Tensor 'Normal/sample/Reshape:0' shape=() dtype=float32>"
     },
     "execution_count": 3,
     "metadata": {},
     "output_type": "execute_result"
    }
   ],
   "source": [
    "dist.sample()"
   ],
   "metadata": {
    "collapsed": false
   }
  },
  {
   "cell_type": "code",
   "execution_count": 4,
   "outputs": [],
   "source": [
    "import numpy as np\n",
    "steps_per_epoch = 640000 // 128\n",
    "beta_y = np.concatenate((np.full(500 * steps_per_epoch, 0.1),\n",
    "                         np.linspace(0.1, 1.25, 1150 * steps_per_epoch)))"
   ],
   "metadata": {
    "collapsed": false
   }
  },
  {
   "cell_type": "code",
   "execution_count": 5,
   "outputs": [
    {
     "data": {
      "text/plain": "array([0.1      , 0.1      , 0.1      , ..., 1.2499996, 1.2499998,\n       1.25     ])"
     },
     "execution_count": 5,
     "metadata": {},
     "output_type": "execute_result"
    }
   ],
   "source": [
    "beta_y"
   ],
   "metadata": {
    "collapsed": false
   }
  },
  {
   "cell_type": "code",
   "execution_count": 8,
   "outputs": [],
   "source": [
    "import torch\n",
    "logits = torch.rand(10, 2)\n",
    "probs = torch.ones_like(logits)"
   ],
   "metadata": {
    "collapsed": false
   }
  },
  {
   "cell_type": "code",
   "execution_count": 9,
   "outputs": [
    {
     "data": {
      "text/plain": "tensor([[1., 1.],\n        [1., 1.],\n        [1., 1.],\n        [1., 1.],\n        [1., 1.],\n        [1., 1.],\n        [1., 1.],\n        [1., 1.],\n        [1., 1.],\n        [1., 1.]])"
     },
     "execution_count": 9,
     "metadata": {},
     "output_type": "execute_result"
    }
   ],
   "source": [
    "probs"
   ],
   "metadata": {
    "collapsed": false
   }
  },
  {
   "cell_type": "code",
   "execution_count": 10,
   "outputs": [],
   "source": [
    "dist = torch.distributions.OneHotCategorical(probs=probs)"
   ],
   "metadata": {
    "collapsed": false
   }
  },
  {
   "cell_type": "code",
   "execution_count": 13,
   "outputs": [
    {
     "data": {
      "text/plain": "tensor([[1., 0.],\n        [0., 1.],\n        [1., 0.],\n        [1., 0.],\n        [0., 1.],\n        [0., 1.],\n        [1., 0.],\n        [1., 0.],\n        [1., 0.],\n        [1., 0.]])"
     },
     "execution_count": 13,
     "metadata": {},
     "output_type": "execute_result"
    }
   ],
   "source": [
    "dist.sample()"
   ],
   "metadata": {
    "collapsed": false
   }
  },
  {
   "cell_type": "code",
   "execution_count": 36,
   "outputs": [],
   "source": [
    "def construct_prior_probs(batch_size, n_y, n_y_active):\n",
    "    \"\"\"Construct the uniform prior probabilities.\n",
    "\n",
    "    Args:\n",
    "      batch_size: int, the size of the batch.\n",
    "      n_y: int, the number of categorical cluster components.\n",
    "      n_y_active: tf.Variable, the number of components that are currently in use.\n",
    "\n",
    "    Returns:\n",
    "      Tensor representing the prior probability matrix, size of [batch_size, n_y].\n",
    "    \"\"\"\n",
    "    probs = torch.ones((batch_size, 1))\n",
    "    return probs"
   ],
   "metadata": {
    "collapsed": false
   }
  },
  {
   "cell_type": "code",
   "execution_count": 37,
   "outputs": [
    {
     "ename": "TypeError",
     "evalue": "pad(): argument 'pad' (position 2) must be tuple of ints, not Tensor",
     "output_type": "error",
     "traceback": [
      "\u001B[0;31m---------------------------------------------------------------------------\u001B[0m",
      "\u001B[0;31mTypeError\u001B[0m                                 Traceback (most recent call last)",
      "Cell \u001B[0;32mIn[37], line 1\u001B[0m\n\u001B[0;32m----> 1\u001B[0m probs \u001B[38;5;241m=\u001B[39m \u001B[43mconstruct_prior_probs\u001B[49m\u001B[43m(\u001B[49m\u001B[38;5;241;43m10\u001B[39;49m\u001B[43m,\u001B[49m\u001B[43m \u001B[49m\u001B[43mtorch\u001B[49m\u001B[38;5;241;43m.\u001B[39;49m\u001B[43mtensor\u001B[49m\u001B[43m(\u001B[49m\u001B[38;5;241;43m1\u001B[39;49m\u001B[43m)\u001B[49m\u001B[43m,\u001B[49m\u001B[43m \u001B[49m\u001B[43mtorch\u001B[49m\u001B[38;5;241;43m.\u001B[39;49m\u001B[43mtensor\u001B[49m\u001B[43m(\u001B[49m\u001B[38;5;241;43m1\u001B[39;49m\u001B[43m)\u001B[49m\u001B[43m)\u001B[49m\n",
      "Cell \u001B[0;32mIn[36], line 16\u001B[0m, in \u001B[0;36mconstruct_prior_probs\u001B[0;34m(batch_size, n_y, n_y_active)\u001B[0m\n\u001B[1;32m     14\u001B[0m paddings2 \u001B[38;5;241m=\u001B[39m torch\u001B[38;5;241m.\u001B[39mstack([torch\u001B[38;5;241m.\u001B[39mTensor(\u001B[38;5;241m0\u001B[39m), torch\u001B[38;5;241m.\u001B[39mTensor(\u001B[38;5;241m0\u001B[39m)], dim\u001B[38;5;241m=\u001B[39m\u001B[38;5;241m0\u001B[39m)\n\u001B[1;32m     15\u001B[0m paddings \u001B[38;5;241m=\u001B[39m torch\u001B[38;5;241m.\u001B[39mstack([paddings1, paddings2], dim\u001B[38;5;241m=\u001B[39m\u001B[38;5;241m1\u001B[39m)\n\u001B[0;32m---> 16\u001B[0m probs \u001B[38;5;241m=\u001B[39m \u001B[43mtorch\u001B[49m\u001B[38;5;241;43m.\u001B[39;49m\u001B[43mnn\u001B[49m\u001B[38;5;241;43m.\u001B[39;49m\u001B[43mfunctional\u001B[49m\u001B[38;5;241;43m.\u001B[39;49m\u001B[43mpad\u001B[49m\u001B[43m(\u001B[49m\u001B[43mprobs\u001B[49m\u001B[43m,\u001B[49m\u001B[43m \u001B[49m\u001B[43mpaddings\u001B[49m\u001B[43m,\u001B[49m\u001B[43m \u001B[49m\u001B[43mvalue\u001B[49m\u001B[38;5;241;43m=\u001B[39;49m\u001B[38;5;241;43m1e-12\u001B[39;49m\u001B[43m)\u001B[49m\n\u001B[1;32m     17\u001B[0m probs\u001B[38;5;241m.\u001B[39mreshape((batch_size, n_y))\n\u001B[1;32m     18\u001B[0m \u001B[38;5;28;01mreturn\u001B[39;00m probs\n",
      "\u001B[0;31mTypeError\u001B[0m: pad(): argument 'pad' (position 2) must be tuple of ints, not Tensor"
     ]
    }
   ],
   "source": [
    "probs = construct_prior_probs(10, torch.tensor(1), torch.tensor(1))"
   ],
   "metadata": {
    "collapsed": false
   }
  },
  {
   "cell_type": "code",
   "execution_count": 3,
   "outputs": [],
   "source": [
    "from meitorch import mei\n",
    "from src.checkpoint import Checkpoint"
   ],
   "metadata": {
    "collapsed": false
   }
  },
  {
   "cell_type": "code",
   "execution_count": 4,
   "outputs": [],
   "source": [
    "experiment = Checkpoint.load(\"../experiments/TDVAE40_migrate/migration/2023-09-21__10-05/migrated_checkpoint.pth\")"
   ],
   "metadata": {
    "collapsed": false
   }
  },
  {
   "cell_type": "code",
   "execution_count": 5,
   "outputs": [],
   "source": [
    "model = experiment.get_model()"
   ],
   "metadata": {
    "collapsed": false
   }
  },
  {
   "cell_type": "code",
   "execution_count": 6,
   "outputs": [],
   "source": [
    "target_block = \"y\""
   ],
   "metadata": {
    "collapsed": false
   }
  },
  {
   "cell_type": "code",
   "execution_count": 16,
   "outputs": [],
   "source": [
    "from src.hvae.model import compute_loss\n",
    "import torch\n",
    "\n",
    "def custom_loss(x):\n",
    "    x.to(\"cpu\")\n",
    "    computed, distributions = model(x, use_mean=True)\n",
    "    losses = compute_loss(x, distributions)\n",
    "    to_query = computed[target_block]\n",
    "    contrast = torch.std(to_query)\n",
    "    to_add = - losses[\"kl_div\"] *0.1\n",
    "    print(to_query[0][4], losses[\"kl_div\"], contrast)\n",
    "    return to_query, to_add\n",
    "\n",
    "def get_target_block(x):\n",
    "    compute_function = model.compute_function(target_block)\n",
    "    computed, distributions = compute_function(x, use_mean=True)\n",
    "    return computed[target_block]"
   ],
   "metadata": {
    "collapsed": false
   }
  },
  {
   "cell_type": "code",
   "execution_count": 17,
   "outputs": [],
   "source": [
    "model.to(\"cpu\")\n",
    "def conf(n):\n",
    "    return dict(\n",
    "        neuron_query=n,\n",
    "        custom_loss=custom_loss,\n",
    "        iter_n=1000,  # number of iterations\n",
    "        start_sigma=0.2,\n",
    "        end_sigma=0.05,\n",
    "        precond=1,  # strength of gradient preconditioning filter falloff\n",
    "        step_gain=0.001,  # scaling of gradient steps\n",
    "        jitter=0,  # size of translational jittering\n",
    "        blur=True,\n",
    "        norm=-1,  # norm adjustment after step, negative to turn off\n",
    "        train_norm=-1,  # norm adjustment during step, negative to turn off\n",
    "        clip=True  # Whether to clip the range of the image to be in valid range\n",
    "    )"
   ],
   "metadata": {
    "collapsed": false
   }
  },
  {
   "cell_type": "code",
   "execution_count": 18,
   "outputs": [],
   "source": [
    "from matplotlib.pyplot import imshow, show\n",
    "Mei = mei.MEI(models=[get_target_block], shape=(1, 40, 40), device=\"cpu\")"
   ],
   "metadata": {
    "collapsed": false
   }
  },
  {
   "cell_type": "code",
   "execution_count": 19,
   "outputs": [
    {
     "name": "stdout",
     "output_type": "stream",
     "text": [
      "tensor(0.0043, grad_fn=<SelectBackward0>) tensor(5.5185e-05, grad_fn=<DivBackward0>) tensor(0.1698, grad_fn=<StdBackward0>)\n",
      "tensor(0.0025, grad_fn=<SelectBackward0>) tensor(5.3423e-05, grad_fn=<DivBackward0>) tensor(0.1677, grad_fn=<StdBackward0>)\n",
      "tensor(0.0027, grad_fn=<SelectBackward0>) tensor(5.3415e-05, grad_fn=<DivBackward0>) tensor(0.1677, grad_fn=<StdBackward0>)\n",
      "tensor(0.0029, grad_fn=<SelectBackward0>) tensor(5.3405e-05, grad_fn=<DivBackward0>) tensor(0.1677, grad_fn=<StdBackward0>)\n",
      "tensor(0.0031, grad_fn=<SelectBackward0>) tensor(5.3399e-05, grad_fn=<DivBackward0>) tensor(0.1676, grad_fn=<StdBackward0>)\n",
      "tensor(0.0033, grad_fn=<SelectBackward0>) tensor(5.3393e-05, grad_fn=<DivBackward0>) tensor(0.1676, grad_fn=<StdBackward0>)\n",
      "tensor(0.0035, grad_fn=<SelectBackward0>) tensor(5.3390e-05, grad_fn=<DivBackward0>) tensor(0.1676, grad_fn=<StdBackward0>)\n",
      "tensor(0.0037, grad_fn=<SelectBackward0>) tensor(5.3388e-05, grad_fn=<DivBackward0>) tensor(0.1676, grad_fn=<StdBackward0>)\n",
      "tensor(0.0038, grad_fn=<SelectBackward0>) tensor(5.3389e-05, grad_fn=<DivBackward0>) tensor(0.1676, grad_fn=<StdBackward0>)\n",
      "tensor(0.0040, grad_fn=<SelectBackward0>) tensor(5.3393e-05, grad_fn=<DivBackward0>) tensor(0.1676, grad_fn=<StdBackward0>)\n",
      "tensor(0.0042, grad_fn=<SelectBackward0>) tensor(5.3398e-05, grad_fn=<DivBackward0>) tensor(0.1676, grad_fn=<StdBackward0>)\n",
      "tensor(0.0044, grad_fn=<SelectBackward0>) tensor(5.3406e-05, grad_fn=<DivBackward0>) tensor(0.1676, grad_fn=<StdBackward0>)\n",
      "tensor(0.0045, grad_fn=<SelectBackward0>) tensor(5.3414e-05, grad_fn=<DivBackward0>) tensor(0.1676, grad_fn=<StdBackward0>)\n",
      "tensor(0.0047, grad_fn=<SelectBackward0>) tensor(5.3426e-05, grad_fn=<DivBackward0>) tensor(0.1677, grad_fn=<StdBackward0>)\n",
      "tensor(0.0049, grad_fn=<SelectBackward0>) tensor(5.3441e-05, grad_fn=<DivBackward0>) tensor(0.1677, grad_fn=<StdBackward0>)\n",
      "tensor(0.0050, grad_fn=<SelectBackward0>) tensor(5.3458e-05, grad_fn=<DivBackward0>) tensor(0.1677, grad_fn=<StdBackward0>)\n",
      "tensor(0.0052, grad_fn=<SelectBackward0>) tensor(5.3478e-05, grad_fn=<DivBackward0>) tensor(0.1677, grad_fn=<StdBackward0>)\n",
      "tensor(0.0054, grad_fn=<SelectBackward0>) tensor(5.3500e-05, grad_fn=<DivBackward0>) tensor(0.1677, grad_fn=<StdBackward0>)\n",
      "tensor(0.0055, grad_fn=<SelectBackward0>) tensor(5.3525e-05, grad_fn=<DivBackward0>) tensor(0.1678, grad_fn=<StdBackward0>)\n",
      "tensor(0.0057, grad_fn=<SelectBackward0>) tensor(5.3551e-05, grad_fn=<DivBackward0>) tensor(0.1678, grad_fn=<StdBackward0>)\n",
      "tensor(0.0058, grad_fn=<SelectBackward0>) tensor(5.3581e-05, grad_fn=<DivBackward0>) tensor(0.1678, grad_fn=<StdBackward0>)\n",
      "tensor(0.0060, grad_fn=<SelectBackward0>) tensor(5.3612e-05, grad_fn=<DivBackward0>) tensor(0.1679, grad_fn=<StdBackward0>)\n",
      "tensor(0.0061, grad_fn=<SelectBackward0>) tensor(5.3646e-05, grad_fn=<DivBackward0>) tensor(0.1679, grad_fn=<StdBackward0>)\n",
      "tensor(0.0063, grad_fn=<SelectBackward0>) tensor(5.3681e-05, grad_fn=<DivBackward0>) tensor(0.1679, grad_fn=<StdBackward0>)\n",
      "tensor(0.0064, grad_fn=<SelectBackward0>) tensor(5.3718e-05, grad_fn=<DivBackward0>) tensor(0.1680, grad_fn=<StdBackward0>)\n",
      "tensor(0.0066, grad_fn=<SelectBackward0>) tensor(5.3759e-05, grad_fn=<DivBackward0>) tensor(0.1680, grad_fn=<StdBackward0>)\n",
      "tensor(0.0067, grad_fn=<SelectBackward0>) tensor(5.3802e-05, grad_fn=<DivBackward0>) tensor(0.1681, grad_fn=<StdBackward0>)\n",
      "tensor(0.0069, grad_fn=<SelectBackward0>) tensor(5.3847e-05, grad_fn=<DivBackward0>) tensor(0.1681, grad_fn=<StdBackward0>)\n",
      "tensor(0.0070, grad_fn=<SelectBackward0>) tensor(5.3895e-05, grad_fn=<DivBackward0>) tensor(0.1682, grad_fn=<StdBackward0>)\n",
      "tensor(0.0071, grad_fn=<SelectBackward0>) tensor(5.3944e-05, grad_fn=<DivBackward0>) tensor(0.1682, grad_fn=<StdBackward0>)\n",
      "tensor(0.0072, grad_fn=<SelectBackward0>) tensor(5.3997e-05, grad_fn=<DivBackward0>) tensor(0.1683, grad_fn=<StdBackward0>)\n",
      "tensor(0.0074, grad_fn=<SelectBackward0>) tensor(5.4052e-05, grad_fn=<DivBackward0>) tensor(0.1684, grad_fn=<StdBackward0>)\n",
      "tensor(0.0075, grad_fn=<SelectBackward0>) tensor(5.4110e-05, grad_fn=<DivBackward0>) tensor(0.1684, grad_fn=<StdBackward0>)\n",
      "tensor(0.0076, grad_fn=<SelectBackward0>) tensor(5.4170e-05, grad_fn=<DivBackward0>) tensor(0.1685, grad_fn=<StdBackward0>)\n",
      "tensor(0.0077, grad_fn=<SelectBackward0>) tensor(5.4232e-05, grad_fn=<DivBackward0>) tensor(0.1686, grad_fn=<StdBackward0>)\n",
      "tensor(0.0078, grad_fn=<SelectBackward0>) tensor(5.4297e-05, grad_fn=<DivBackward0>) tensor(0.1687, grad_fn=<StdBackward0>)\n",
      "tensor(0.0079, grad_fn=<SelectBackward0>) tensor(5.4363e-05, grad_fn=<DivBackward0>) tensor(0.1687, grad_fn=<StdBackward0>)\n",
      "tensor(0.0080, grad_fn=<SelectBackward0>) tensor(5.4431e-05, grad_fn=<DivBackward0>) tensor(0.1688, grad_fn=<StdBackward0>)\n",
      "tensor(0.0081, grad_fn=<SelectBackward0>) tensor(5.4501e-05, grad_fn=<DivBackward0>) tensor(0.1689, grad_fn=<StdBackward0>)\n",
      "tensor(0.0082, grad_fn=<SelectBackward0>) tensor(5.4572e-05, grad_fn=<DivBackward0>) tensor(0.1690, grad_fn=<StdBackward0>)\n",
      "tensor(0.0083, grad_fn=<SelectBackward0>) tensor(5.4645e-05, grad_fn=<DivBackward0>) tensor(0.1691, grad_fn=<StdBackward0>)\n",
      "tensor(0.0084, grad_fn=<SelectBackward0>) tensor(5.4719e-05, grad_fn=<DivBackward0>) tensor(0.1692, grad_fn=<StdBackward0>)\n",
      "tensor(0.0085, grad_fn=<SelectBackward0>) tensor(5.4795e-05, grad_fn=<DivBackward0>) tensor(0.1692, grad_fn=<StdBackward0>)\n",
      "tensor(0.0086, grad_fn=<SelectBackward0>) tensor(5.4873e-05, grad_fn=<DivBackward0>) tensor(0.1693, grad_fn=<StdBackward0>)\n",
      "tensor(0.0087, grad_fn=<SelectBackward0>) tensor(5.4953e-05, grad_fn=<DivBackward0>) tensor(0.1694, grad_fn=<StdBackward0>)\n",
      "tensor(0.0088, grad_fn=<SelectBackward0>) tensor(5.5034e-05, grad_fn=<DivBackward0>) tensor(0.1695, grad_fn=<StdBackward0>)\n",
      "tensor(0.0089, grad_fn=<SelectBackward0>) tensor(5.5118e-05, grad_fn=<DivBackward0>) tensor(0.1696, grad_fn=<StdBackward0>)\n",
      "tensor(0.0090, grad_fn=<SelectBackward0>) tensor(5.5204e-05, grad_fn=<DivBackward0>) tensor(0.1697, grad_fn=<StdBackward0>)\n",
      "tensor(0.0091, grad_fn=<SelectBackward0>) tensor(5.5292e-05, grad_fn=<DivBackward0>) tensor(0.1698, grad_fn=<StdBackward0>)\n",
      "tensor(0.0092, grad_fn=<SelectBackward0>) tensor(5.5382e-05, grad_fn=<DivBackward0>) tensor(0.1699, grad_fn=<StdBackward0>)\n",
      "tensor(0.0093, grad_fn=<SelectBackward0>) tensor(5.5472e-05, grad_fn=<DivBackward0>) tensor(0.1700, grad_fn=<StdBackward0>)\n",
      "tensor(0.0093, grad_fn=<SelectBackward0>) tensor(5.5564e-05, grad_fn=<DivBackward0>) tensor(0.1701, grad_fn=<StdBackward0>)\n",
      "tensor(0.0094, grad_fn=<SelectBackward0>) tensor(5.5656e-05, grad_fn=<DivBackward0>) tensor(0.1702, grad_fn=<StdBackward0>)\n",
      "tensor(0.0095, grad_fn=<SelectBackward0>) tensor(5.5750e-05, grad_fn=<DivBackward0>) tensor(0.1704, grad_fn=<StdBackward0>)\n",
      "tensor(0.0096, grad_fn=<SelectBackward0>) tensor(5.5847e-05, grad_fn=<DivBackward0>) tensor(0.1705, grad_fn=<StdBackward0>)\n",
      "tensor(0.0097, grad_fn=<SelectBackward0>) tensor(5.5945e-05, grad_fn=<DivBackward0>) tensor(0.1706, grad_fn=<StdBackward0>)\n",
      "tensor(0.0098, grad_fn=<SelectBackward0>) tensor(5.6045e-05, grad_fn=<DivBackward0>) tensor(0.1707, grad_fn=<StdBackward0>)\n",
      "tensor(0.0098, grad_fn=<SelectBackward0>) tensor(5.6147e-05, grad_fn=<DivBackward0>) tensor(0.1708, grad_fn=<StdBackward0>)\n",
      "tensor(0.0099, grad_fn=<SelectBackward0>) tensor(5.6251e-05, grad_fn=<DivBackward0>) tensor(0.1709, grad_fn=<StdBackward0>)\n",
      "tensor(0.0100, grad_fn=<SelectBackward0>) tensor(5.6357e-05, grad_fn=<DivBackward0>) tensor(0.1711, grad_fn=<StdBackward0>)\n",
      "tensor(0.0101, grad_fn=<SelectBackward0>) tensor(5.6465e-05, grad_fn=<DivBackward0>) tensor(0.1712, grad_fn=<StdBackward0>)\n",
      "tensor(0.0101, grad_fn=<SelectBackward0>) tensor(5.6575e-05, grad_fn=<DivBackward0>) tensor(0.1713, grad_fn=<StdBackward0>)\n",
      "tensor(0.0102, grad_fn=<SelectBackward0>) tensor(5.6688e-05, grad_fn=<DivBackward0>) tensor(0.1714, grad_fn=<StdBackward0>)\n",
      "tensor(0.0103, grad_fn=<SelectBackward0>) tensor(5.6805e-05, grad_fn=<DivBackward0>) tensor(0.1716, grad_fn=<StdBackward0>)\n",
      "tensor(0.0104, grad_fn=<SelectBackward0>) tensor(5.6927e-05, grad_fn=<DivBackward0>) tensor(0.1717, grad_fn=<StdBackward0>)\n",
      "tensor(0.0105, grad_fn=<SelectBackward0>) tensor(5.7050e-05, grad_fn=<DivBackward0>) tensor(0.1719, grad_fn=<StdBackward0>)\n",
      "tensor(0.0105, grad_fn=<SelectBackward0>) tensor(5.7178e-05, grad_fn=<DivBackward0>) tensor(0.1720, grad_fn=<StdBackward0>)\n",
      "tensor(0.0106, grad_fn=<SelectBackward0>) tensor(5.7310e-05, grad_fn=<DivBackward0>) tensor(0.1722, grad_fn=<StdBackward0>)\n",
      "tensor(0.0107, grad_fn=<SelectBackward0>) tensor(5.7444e-05, grad_fn=<DivBackward0>) tensor(0.1723, grad_fn=<StdBackward0>)\n",
      "tensor(0.0108, grad_fn=<SelectBackward0>) tensor(5.7582e-05, grad_fn=<DivBackward0>) tensor(0.1725, grad_fn=<StdBackward0>)\n",
      "tensor(0.0108, grad_fn=<SelectBackward0>) tensor(5.7725e-05, grad_fn=<DivBackward0>) tensor(0.1726, grad_fn=<StdBackward0>)\n",
      "tensor(0.0109, grad_fn=<SelectBackward0>) tensor(5.7872e-05, grad_fn=<DivBackward0>) tensor(0.1728, grad_fn=<StdBackward0>)\n",
      "tensor(0.0110, grad_fn=<SelectBackward0>) tensor(5.8022e-05, grad_fn=<DivBackward0>) tensor(0.1730, grad_fn=<StdBackward0>)\n",
      "tensor(0.0111, grad_fn=<SelectBackward0>) tensor(5.8177e-05, grad_fn=<DivBackward0>) tensor(0.1731, grad_fn=<StdBackward0>)\n",
      "tensor(0.0111, grad_fn=<SelectBackward0>) tensor(5.8336e-05, grad_fn=<DivBackward0>) tensor(0.1733, grad_fn=<StdBackward0>)\n",
      "tensor(0.0112, grad_fn=<SelectBackward0>) tensor(5.8497e-05, grad_fn=<DivBackward0>) tensor(0.1735, grad_fn=<StdBackward0>)\n",
      "tensor(0.0113, grad_fn=<SelectBackward0>) tensor(5.8664e-05, grad_fn=<DivBackward0>) tensor(0.1737, grad_fn=<StdBackward0>)\n",
      "tensor(0.0114, grad_fn=<SelectBackward0>) tensor(5.8838e-05, grad_fn=<DivBackward0>) tensor(0.1739, grad_fn=<StdBackward0>)\n",
      "tensor(0.0114, grad_fn=<SelectBackward0>) tensor(5.9020e-05, grad_fn=<DivBackward0>) tensor(0.1741, grad_fn=<StdBackward0>)\n",
      "tensor(0.0115, grad_fn=<SelectBackward0>) tensor(5.9208e-05, grad_fn=<DivBackward0>) tensor(0.1743, grad_fn=<StdBackward0>)\n",
      "tensor(0.0116, grad_fn=<SelectBackward0>) tensor(5.9402e-05, grad_fn=<DivBackward0>) tensor(0.1745, grad_fn=<StdBackward0>)\n",
      "tensor(0.0117, grad_fn=<SelectBackward0>) tensor(5.9602e-05, grad_fn=<DivBackward0>) tensor(0.1747, grad_fn=<StdBackward0>)\n",
      "tensor(0.0118, grad_fn=<SelectBackward0>) tensor(5.9807e-05, grad_fn=<DivBackward0>) tensor(0.1750, grad_fn=<StdBackward0>)\n",
      "tensor(0.0118, grad_fn=<SelectBackward0>) tensor(6.0020e-05, grad_fn=<DivBackward0>) tensor(0.1752, grad_fn=<StdBackward0>)\n",
      "tensor(0.0119, grad_fn=<SelectBackward0>) tensor(6.0241e-05, grad_fn=<DivBackward0>) tensor(0.1754, grad_fn=<StdBackward0>)\n",
      "tensor(0.0120, grad_fn=<SelectBackward0>) tensor(6.0471e-05, grad_fn=<DivBackward0>) tensor(0.1757, grad_fn=<StdBackward0>)\n",
      "tensor(0.0121, grad_fn=<SelectBackward0>) tensor(6.0713e-05, grad_fn=<DivBackward0>) tensor(0.1760, grad_fn=<StdBackward0>)\n",
      "tensor(0.0122, grad_fn=<SelectBackward0>) tensor(6.0963e-05, grad_fn=<DivBackward0>) tensor(0.1762, grad_fn=<StdBackward0>)\n",
      "tensor(0.0123, grad_fn=<SelectBackward0>) tensor(6.1223e-05, grad_fn=<DivBackward0>) tensor(0.1765, grad_fn=<StdBackward0>)\n",
      "tensor(0.0124, grad_fn=<SelectBackward0>) tensor(6.1493e-05, grad_fn=<DivBackward0>) tensor(0.1768, grad_fn=<StdBackward0>)\n",
      "tensor(0.0124, grad_fn=<SelectBackward0>) tensor(6.1771e-05, grad_fn=<DivBackward0>) tensor(0.1771, grad_fn=<StdBackward0>)\n",
      "tensor(0.0125, grad_fn=<SelectBackward0>) tensor(6.2059e-05, grad_fn=<DivBackward0>) tensor(0.1774, grad_fn=<StdBackward0>)\n",
      "tensor(0.0126, grad_fn=<SelectBackward0>) tensor(6.2362e-05, grad_fn=<DivBackward0>) tensor(0.1777, grad_fn=<StdBackward0>)\n",
      "tensor(0.0127, grad_fn=<SelectBackward0>) tensor(6.2680e-05, grad_fn=<DivBackward0>) tensor(0.1781, grad_fn=<StdBackward0>)\n",
      "tensor(0.0128, grad_fn=<SelectBackward0>) tensor(6.3015e-05, grad_fn=<DivBackward0>) tensor(0.1784, grad_fn=<StdBackward0>)\n",
      "tensor(0.0130, grad_fn=<SelectBackward0>) tensor(6.3364e-05, grad_fn=<DivBackward0>) tensor(0.1788, grad_fn=<StdBackward0>)\n",
      "tensor(0.0131, grad_fn=<SelectBackward0>) tensor(6.3729e-05, grad_fn=<DivBackward0>) tensor(0.1792, grad_fn=<StdBackward0>)\n",
      "tensor(0.0132, grad_fn=<SelectBackward0>) tensor(6.4110e-05, grad_fn=<DivBackward0>) tensor(0.1796, grad_fn=<StdBackward0>)\n",
      "tensor(0.0133, grad_fn=<SelectBackward0>) tensor(6.4507e-05, grad_fn=<DivBackward0>) tensor(0.1800, grad_fn=<StdBackward0>)\n",
      "tensor(0.0134, grad_fn=<SelectBackward0>) tensor(6.4923e-05, grad_fn=<DivBackward0>) tensor(0.1804, grad_fn=<StdBackward0>)\n",
      "tensor(0.0136, grad_fn=<SelectBackward0>) tensor(6.5358e-05, grad_fn=<DivBackward0>) tensor(0.1809, grad_fn=<StdBackward0>)\n",
      "tensor(0.0137, grad_fn=<SelectBackward0>) tensor(6.5809e-05, grad_fn=<DivBackward0>) tensor(0.1814, grad_fn=<StdBackward0>)\n",
      "tensor(0.0138, grad_fn=<SelectBackward0>) tensor(6.6281e-05, grad_fn=<DivBackward0>) tensor(0.1819, grad_fn=<StdBackward0>)\n",
      "tensor(0.0140, grad_fn=<SelectBackward0>) tensor(6.6772e-05, grad_fn=<DivBackward0>) tensor(0.1824, grad_fn=<StdBackward0>)\n",
      "tensor(0.0141, grad_fn=<SelectBackward0>) tensor(6.7284e-05, grad_fn=<DivBackward0>) tensor(0.1829, grad_fn=<StdBackward0>)\n",
      "tensor(0.0143, grad_fn=<SelectBackward0>) tensor(6.7818e-05, grad_fn=<DivBackward0>) tensor(0.1834, grad_fn=<StdBackward0>)\n",
      "tensor(0.0145, grad_fn=<SelectBackward0>) tensor(6.8371e-05, grad_fn=<DivBackward0>) tensor(0.1840, grad_fn=<StdBackward0>)\n",
      "tensor(0.0147, grad_fn=<SelectBackward0>) tensor(6.8947e-05, grad_fn=<DivBackward0>) tensor(0.1846, grad_fn=<StdBackward0>)\n",
      "tensor(0.0149, grad_fn=<SelectBackward0>) tensor(6.9541e-05, grad_fn=<DivBackward0>) tensor(0.1852, grad_fn=<StdBackward0>)\n",
      "tensor(0.0151, grad_fn=<SelectBackward0>) tensor(7.0156e-05, grad_fn=<DivBackward0>) tensor(0.1859, grad_fn=<StdBackward0>)\n",
      "tensor(0.0153, grad_fn=<SelectBackward0>) tensor(7.0790e-05, grad_fn=<DivBackward0>) tensor(0.1865, grad_fn=<StdBackward0>)\n",
      "tensor(0.0155, grad_fn=<SelectBackward0>) tensor(7.1444e-05, grad_fn=<DivBackward0>) tensor(0.1872, grad_fn=<StdBackward0>)\n",
      "tensor(0.0157, grad_fn=<SelectBackward0>) tensor(7.2114e-05, grad_fn=<DivBackward0>) tensor(0.1879, grad_fn=<StdBackward0>)\n",
      "tensor(0.0160, grad_fn=<SelectBackward0>) tensor(7.2802e-05, grad_fn=<DivBackward0>) tensor(0.1886, grad_fn=<StdBackward0>)\n",
      "tensor(0.0162, grad_fn=<SelectBackward0>) tensor(7.3505e-05, grad_fn=<DivBackward0>) tensor(0.1893, grad_fn=<StdBackward0>)\n",
      "tensor(0.0165, grad_fn=<SelectBackward0>) tensor(7.4228e-05, grad_fn=<DivBackward0>) tensor(0.1900, grad_fn=<StdBackward0>)\n",
      "tensor(0.0167, grad_fn=<SelectBackward0>) tensor(7.4966e-05, grad_fn=<DivBackward0>) tensor(0.1908, grad_fn=<StdBackward0>)\n",
      "tensor(0.0170, grad_fn=<SelectBackward0>) tensor(7.5721e-05, grad_fn=<DivBackward0>) tensor(0.1916, grad_fn=<StdBackward0>)\n",
      "tensor(0.0173, grad_fn=<SelectBackward0>) tensor(7.6488e-05, grad_fn=<DivBackward0>) tensor(0.1924, grad_fn=<StdBackward0>)\n",
      "tensor(0.0176, grad_fn=<SelectBackward0>) tensor(7.7268e-05, grad_fn=<DivBackward0>) tensor(0.1932, grad_fn=<StdBackward0>)\n",
      "tensor(0.0179, grad_fn=<SelectBackward0>) tensor(7.8053e-05, grad_fn=<DivBackward0>) tensor(0.1940, grad_fn=<StdBackward0>)\n",
      "tensor(0.0182, grad_fn=<SelectBackward0>) tensor(7.8854e-05, grad_fn=<DivBackward0>) tensor(0.1948, grad_fn=<StdBackward0>)\n",
      "tensor(0.0185, grad_fn=<SelectBackward0>) tensor(7.9656e-05, grad_fn=<DivBackward0>) tensor(0.1956, grad_fn=<StdBackward0>)\n",
      "tensor(0.0189, grad_fn=<SelectBackward0>) tensor(8.0470e-05, grad_fn=<DivBackward0>) tensor(0.1965, grad_fn=<StdBackward0>)\n",
      "tensor(0.0192, grad_fn=<SelectBackward0>) tensor(8.1292e-05, grad_fn=<DivBackward0>) tensor(0.1973, grad_fn=<StdBackward0>)\n",
      "tensor(0.0196, grad_fn=<SelectBackward0>) tensor(8.2124e-05, grad_fn=<DivBackward0>) tensor(0.1982, grad_fn=<StdBackward0>)\n",
      "tensor(0.0199, grad_fn=<SelectBackward0>) tensor(8.2962e-05, grad_fn=<DivBackward0>) tensor(0.1990, grad_fn=<StdBackward0>)\n",
      "tensor(0.0203, grad_fn=<SelectBackward0>) tensor(8.3804e-05, grad_fn=<DivBackward0>) tensor(0.1999, grad_fn=<StdBackward0>)\n",
      "tensor(0.0207, grad_fn=<SelectBackward0>) tensor(8.4648e-05, grad_fn=<DivBackward0>) tensor(0.2008, grad_fn=<StdBackward0>)\n",
      "tensor(0.0211, grad_fn=<SelectBackward0>) tensor(8.5497e-05, grad_fn=<DivBackward0>) tensor(0.2017, grad_fn=<StdBackward0>)\n",
      "tensor(0.0215, grad_fn=<SelectBackward0>) tensor(8.6352e-05, grad_fn=<DivBackward0>) tensor(0.2026, grad_fn=<StdBackward0>)\n",
      "tensor(0.0219, grad_fn=<SelectBackward0>) tensor(8.7212e-05, grad_fn=<DivBackward0>) tensor(0.2035, grad_fn=<StdBackward0>)\n",
      "tensor(0.0224, grad_fn=<SelectBackward0>) tensor(8.8080e-05, grad_fn=<DivBackward0>) tensor(0.2045, grad_fn=<StdBackward0>)\n",
      "tensor(0.0228, grad_fn=<SelectBackward0>) tensor(8.8953e-05, grad_fn=<DivBackward0>) tensor(0.2054, grad_fn=<StdBackward0>)\n",
      "tensor(0.0233, grad_fn=<SelectBackward0>) tensor(8.9827e-05, grad_fn=<DivBackward0>) tensor(0.2063, grad_fn=<StdBackward0>)\n",
      "tensor(0.0238, grad_fn=<SelectBackward0>) tensor(9.0710e-05, grad_fn=<DivBackward0>) tensor(0.2073, grad_fn=<StdBackward0>)\n",
      "tensor(0.0243, grad_fn=<SelectBackward0>) tensor(9.1596e-05, grad_fn=<DivBackward0>) tensor(0.2082, grad_fn=<StdBackward0>)\n",
      "tensor(0.0248, grad_fn=<SelectBackward0>) tensor(9.2489e-05, grad_fn=<DivBackward0>) tensor(0.2091, grad_fn=<StdBackward0>)\n",
      "tensor(0.0254, grad_fn=<SelectBackward0>) tensor(9.3383e-05, grad_fn=<DivBackward0>) tensor(0.2101, grad_fn=<StdBackward0>)\n",
      "tensor(0.0260, grad_fn=<SelectBackward0>) tensor(9.4266e-05, grad_fn=<DivBackward0>) tensor(0.2110, grad_fn=<StdBackward0>)\n",
      "tensor(0.0266, grad_fn=<SelectBackward0>) tensor(9.5148e-05, grad_fn=<DivBackward0>) tensor(0.2119, grad_fn=<StdBackward0>)\n",
      "tensor(0.0273, grad_fn=<SelectBackward0>) tensor(9.6036e-05, grad_fn=<DivBackward0>) tensor(0.2128, grad_fn=<StdBackward0>)\n",
      "tensor(0.0280, grad_fn=<SelectBackward0>) tensor(9.6923e-05, grad_fn=<DivBackward0>) tensor(0.2137, grad_fn=<StdBackward0>)\n",
      "tensor(0.0287, grad_fn=<SelectBackward0>) tensor(9.7804e-05, grad_fn=<DivBackward0>) tensor(0.2145, grad_fn=<StdBackward0>)\n",
      "tensor(0.0294, grad_fn=<SelectBackward0>) tensor(9.8682e-05, grad_fn=<DivBackward0>) tensor(0.2153, grad_fn=<StdBackward0>)\n",
      "tensor(0.0301, grad_fn=<SelectBackward0>) tensor(9.9557e-05, grad_fn=<DivBackward0>) tensor(0.2161, grad_fn=<StdBackward0>)\n",
      "tensor(0.0308, grad_fn=<SelectBackward0>) tensor(0.0001, grad_fn=<DivBackward0>) tensor(0.2169, grad_fn=<StdBackward0>)\n",
      "tensor(0.0315, grad_fn=<SelectBackward0>) tensor(0.0001, grad_fn=<DivBackward0>) tensor(0.2176, grad_fn=<StdBackward0>)\n",
      "tensor(0.0321, grad_fn=<SelectBackward0>) tensor(0.0001, grad_fn=<DivBackward0>) tensor(0.2183, grad_fn=<StdBackward0>)\n",
      "tensor(0.0326, grad_fn=<SelectBackward0>) tensor(0.0001, grad_fn=<DivBackward0>) tensor(0.2190, grad_fn=<StdBackward0>)\n",
      "tensor(0.0330, grad_fn=<SelectBackward0>) tensor(0.0001, grad_fn=<DivBackward0>) tensor(0.2196, grad_fn=<StdBackward0>)\n",
      "tensor(0.0334, grad_fn=<SelectBackward0>) tensor(0.0001, grad_fn=<DivBackward0>) tensor(0.2201, grad_fn=<StdBackward0>)\n",
      "tensor(0.0338, grad_fn=<SelectBackward0>) tensor(0.0001, grad_fn=<DivBackward0>) tensor(0.2207, grad_fn=<StdBackward0>)\n",
      "tensor(0.0343, grad_fn=<SelectBackward0>) tensor(0.0001, grad_fn=<DivBackward0>) tensor(0.2212, grad_fn=<StdBackward0>)\n",
      "tensor(0.0347, grad_fn=<SelectBackward0>) tensor(0.0001, grad_fn=<DivBackward0>) tensor(0.2218, grad_fn=<StdBackward0>)\n",
      "tensor(0.0351, grad_fn=<SelectBackward0>) tensor(0.0001, grad_fn=<DivBackward0>) tensor(0.2224, grad_fn=<StdBackward0>)\n",
      "tensor(0.0355, grad_fn=<SelectBackward0>) tensor(0.0001, grad_fn=<DivBackward0>) tensor(0.2229, grad_fn=<StdBackward0>)\n",
      "tensor(0.0359, grad_fn=<SelectBackward0>) tensor(0.0001, grad_fn=<DivBackward0>) tensor(0.2235, grad_fn=<StdBackward0>)\n",
      "tensor(0.0364, grad_fn=<SelectBackward0>) tensor(0.0001, grad_fn=<DivBackward0>) tensor(0.2241, grad_fn=<StdBackward0>)\n",
      "tensor(0.0368, grad_fn=<SelectBackward0>) tensor(0.0001, grad_fn=<DivBackward0>) tensor(0.2246, grad_fn=<StdBackward0>)\n",
      "tensor(0.0372, grad_fn=<SelectBackward0>) tensor(0.0001, grad_fn=<DivBackward0>) tensor(0.2252, grad_fn=<StdBackward0>)\n",
      "tensor(0.0376, grad_fn=<SelectBackward0>) tensor(0.0001, grad_fn=<DivBackward0>) tensor(0.2258, grad_fn=<StdBackward0>)\n",
      "tensor(0.0380, grad_fn=<SelectBackward0>) tensor(0.0001, grad_fn=<DivBackward0>) tensor(0.2263, grad_fn=<StdBackward0>)\n",
      "tensor(0.0384, grad_fn=<SelectBackward0>) tensor(0.0001, grad_fn=<DivBackward0>) tensor(0.2269, grad_fn=<StdBackward0>)\n",
      "tensor(0.0388, grad_fn=<SelectBackward0>) tensor(0.0001, grad_fn=<DivBackward0>) tensor(0.2275, grad_fn=<StdBackward0>)\n",
      "tensor(0.0392, grad_fn=<SelectBackward0>) tensor(0.0001, grad_fn=<DivBackward0>) tensor(0.2280, grad_fn=<StdBackward0>)\n",
      "tensor(0.0396, grad_fn=<SelectBackward0>) tensor(0.0001, grad_fn=<DivBackward0>) tensor(0.2286, grad_fn=<StdBackward0>)\n",
      "tensor(0.0400, grad_fn=<SelectBackward0>) tensor(0.0001, grad_fn=<DivBackward0>) tensor(0.2292, grad_fn=<StdBackward0>)\n",
      "tensor(0.0404, grad_fn=<SelectBackward0>) tensor(0.0001, grad_fn=<DivBackward0>) tensor(0.2297, grad_fn=<StdBackward0>)\n",
      "tensor(0.0408, grad_fn=<SelectBackward0>) tensor(0.0001, grad_fn=<DivBackward0>) tensor(0.2303, grad_fn=<StdBackward0>)\n",
      "tensor(0.0411, grad_fn=<SelectBackward0>) tensor(0.0001, grad_fn=<DivBackward0>) tensor(0.2309, grad_fn=<StdBackward0>)\n",
      "tensor(0.0415, grad_fn=<SelectBackward0>) tensor(0.0001, grad_fn=<DivBackward0>) tensor(0.2315, grad_fn=<StdBackward0>)\n",
      "tensor(0.0419, grad_fn=<SelectBackward0>) tensor(0.0001, grad_fn=<DivBackward0>) tensor(0.2320, grad_fn=<StdBackward0>)\n",
      "tensor(0.0423, grad_fn=<SelectBackward0>) tensor(0.0001, grad_fn=<DivBackward0>) tensor(0.2326, grad_fn=<StdBackward0>)\n",
      "tensor(0.0427, grad_fn=<SelectBackward0>) tensor(0.0001, grad_fn=<DivBackward0>) tensor(0.2332, grad_fn=<StdBackward0>)\n",
      "tensor(0.0431, grad_fn=<SelectBackward0>) tensor(0.0001, grad_fn=<DivBackward0>) tensor(0.2338, grad_fn=<StdBackward0>)\n",
      "tensor(0.0435, grad_fn=<SelectBackward0>) tensor(0.0001, grad_fn=<DivBackward0>) tensor(0.2343, grad_fn=<StdBackward0>)\n",
      "tensor(0.0439, grad_fn=<SelectBackward0>) tensor(0.0001, grad_fn=<DivBackward0>) tensor(0.2349, grad_fn=<StdBackward0>)\n",
      "tensor(0.0443, grad_fn=<SelectBackward0>) tensor(0.0001, grad_fn=<DivBackward0>) tensor(0.2355, grad_fn=<StdBackward0>)\n",
      "tensor(0.0446, grad_fn=<SelectBackward0>) tensor(0.0001, grad_fn=<DivBackward0>) tensor(0.2360, grad_fn=<StdBackward0>)\n",
      "tensor(0.0450, grad_fn=<SelectBackward0>) tensor(0.0001, grad_fn=<DivBackward0>) tensor(0.2366, grad_fn=<StdBackward0>)\n",
      "tensor(0.0454, grad_fn=<SelectBackward0>) tensor(0.0001, grad_fn=<DivBackward0>) tensor(0.2372, grad_fn=<StdBackward0>)\n",
      "tensor(0.0458, grad_fn=<SelectBackward0>) tensor(0.0001, grad_fn=<DivBackward0>) tensor(0.2377, grad_fn=<StdBackward0>)\n",
      "tensor(0.0462, grad_fn=<SelectBackward0>) tensor(0.0001, grad_fn=<DivBackward0>) tensor(0.2383, grad_fn=<StdBackward0>)\n",
      "tensor(0.0466, grad_fn=<SelectBackward0>) tensor(0.0001, grad_fn=<DivBackward0>) tensor(0.2389, grad_fn=<StdBackward0>)\n",
      "tensor(0.0470, grad_fn=<SelectBackward0>) tensor(0.0001, grad_fn=<DivBackward0>) tensor(0.2395, grad_fn=<StdBackward0>)\n",
      "tensor(0.0473, grad_fn=<SelectBackward0>) tensor(0.0001, grad_fn=<DivBackward0>) tensor(0.2400, grad_fn=<StdBackward0>)\n",
      "tensor(0.0477, grad_fn=<SelectBackward0>) tensor(0.0001, grad_fn=<DivBackward0>) tensor(0.2406, grad_fn=<StdBackward0>)\n",
      "tensor(0.0481, grad_fn=<SelectBackward0>) tensor(0.0001, grad_fn=<DivBackward0>) tensor(0.2412, grad_fn=<StdBackward0>)\n",
      "tensor(0.0485, grad_fn=<SelectBackward0>) tensor(0.0001, grad_fn=<DivBackward0>) tensor(0.2418, grad_fn=<StdBackward0>)\n",
      "tensor(0.0489, grad_fn=<SelectBackward0>) tensor(0.0001, grad_fn=<DivBackward0>) tensor(0.2423, grad_fn=<StdBackward0>)\n",
      "tensor(0.0493, grad_fn=<SelectBackward0>) tensor(0.0001, grad_fn=<DivBackward0>) tensor(0.2429, grad_fn=<StdBackward0>)\n",
      "tensor(0.0496, grad_fn=<SelectBackward0>) tensor(0.0001, grad_fn=<DivBackward0>) tensor(0.2435, grad_fn=<StdBackward0>)\n",
      "tensor(0.0500, grad_fn=<SelectBackward0>) tensor(0.0001, grad_fn=<DivBackward0>) tensor(0.2440, grad_fn=<StdBackward0>)\n",
      "tensor(0.0504, grad_fn=<SelectBackward0>) tensor(0.0001, grad_fn=<DivBackward0>) tensor(0.2446, grad_fn=<StdBackward0>)\n",
      "tensor(0.0508, grad_fn=<SelectBackward0>) tensor(0.0001, grad_fn=<DivBackward0>) tensor(0.2452, grad_fn=<StdBackward0>)\n",
      "tensor(0.0511, grad_fn=<SelectBackward0>) tensor(0.0001, grad_fn=<DivBackward0>) tensor(0.2458, grad_fn=<StdBackward0>)\n",
      "tensor(0.0515, grad_fn=<SelectBackward0>) tensor(0.0001, grad_fn=<DivBackward0>) tensor(0.2463, grad_fn=<StdBackward0>)\n",
      "tensor(0.0519, grad_fn=<SelectBackward0>) tensor(0.0001, grad_fn=<DivBackward0>) tensor(0.2469, grad_fn=<StdBackward0>)\n",
      "tensor(0.0523, grad_fn=<SelectBackward0>) tensor(0.0002, grad_fn=<DivBackward0>) tensor(0.2474, grad_fn=<StdBackward0>)\n",
      "tensor(0.0526, grad_fn=<SelectBackward0>) tensor(0.0002, grad_fn=<DivBackward0>) tensor(0.2480, grad_fn=<StdBackward0>)\n",
      "tensor(0.0530, grad_fn=<SelectBackward0>) tensor(0.0002, grad_fn=<DivBackward0>) tensor(0.2485, grad_fn=<StdBackward0>)\n",
      "tensor(0.0534, grad_fn=<SelectBackward0>) tensor(0.0002, grad_fn=<DivBackward0>) tensor(0.2491, grad_fn=<StdBackward0>)\n",
      "tensor(0.0538, grad_fn=<SelectBackward0>) tensor(0.0002, grad_fn=<DivBackward0>) tensor(0.2496, grad_fn=<StdBackward0>)\n",
      "tensor(0.0542, grad_fn=<SelectBackward0>) tensor(0.0002, grad_fn=<DivBackward0>) tensor(0.2502, grad_fn=<StdBackward0>)\n",
      "tensor(0.0545, grad_fn=<SelectBackward0>) tensor(0.0002, grad_fn=<DivBackward0>) tensor(0.2508, grad_fn=<StdBackward0>)\n",
      "tensor(0.0549, grad_fn=<SelectBackward0>) tensor(0.0002, grad_fn=<DivBackward0>) tensor(0.2513, grad_fn=<StdBackward0>)\n",
      "tensor(0.0553, grad_fn=<SelectBackward0>) tensor(0.0002, grad_fn=<DivBackward0>) tensor(0.2519, grad_fn=<StdBackward0>)\n",
      "tensor(0.0557, grad_fn=<SelectBackward0>) tensor(0.0002, grad_fn=<DivBackward0>) tensor(0.2524, grad_fn=<StdBackward0>)\n",
      "tensor(0.0560, grad_fn=<SelectBackward0>) tensor(0.0002, grad_fn=<DivBackward0>) tensor(0.2530, grad_fn=<StdBackward0>)\n",
      "tensor(0.0564, grad_fn=<SelectBackward0>) tensor(0.0002, grad_fn=<DivBackward0>) tensor(0.2535, grad_fn=<StdBackward0>)\n",
      "tensor(0.0568, grad_fn=<SelectBackward0>) tensor(0.0002, grad_fn=<DivBackward0>) tensor(0.2540, grad_fn=<StdBackward0>)\n",
      "tensor(0.0571, grad_fn=<SelectBackward0>) tensor(0.0002, grad_fn=<DivBackward0>) tensor(0.2546, grad_fn=<StdBackward0>)\n",
      "tensor(0.0575, grad_fn=<SelectBackward0>) tensor(0.0002, grad_fn=<DivBackward0>) tensor(0.2551, grad_fn=<StdBackward0>)\n",
      "tensor(0.0579, grad_fn=<SelectBackward0>) tensor(0.0002, grad_fn=<DivBackward0>) tensor(0.2556, grad_fn=<StdBackward0>)\n",
      "tensor(0.0583, grad_fn=<SelectBackward0>) tensor(0.0002, grad_fn=<DivBackward0>) tensor(0.2561, grad_fn=<StdBackward0>)\n",
      "tensor(0.0586, grad_fn=<SelectBackward0>) tensor(0.0002, grad_fn=<DivBackward0>) tensor(0.2567, grad_fn=<StdBackward0>)\n",
      "tensor(0.0590, grad_fn=<SelectBackward0>) tensor(0.0002, grad_fn=<DivBackward0>) tensor(0.2572, grad_fn=<StdBackward0>)\n",
      "tensor(0.0594, grad_fn=<SelectBackward0>) tensor(0.0002, grad_fn=<DivBackward0>) tensor(0.2577, grad_fn=<StdBackward0>)\n",
      "tensor(0.0598, grad_fn=<SelectBackward0>) tensor(0.0002, grad_fn=<DivBackward0>) tensor(0.2582, grad_fn=<StdBackward0>)\n",
      "tensor(0.0601, grad_fn=<SelectBackward0>) tensor(0.0002, grad_fn=<DivBackward0>) tensor(0.2587, grad_fn=<StdBackward0>)\n",
      "tensor(0.0605, grad_fn=<SelectBackward0>) tensor(0.0002, grad_fn=<DivBackward0>) tensor(0.2591, grad_fn=<StdBackward0>)\n",
      "tensor(0.0609, grad_fn=<SelectBackward0>) tensor(0.0002, grad_fn=<DivBackward0>) tensor(0.2596, grad_fn=<StdBackward0>)\n",
      "tensor(0.0612, grad_fn=<SelectBackward0>) tensor(0.0002, grad_fn=<DivBackward0>) tensor(0.2601, grad_fn=<StdBackward0>)\n",
      "tensor(0.0616, grad_fn=<SelectBackward0>) tensor(0.0002, grad_fn=<DivBackward0>) tensor(0.2606, grad_fn=<StdBackward0>)\n",
      "tensor(0.0620, grad_fn=<SelectBackward0>) tensor(0.0002, grad_fn=<DivBackward0>) tensor(0.2610, grad_fn=<StdBackward0>)\n",
      "tensor(0.0623, grad_fn=<SelectBackward0>) tensor(0.0002, grad_fn=<DivBackward0>) tensor(0.2615, grad_fn=<StdBackward0>)\n",
      "tensor(0.0627, grad_fn=<SelectBackward0>) tensor(0.0002, grad_fn=<DivBackward0>) tensor(0.2619, grad_fn=<StdBackward0>)\n",
      "tensor(0.0631, grad_fn=<SelectBackward0>) tensor(0.0002, grad_fn=<DivBackward0>) tensor(0.2624, grad_fn=<StdBackward0>)\n",
      "tensor(0.0634, grad_fn=<SelectBackward0>) tensor(0.0002, grad_fn=<DivBackward0>) tensor(0.2628, grad_fn=<StdBackward0>)\n",
      "tensor(0.0638, grad_fn=<SelectBackward0>) tensor(0.0002, grad_fn=<DivBackward0>) tensor(0.2633, grad_fn=<StdBackward0>)\n",
      "tensor(0.0641, grad_fn=<SelectBackward0>) tensor(0.0002, grad_fn=<DivBackward0>) tensor(0.2637, grad_fn=<StdBackward0>)\n",
      "tensor(0.0645, grad_fn=<SelectBackward0>) tensor(0.0002, grad_fn=<DivBackward0>) tensor(0.2641, grad_fn=<StdBackward0>)\n",
      "tensor(0.0649, grad_fn=<SelectBackward0>) tensor(0.0002, grad_fn=<DivBackward0>) tensor(0.2645, grad_fn=<StdBackward0>)\n",
      "tensor(0.0652, grad_fn=<SelectBackward0>) tensor(0.0002, grad_fn=<DivBackward0>) tensor(0.2650, grad_fn=<StdBackward0>)\n",
      "tensor(0.0656, grad_fn=<SelectBackward0>) tensor(0.0002, grad_fn=<DivBackward0>) tensor(0.2653, grad_fn=<StdBackward0>)\n",
      "tensor(0.0659, grad_fn=<SelectBackward0>) tensor(0.0002, grad_fn=<DivBackward0>) tensor(0.2658, grad_fn=<StdBackward0>)\n",
      "tensor(0.0663, grad_fn=<SelectBackward0>) tensor(0.0002, grad_fn=<DivBackward0>) tensor(0.2661, grad_fn=<StdBackward0>)\n",
      "tensor(0.0666, grad_fn=<SelectBackward0>) tensor(0.0002, grad_fn=<DivBackward0>) tensor(0.2665, grad_fn=<StdBackward0>)\n",
      "tensor(0.0670, grad_fn=<SelectBackward0>) tensor(0.0002, grad_fn=<DivBackward0>) tensor(0.2669, grad_fn=<StdBackward0>)\n",
      "tensor(0.0673, grad_fn=<SelectBackward0>) tensor(0.0002, grad_fn=<DivBackward0>) tensor(0.2673, grad_fn=<StdBackward0>)\n",
      "tensor(0.0677, grad_fn=<SelectBackward0>) tensor(0.0002, grad_fn=<DivBackward0>) tensor(0.2676, grad_fn=<StdBackward0>)\n",
      "tensor(0.0680, grad_fn=<SelectBackward0>) tensor(0.0002, grad_fn=<DivBackward0>) tensor(0.2680, grad_fn=<StdBackward0>)\n",
      "tensor(0.0683, grad_fn=<SelectBackward0>) tensor(0.0002, grad_fn=<DivBackward0>) tensor(0.2684, grad_fn=<StdBackward0>)\n",
      "tensor(0.0687, grad_fn=<SelectBackward0>) tensor(0.0002, grad_fn=<DivBackward0>) tensor(0.2688, grad_fn=<StdBackward0>)\n",
      "tensor(0.0690, grad_fn=<SelectBackward0>) tensor(0.0002, grad_fn=<DivBackward0>) tensor(0.2691, grad_fn=<StdBackward0>)\n",
      "tensor(0.0694, grad_fn=<SelectBackward0>) tensor(0.0002, grad_fn=<DivBackward0>) tensor(0.2695, grad_fn=<StdBackward0>)\n",
      "tensor(0.0697, grad_fn=<SelectBackward0>) tensor(0.0002, grad_fn=<DivBackward0>) tensor(0.2698, grad_fn=<StdBackward0>)\n",
      "tensor(0.0700, grad_fn=<SelectBackward0>) tensor(0.0002, grad_fn=<DivBackward0>) tensor(0.2702, grad_fn=<StdBackward0>)\n",
      "tensor(0.0704, grad_fn=<SelectBackward0>) tensor(0.0002, grad_fn=<DivBackward0>) tensor(0.2705, grad_fn=<StdBackward0>)\n",
      "tensor(0.0707, grad_fn=<SelectBackward0>) tensor(0.0002, grad_fn=<DivBackward0>) tensor(0.2708, grad_fn=<StdBackward0>)\n",
      "tensor(0.0710, grad_fn=<SelectBackward0>) tensor(0.0002, grad_fn=<DivBackward0>) tensor(0.2712, grad_fn=<StdBackward0>)\n",
      "tensor(0.0714, grad_fn=<SelectBackward0>) tensor(0.0003, grad_fn=<DivBackward0>) tensor(0.2715, grad_fn=<StdBackward0>)\n",
      "tensor(0.0717, grad_fn=<SelectBackward0>) tensor(0.0003, grad_fn=<DivBackward0>) tensor(0.2718, grad_fn=<StdBackward0>)\n",
      "tensor(0.0720, grad_fn=<SelectBackward0>) tensor(0.0003, grad_fn=<DivBackward0>) tensor(0.2722, grad_fn=<StdBackward0>)\n",
      "tensor(0.0724, grad_fn=<SelectBackward0>) tensor(0.0003, grad_fn=<DivBackward0>) tensor(0.2725, grad_fn=<StdBackward0>)\n",
      "tensor(0.0727, grad_fn=<SelectBackward0>) tensor(0.0003, grad_fn=<DivBackward0>) tensor(0.2728, grad_fn=<StdBackward0>)\n",
      "tensor(0.0730, grad_fn=<SelectBackward0>) tensor(0.0003, grad_fn=<DivBackward0>) tensor(0.2731, grad_fn=<StdBackward0>)\n",
      "tensor(0.0733, grad_fn=<SelectBackward0>) tensor(0.0003, grad_fn=<DivBackward0>) tensor(0.2735, grad_fn=<StdBackward0>)\n",
      "tensor(0.0737, grad_fn=<SelectBackward0>) tensor(0.0003, grad_fn=<DivBackward0>) tensor(0.2738, grad_fn=<StdBackward0>)\n",
      "tensor(0.0740, grad_fn=<SelectBackward0>) tensor(0.0003, grad_fn=<DivBackward0>) tensor(0.2741, grad_fn=<StdBackward0>)\n",
      "tensor(0.0743, grad_fn=<SelectBackward0>) tensor(0.0003, grad_fn=<DivBackward0>) tensor(0.2744, grad_fn=<StdBackward0>)\n",
      "tensor(0.0746, grad_fn=<SelectBackward0>) tensor(0.0003, grad_fn=<DivBackward0>) tensor(0.2747, grad_fn=<StdBackward0>)\n",
      "tensor(0.0750, grad_fn=<SelectBackward0>) tensor(0.0003, grad_fn=<DivBackward0>) tensor(0.2750, grad_fn=<StdBackward0>)\n",
      "tensor(0.0753, grad_fn=<SelectBackward0>) tensor(0.0003, grad_fn=<DivBackward0>) tensor(0.2754, grad_fn=<StdBackward0>)\n",
      "tensor(0.0756, grad_fn=<SelectBackward0>) tensor(0.0003, grad_fn=<DivBackward0>) tensor(0.2756, grad_fn=<StdBackward0>)\n",
      "tensor(0.0759, grad_fn=<SelectBackward0>) tensor(0.0003, grad_fn=<DivBackward0>) tensor(0.2760, grad_fn=<StdBackward0>)\n",
      "tensor(0.0762, grad_fn=<SelectBackward0>) tensor(0.0003, grad_fn=<DivBackward0>) tensor(0.2762, grad_fn=<StdBackward0>)\n",
      "tensor(0.0766, grad_fn=<SelectBackward0>) tensor(0.0003, grad_fn=<DivBackward0>) tensor(0.2766, grad_fn=<StdBackward0>)\n",
      "tensor(0.0769, grad_fn=<SelectBackward0>) tensor(0.0003, grad_fn=<DivBackward0>) tensor(0.2769, grad_fn=<StdBackward0>)\n",
      "tensor(0.0772, grad_fn=<SelectBackward0>) tensor(0.0003, grad_fn=<DivBackward0>) tensor(0.2772, grad_fn=<StdBackward0>)\n",
      "tensor(0.0775, grad_fn=<SelectBackward0>) tensor(0.0003, grad_fn=<DivBackward0>) tensor(0.2775, grad_fn=<StdBackward0>)\n",
      "tensor(0.0778, grad_fn=<SelectBackward0>) tensor(0.0003, grad_fn=<DivBackward0>) tensor(0.2778, grad_fn=<StdBackward0>)\n",
      "tensor(0.0782, grad_fn=<SelectBackward0>) tensor(0.0003, grad_fn=<DivBackward0>) tensor(0.2781, grad_fn=<StdBackward0>)\n",
      "tensor(0.0785, grad_fn=<SelectBackward0>) tensor(0.0003, grad_fn=<DivBackward0>) tensor(0.2784, grad_fn=<StdBackward0>)\n",
      "tensor(0.0788, grad_fn=<SelectBackward0>) tensor(0.0003, grad_fn=<DivBackward0>) tensor(0.2787, grad_fn=<StdBackward0>)\n",
      "tensor(0.0791, grad_fn=<SelectBackward0>) tensor(0.0003, grad_fn=<DivBackward0>) tensor(0.2791, grad_fn=<StdBackward0>)\n",
      "tensor(0.0795, grad_fn=<SelectBackward0>) tensor(0.0003, grad_fn=<DivBackward0>) tensor(0.2794, grad_fn=<StdBackward0>)\n",
      "tensor(0.0798, grad_fn=<SelectBackward0>) tensor(0.0003, grad_fn=<DivBackward0>) tensor(0.2797, grad_fn=<StdBackward0>)\n",
      "tensor(0.0801, grad_fn=<SelectBackward0>) tensor(0.0003, grad_fn=<DivBackward0>) tensor(0.2800, grad_fn=<StdBackward0>)\n",
      "tensor(0.0805, grad_fn=<SelectBackward0>) tensor(0.0003, grad_fn=<DivBackward0>) tensor(0.2803, grad_fn=<StdBackward0>)\n",
      "tensor(0.0808, grad_fn=<SelectBackward0>) tensor(0.0003, grad_fn=<DivBackward0>) tensor(0.2806, grad_fn=<StdBackward0>)\n",
      "tensor(0.0811, grad_fn=<SelectBackward0>) tensor(0.0003, grad_fn=<DivBackward0>) tensor(0.2810, grad_fn=<StdBackward0>)\n",
      "tensor(0.0815, grad_fn=<SelectBackward0>) tensor(0.0003, grad_fn=<DivBackward0>) tensor(0.2813, grad_fn=<StdBackward0>)\n",
      "tensor(0.0818, grad_fn=<SelectBackward0>) tensor(0.0003, grad_fn=<DivBackward0>) tensor(0.2816, grad_fn=<StdBackward0>)\n",
      "tensor(0.0821, grad_fn=<SelectBackward0>) tensor(0.0003, grad_fn=<DivBackward0>) tensor(0.2819, grad_fn=<StdBackward0>)\n",
      "tensor(0.0825, grad_fn=<SelectBackward0>) tensor(0.0003, grad_fn=<DivBackward0>) tensor(0.2823, grad_fn=<StdBackward0>)\n",
      "tensor(0.0828, grad_fn=<SelectBackward0>) tensor(0.0003, grad_fn=<DivBackward0>) tensor(0.2826, grad_fn=<StdBackward0>)\n",
      "tensor(0.0831, grad_fn=<SelectBackward0>) tensor(0.0004, grad_fn=<DivBackward0>) tensor(0.2829, grad_fn=<StdBackward0>)\n",
      "tensor(0.0835, grad_fn=<SelectBackward0>) tensor(0.0004, grad_fn=<DivBackward0>) tensor(0.2832, grad_fn=<StdBackward0>)\n",
      "tensor(0.0838, grad_fn=<SelectBackward0>) tensor(0.0004, grad_fn=<DivBackward0>) tensor(0.2836, grad_fn=<StdBackward0>)\n",
      "tensor(0.0841, grad_fn=<SelectBackward0>) tensor(0.0004, grad_fn=<DivBackward0>) tensor(0.2839, grad_fn=<StdBackward0>)\n",
      "tensor(0.0845, grad_fn=<SelectBackward0>) tensor(0.0004, grad_fn=<DivBackward0>) tensor(0.2843, grad_fn=<StdBackward0>)\n",
      "tensor(0.0848, grad_fn=<SelectBackward0>) tensor(0.0004, grad_fn=<DivBackward0>) tensor(0.2846, grad_fn=<StdBackward0>)\n",
      "tensor(0.0851, grad_fn=<SelectBackward0>) tensor(0.0004, grad_fn=<DivBackward0>) tensor(0.2849, grad_fn=<StdBackward0>)\n",
      "tensor(0.0855, grad_fn=<SelectBackward0>) tensor(0.0004, grad_fn=<DivBackward0>) tensor(0.2852, grad_fn=<StdBackward0>)\n",
      "tensor(0.0858, grad_fn=<SelectBackward0>) tensor(0.0004, grad_fn=<DivBackward0>) tensor(0.2856, grad_fn=<StdBackward0>)\n",
      "tensor(0.0861, grad_fn=<SelectBackward0>) tensor(0.0004, grad_fn=<DivBackward0>) tensor(0.2859, grad_fn=<StdBackward0>)\n",
      "tensor(0.0865, grad_fn=<SelectBackward0>) tensor(0.0004, grad_fn=<DivBackward0>) tensor(0.2862, grad_fn=<StdBackward0>)\n",
      "tensor(0.0868, grad_fn=<SelectBackward0>) tensor(0.0004, grad_fn=<DivBackward0>) tensor(0.2865, grad_fn=<StdBackward0>)\n",
      "tensor(0.0871, grad_fn=<SelectBackward0>) tensor(0.0004, grad_fn=<DivBackward0>) tensor(0.2869, grad_fn=<StdBackward0>)\n",
      "tensor(0.0874, grad_fn=<SelectBackward0>) tensor(0.0004, grad_fn=<DivBackward0>) tensor(0.2872, grad_fn=<StdBackward0>)\n",
      "tensor(0.0878, grad_fn=<SelectBackward0>) tensor(0.0004, grad_fn=<DivBackward0>) tensor(0.2875, grad_fn=<StdBackward0>)\n",
      "tensor(0.0881, grad_fn=<SelectBackward0>) tensor(0.0004, grad_fn=<DivBackward0>) tensor(0.2878, grad_fn=<StdBackward0>)\n",
      "tensor(0.0884, grad_fn=<SelectBackward0>) tensor(0.0004, grad_fn=<DivBackward0>) tensor(0.2882, grad_fn=<StdBackward0>)\n",
      "tensor(0.0887, grad_fn=<SelectBackward0>) tensor(0.0004, grad_fn=<DivBackward0>) tensor(0.2885, grad_fn=<StdBackward0>)\n",
      "tensor(0.0890, grad_fn=<SelectBackward0>) tensor(0.0004, grad_fn=<DivBackward0>) tensor(0.2888, grad_fn=<StdBackward0>)\n",
      "tensor(0.0893, grad_fn=<SelectBackward0>) tensor(0.0004, grad_fn=<DivBackward0>) tensor(0.2891, grad_fn=<StdBackward0>)\n",
      "tensor(0.0897, grad_fn=<SelectBackward0>) tensor(0.0004, grad_fn=<DivBackward0>) tensor(0.2895, grad_fn=<StdBackward0>)\n",
      "tensor(0.0900, grad_fn=<SelectBackward0>) tensor(0.0004, grad_fn=<DivBackward0>) tensor(0.2898, grad_fn=<StdBackward0>)\n",
      "tensor(0.0903, grad_fn=<SelectBackward0>) tensor(0.0004, grad_fn=<DivBackward0>) tensor(0.2901, grad_fn=<StdBackward0>)\n",
      "tensor(0.0906, grad_fn=<SelectBackward0>) tensor(0.0005, grad_fn=<DivBackward0>) tensor(0.2904, grad_fn=<StdBackward0>)\n",
      "tensor(0.0909, grad_fn=<SelectBackward0>) tensor(0.0005, grad_fn=<DivBackward0>) tensor(0.2907, grad_fn=<StdBackward0>)\n",
      "tensor(0.0912, grad_fn=<SelectBackward0>) tensor(0.0005, grad_fn=<DivBackward0>) tensor(0.2911, grad_fn=<StdBackward0>)\n",
      "tensor(0.0915, grad_fn=<SelectBackward0>) tensor(0.0005, grad_fn=<DivBackward0>) tensor(0.2914, grad_fn=<StdBackward0>)\n",
      "tensor(0.0919, grad_fn=<SelectBackward0>) tensor(0.0005, grad_fn=<DivBackward0>) tensor(0.2917, grad_fn=<StdBackward0>)\n",
      "tensor(0.0922, grad_fn=<SelectBackward0>) tensor(0.0005, grad_fn=<DivBackward0>) tensor(0.2920, grad_fn=<StdBackward0>)\n",
      "tensor(0.0925, grad_fn=<SelectBackward0>) tensor(0.0005, grad_fn=<DivBackward0>) tensor(0.2923, grad_fn=<StdBackward0>)\n",
      "tensor(0.0928, grad_fn=<SelectBackward0>) tensor(0.0005, grad_fn=<DivBackward0>) tensor(0.2926, grad_fn=<StdBackward0>)\n",
      "tensor(0.0931, grad_fn=<SelectBackward0>) tensor(0.0005, grad_fn=<DivBackward0>) tensor(0.2930, grad_fn=<StdBackward0>)\n",
      "tensor(0.0934, grad_fn=<SelectBackward0>) tensor(0.0005, grad_fn=<DivBackward0>) tensor(0.2932, grad_fn=<StdBackward0>)\n",
      "tensor(0.0937, grad_fn=<SelectBackward0>) tensor(0.0005, grad_fn=<DivBackward0>) tensor(0.2936, grad_fn=<StdBackward0>)\n",
      "tensor(0.0940, grad_fn=<SelectBackward0>) tensor(0.0005, grad_fn=<DivBackward0>) tensor(0.2938, grad_fn=<StdBackward0>)\n",
      "tensor(0.0943, grad_fn=<SelectBackward0>) tensor(0.0005, grad_fn=<DivBackward0>) tensor(0.2942, grad_fn=<StdBackward0>)\n",
      "tensor(0.0946, grad_fn=<SelectBackward0>) tensor(0.0005, grad_fn=<DivBackward0>) tensor(0.2944, grad_fn=<StdBackward0>)\n",
      "tensor(0.0950, grad_fn=<SelectBackward0>) tensor(0.0005, grad_fn=<DivBackward0>) tensor(0.2948, grad_fn=<StdBackward0>)\n",
      "tensor(0.0953, grad_fn=<SelectBackward0>) tensor(0.0005, grad_fn=<DivBackward0>) tensor(0.2951, grad_fn=<StdBackward0>)\n",
      "tensor(0.0956, grad_fn=<SelectBackward0>) tensor(0.0006, grad_fn=<DivBackward0>) tensor(0.2954, grad_fn=<StdBackward0>)\n",
      "tensor(0.0959, grad_fn=<SelectBackward0>) tensor(0.0006, grad_fn=<DivBackward0>) tensor(0.2957, grad_fn=<StdBackward0>)\n",
      "tensor(0.0962, grad_fn=<SelectBackward0>) tensor(0.0006, grad_fn=<DivBackward0>) tensor(0.2961, grad_fn=<StdBackward0>)\n",
      "tensor(0.0966, grad_fn=<SelectBackward0>) tensor(0.0006, grad_fn=<DivBackward0>) tensor(0.2963, grad_fn=<StdBackward0>)\n",
      "tensor(0.0969, grad_fn=<SelectBackward0>) tensor(0.0006, grad_fn=<DivBackward0>) tensor(0.2967, grad_fn=<StdBackward0>)\n",
      "tensor(0.0972, grad_fn=<SelectBackward0>) tensor(0.0006, grad_fn=<DivBackward0>) tensor(0.2970, grad_fn=<StdBackward0>)\n",
      "tensor(0.0976, grad_fn=<SelectBackward0>) tensor(0.0006, grad_fn=<DivBackward0>) tensor(0.2973, grad_fn=<StdBackward0>)\n",
      "tensor(0.0980, grad_fn=<SelectBackward0>) tensor(0.0006, grad_fn=<DivBackward0>) tensor(0.2976, grad_fn=<StdBackward0>)\n",
      "tensor(0.0984, grad_fn=<SelectBackward0>) tensor(0.0006, grad_fn=<DivBackward0>) tensor(0.2980, grad_fn=<StdBackward0>)\n",
      "tensor(0.0988, grad_fn=<SelectBackward0>) tensor(0.0006, grad_fn=<DivBackward0>) tensor(0.2983, grad_fn=<StdBackward0>)\n",
      "tensor(0.0993, grad_fn=<SelectBackward0>) tensor(0.0006, grad_fn=<DivBackward0>) tensor(0.2987, grad_fn=<StdBackward0>)\n",
      "tensor(0.0998, grad_fn=<SelectBackward0>) tensor(0.0006, grad_fn=<DivBackward0>) tensor(0.2990, grad_fn=<StdBackward0>)\n",
      "tensor(0.1003, grad_fn=<SelectBackward0>) tensor(0.0007, grad_fn=<DivBackward0>) tensor(0.2993, grad_fn=<StdBackward0>)\n",
      "tensor(0.1008, grad_fn=<SelectBackward0>) tensor(0.0007, grad_fn=<DivBackward0>) tensor(0.2997, grad_fn=<StdBackward0>)\n",
      "tensor(0.1013, grad_fn=<SelectBackward0>) tensor(0.0007, grad_fn=<DivBackward0>) tensor(0.3000, grad_fn=<StdBackward0>)\n",
      "tensor(0.1019, grad_fn=<SelectBackward0>) tensor(0.0007, grad_fn=<DivBackward0>) tensor(0.3003, grad_fn=<StdBackward0>)\n",
      "tensor(0.1024, grad_fn=<SelectBackward0>) tensor(0.0007, grad_fn=<DivBackward0>) tensor(0.3006, grad_fn=<StdBackward0>)\n",
      "tensor(0.1030, grad_fn=<SelectBackward0>) tensor(0.0007, grad_fn=<DivBackward0>) tensor(0.3010, grad_fn=<StdBackward0>)\n",
      "tensor(0.1036, grad_fn=<SelectBackward0>) tensor(0.0007, grad_fn=<DivBackward0>) tensor(0.3013, grad_fn=<StdBackward0>)\n",
      "tensor(0.1041, grad_fn=<SelectBackward0>) tensor(0.0008, grad_fn=<DivBackward0>) tensor(0.3016, grad_fn=<StdBackward0>)\n",
      "tensor(0.1047, grad_fn=<SelectBackward0>) tensor(0.0008, grad_fn=<DivBackward0>) tensor(0.3019, grad_fn=<StdBackward0>)\n",
      "tensor(0.1053, grad_fn=<SelectBackward0>) tensor(0.0008, grad_fn=<DivBackward0>) tensor(0.3022, grad_fn=<StdBackward0>)\n",
      "tensor(0.1059, grad_fn=<SelectBackward0>) tensor(0.0008, grad_fn=<DivBackward0>) tensor(0.3025, grad_fn=<StdBackward0>)\n",
      "tensor(0.1064, grad_fn=<SelectBackward0>) tensor(0.0008, grad_fn=<DivBackward0>) tensor(0.3028, grad_fn=<StdBackward0>)\n",
      "tensor(0.1070, grad_fn=<SelectBackward0>) tensor(0.0008, grad_fn=<DivBackward0>) tensor(0.3031, grad_fn=<StdBackward0>)\n",
      "tensor(0.1076, grad_fn=<SelectBackward0>) tensor(0.0009, grad_fn=<DivBackward0>) tensor(0.3034, grad_fn=<StdBackward0>)\n",
      "tensor(0.1082, grad_fn=<SelectBackward0>) tensor(0.0009, grad_fn=<DivBackward0>) tensor(0.3037, grad_fn=<StdBackward0>)\n",
      "tensor(0.1088, grad_fn=<SelectBackward0>) tensor(0.0009, grad_fn=<DivBackward0>) tensor(0.3040, grad_fn=<StdBackward0>)\n",
      "tensor(0.1094, grad_fn=<SelectBackward0>) tensor(0.0009, grad_fn=<DivBackward0>) tensor(0.3043, grad_fn=<StdBackward0>)\n",
      "tensor(0.1100, grad_fn=<SelectBackward0>) tensor(0.0009, grad_fn=<DivBackward0>) tensor(0.3046, grad_fn=<StdBackward0>)\n",
      "tensor(0.1106, grad_fn=<SelectBackward0>) tensor(0.0009, grad_fn=<DivBackward0>) tensor(0.3049, grad_fn=<StdBackward0>)\n",
      "tensor(0.1112, grad_fn=<SelectBackward0>) tensor(0.0010, grad_fn=<DivBackward0>) tensor(0.3052, grad_fn=<StdBackward0>)\n",
      "tensor(0.1118, grad_fn=<SelectBackward0>) tensor(0.0010, grad_fn=<DivBackward0>) tensor(0.3055, grad_fn=<StdBackward0>)\n",
      "tensor(0.1124, grad_fn=<SelectBackward0>) tensor(0.0010, grad_fn=<DivBackward0>) tensor(0.3059, grad_fn=<StdBackward0>)\n",
      "tensor(0.1131, grad_fn=<SelectBackward0>) tensor(0.0010, grad_fn=<DivBackward0>) tensor(0.3062, grad_fn=<StdBackward0>)\n",
      "tensor(0.1137, grad_fn=<SelectBackward0>) tensor(0.0011, grad_fn=<DivBackward0>) tensor(0.3065, grad_fn=<StdBackward0>)\n",
      "tensor(0.1143, grad_fn=<SelectBackward0>) tensor(0.0011, grad_fn=<DivBackward0>) tensor(0.3068, grad_fn=<StdBackward0>)\n",
      "tensor(0.1149, grad_fn=<SelectBackward0>) tensor(0.0011, grad_fn=<DivBackward0>) tensor(0.3071, grad_fn=<StdBackward0>)\n",
      "tensor(0.1156, grad_fn=<SelectBackward0>) tensor(0.0011, grad_fn=<DivBackward0>) tensor(0.3074, grad_fn=<StdBackward0>)\n",
      "tensor(0.1162, grad_fn=<SelectBackward0>) tensor(0.0012, grad_fn=<DivBackward0>) tensor(0.3077, grad_fn=<StdBackward0>)\n",
      "tensor(0.1168, grad_fn=<SelectBackward0>) tensor(0.0012, grad_fn=<DivBackward0>) tensor(0.3081, grad_fn=<StdBackward0>)\n",
      "tensor(0.1175, grad_fn=<SelectBackward0>) tensor(0.0012, grad_fn=<DivBackward0>) tensor(0.3084, grad_fn=<StdBackward0>)\n",
      "tensor(0.1181, grad_fn=<SelectBackward0>) tensor(0.0013, grad_fn=<DivBackward0>) tensor(0.3087, grad_fn=<StdBackward0>)\n",
      "tensor(0.1188, grad_fn=<SelectBackward0>) tensor(0.0013, grad_fn=<DivBackward0>) tensor(0.3091, grad_fn=<StdBackward0>)\n",
      "tensor(0.1194, grad_fn=<SelectBackward0>) tensor(0.0013, grad_fn=<DivBackward0>) tensor(0.3094, grad_fn=<StdBackward0>)\n",
      "tensor(0.1201, grad_fn=<SelectBackward0>) tensor(0.0014, grad_fn=<DivBackward0>) tensor(0.3097, grad_fn=<StdBackward0>)\n",
      "tensor(0.1208, grad_fn=<SelectBackward0>) tensor(0.0014, grad_fn=<DivBackward0>) tensor(0.3102, grad_fn=<StdBackward0>)\n",
      "tensor(0.1214, grad_fn=<SelectBackward0>) tensor(0.0014, grad_fn=<DivBackward0>) tensor(0.3104, grad_fn=<StdBackward0>)\n",
      "tensor(0.1221, grad_fn=<SelectBackward0>) tensor(0.0015, grad_fn=<DivBackward0>) tensor(0.3109, grad_fn=<StdBackward0>)\n",
      "tensor(0.1228, grad_fn=<SelectBackward0>) tensor(0.0015, grad_fn=<DivBackward0>) tensor(0.3111, grad_fn=<StdBackward0>)\n",
      "tensor(0.1234, grad_fn=<SelectBackward0>) tensor(0.0016, grad_fn=<DivBackward0>) tensor(0.3116, grad_fn=<StdBackward0>)\n",
      "tensor(0.1241, grad_fn=<SelectBackward0>) tensor(0.0016, grad_fn=<DivBackward0>) tensor(0.3118, grad_fn=<StdBackward0>)\n",
      "tensor(0.1248, grad_fn=<SelectBackward0>) tensor(0.0016, grad_fn=<DivBackward0>) tensor(0.3124, grad_fn=<StdBackward0>)\n",
      "tensor(0.1255, grad_fn=<SelectBackward0>) tensor(0.0017, grad_fn=<DivBackward0>) tensor(0.3126, grad_fn=<StdBackward0>)\n",
      "tensor(0.1262, grad_fn=<SelectBackward0>) tensor(0.0017, grad_fn=<DivBackward0>) tensor(0.3132, grad_fn=<StdBackward0>)\n",
      "tensor(0.1269, grad_fn=<SelectBackward0>) tensor(0.0018, grad_fn=<DivBackward0>) tensor(0.3134, grad_fn=<StdBackward0>)\n",
      "tensor(0.1276, grad_fn=<SelectBackward0>) tensor(0.0019, grad_fn=<DivBackward0>) tensor(0.3140, grad_fn=<StdBackward0>)\n",
      "tensor(0.1283, grad_fn=<SelectBackward0>) tensor(0.0019, grad_fn=<DivBackward0>) tensor(0.3142, grad_fn=<StdBackward0>)\n",
      "tensor(0.1290, grad_fn=<SelectBackward0>) tensor(0.0020, grad_fn=<DivBackward0>) tensor(0.3148, grad_fn=<StdBackward0>)\n",
      "tensor(0.1297, grad_fn=<SelectBackward0>) tensor(0.0020, grad_fn=<DivBackward0>) tensor(0.3150, grad_fn=<StdBackward0>)\n",
      "tensor(0.1304, grad_fn=<SelectBackward0>) tensor(0.0021, grad_fn=<DivBackward0>) tensor(0.3156, grad_fn=<StdBackward0>)\n",
      "tensor(0.1311, grad_fn=<SelectBackward0>) tensor(0.0021, grad_fn=<DivBackward0>) tensor(0.3158, grad_fn=<StdBackward0>)\n",
      "tensor(0.1318, grad_fn=<SelectBackward0>) tensor(0.0022, grad_fn=<DivBackward0>) tensor(0.3165, grad_fn=<StdBackward0>)\n",
      "tensor(0.1325, grad_fn=<SelectBackward0>) tensor(0.0023, grad_fn=<DivBackward0>) tensor(0.3166, grad_fn=<StdBackward0>)\n",
      "tensor(0.1333, grad_fn=<SelectBackward0>) tensor(0.0024, grad_fn=<DivBackward0>) tensor(0.3174, grad_fn=<StdBackward0>)\n",
      "tensor(0.1340, grad_fn=<SelectBackward0>) tensor(0.0024, grad_fn=<DivBackward0>) tensor(0.3174, grad_fn=<StdBackward0>)\n",
      "tensor(0.1347, grad_fn=<SelectBackward0>) tensor(0.0025, grad_fn=<DivBackward0>) tensor(0.3183, grad_fn=<StdBackward0>)\n",
      "tensor(0.1353, grad_fn=<SelectBackward0>) tensor(0.0026, grad_fn=<DivBackward0>) tensor(0.3181, grad_fn=<StdBackward0>)\n",
      "tensor(0.1360, grad_fn=<SelectBackward0>) tensor(0.0027, grad_fn=<DivBackward0>) tensor(0.3193, grad_fn=<StdBackward0>)\n",
      "tensor(0.1367, grad_fn=<SelectBackward0>) tensor(0.0027, grad_fn=<DivBackward0>) tensor(0.3188, grad_fn=<StdBackward0>)\n",
      "tensor(0.1374, grad_fn=<SelectBackward0>) tensor(0.0029, grad_fn=<DivBackward0>) tensor(0.3202, grad_fn=<StdBackward0>)\n",
      "tensor(0.1380, grad_fn=<SelectBackward0>) tensor(0.0029, grad_fn=<DivBackward0>) tensor(0.3195, grad_fn=<StdBackward0>)\n",
      "tensor(0.1386, grad_fn=<SelectBackward0>) tensor(0.0030, grad_fn=<DivBackward0>) tensor(0.3211, grad_fn=<StdBackward0>)\n",
      "tensor(0.1392, grad_fn=<SelectBackward0>) tensor(0.0030, grad_fn=<DivBackward0>) tensor(0.3201, grad_fn=<StdBackward0>)\n",
      "tensor(0.1398, grad_fn=<SelectBackward0>) tensor(0.0032, grad_fn=<DivBackward0>) tensor(0.3219, grad_fn=<StdBackward0>)\n",
      "tensor(0.1404, grad_fn=<SelectBackward0>) tensor(0.0032, grad_fn=<DivBackward0>) tensor(0.3208, grad_fn=<StdBackward0>)\n",
      "tensor(0.1410, grad_fn=<SelectBackward0>) tensor(0.0034, grad_fn=<DivBackward0>) tensor(0.3227, grad_fn=<StdBackward0>)\n",
      "tensor(0.1416, grad_fn=<SelectBackward0>) tensor(0.0034, grad_fn=<DivBackward0>) tensor(0.3215, grad_fn=<StdBackward0>)\n",
      "tensor(0.1422, grad_fn=<SelectBackward0>) tensor(0.0036, grad_fn=<DivBackward0>) tensor(0.3234, grad_fn=<StdBackward0>)\n",
      "tensor(0.1427, grad_fn=<SelectBackward0>) tensor(0.0036, grad_fn=<DivBackward0>) tensor(0.3222, grad_fn=<StdBackward0>)\n",
      "tensor(0.1433, grad_fn=<SelectBackward0>) tensor(0.0038, grad_fn=<DivBackward0>) tensor(0.3242, grad_fn=<StdBackward0>)\n",
      "tensor(0.1439, grad_fn=<SelectBackward0>) tensor(0.0037, grad_fn=<DivBackward0>) tensor(0.3229, grad_fn=<StdBackward0>)\n",
      "tensor(0.1444, grad_fn=<SelectBackward0>) tensor(0.0040, grad_fn=<DivBackward0>) tensor(0.3249, grad_fn=<StdBackward0>)\n",
      "tensor(0.1450, grad_fn=<SelectBackward0>) tensor(0.0039, grad_fn=<DivBackward0>) tensor(0.3235, grad_fn=<StdBackward0>)\n",
      "tensor(0.1455, grad_fn=<SelectBackward0>) tensor(0.0042, grad_fn=<DivBackward0>) tensor(0.3256, grad_fn=<StdBackward0>)\n",
      "tensor(0.1460, grad_fn=<SelectBackward0>) tensor(0.0041, grad_fn=<DivBackward0>) tensor(0.3242, grad_fn=<StdBackward0>)\n",
      "tensor(0.1466, grad_fn=<SelectBackward0>) tensor(0.0044, grad_fn=<DivBackward0>) tensor(0.3264, grad_fn=<StdBackward0>)\n",
      "tensor(0.1471, grad_fn=<SelectBackward0>) tensor(0.0043, grad_fn=<DivBackward0>) tensor(0.3249, grad_fn=<StdBackward0>)\n",
      "tensor(0.1476, grad_fn=<SelectBackward0>) tensor(0.0047, grad_fn=<DivBackward0>) tensor(0.3271, grad_fn=<StdBackward0>)\n",
      "tensor(0.1481, grad_fn=<SelectBackward0>) tensor(0.0046, grad_fn=<DivBackward0>) tensor(0.3255, grad_fn=<StdBackward0>)\n",
      "tensor(0.1487, grad_fn=<SelectBackward0>) tensor(0.0049, grad_fn=<DivBackward0>) tensor(0.3278, grad_fn=<StdBackward0>)\n",
      "tensor(0.1492, grad_fn=<SelectBackward0>) tensor(0.0048, grad_fn=<DivBackward0>) tensor(0.3262, grad_fn=<StdBackward0>)\n",
      "tensor(0.1497, grad_fn=<SelectBackward0>) tensor(0.0051, grad_fn=<DivBackward0>) tensor(0.3285, grad_fn=<StdBackward0>)\n",
      "tensor(0.1502, grad_fn=<SelectBackward0>) tensor(0.0050, grad_fn=<DivBackward0>) tensor(0.3269, grad_fn=<StdBackward0>)\n",
      "tensor(0.1507, grad_fn=<SelectBackward0>) tensor(0.0054, grad_fn=<DivBackward0>) tensor(0.3293, grad_fn=<StdBackward0>)\n",
      "tensor(0.1512, grad_fn=<SelectBackward0>) tensor(0.0053, grad_fn=<DivBackward0>) tensor(0.3276, grad_fn=<StdBackward0>)\n",
      "tensor(0.1517, grad_fn=<SelectBackward0>) tensor(0.0057, grad_fn=<DivBackward0>) tensor(0.3300, grad_fn=<StdBackward0>)\n",
      "tensor(0.1522, grad_fn=<SelectBackward0>) tensor(0.0055, grad_fn=<DivBackward0>) tensor(0.3282, grad_fn=<StdBackward0>)\n",
      "tensor(0.1527, grad_fn=<SelectBackward0>) tensor(0.0059, grad_fn=<DivBackward0>) tensor(0.3307, grad_fn=<StdBackward0>)\n",
      "tensor(0.1531, grad_fn=<SelectBackward0>) tensor(0.0058, grad_fn=<DivBackward0>) tensor(0.3289, grad_fn=<StdBackward0>)\n",
      "tensor(0.1536, grad_fn=<SelectBackward0>) tensor(0.0062, grad_fn=<DivBackward0>) tensor(0.3314, grad_fn=<StdBackward0>)\n",
      "tensor(0.1541, grad_fn=<SelectBackward0>) tensor(0.0061, grad_fn=<DivBackward0>) tensor(0.3296, grad_fn=<StdBackward0>)\n",
      "tensor(0.1546, grad_fn=<SelectBackward0>) tensor(0.0065, grad_fn=<DivBackward0>) tensor(0.3321, grad_fn=<StdBackward0>)\n",
      "tensor(0.1551, grad_fn=<SelectBackward0>) tensor(0.0064, grad_fn=<DivBackward0>) tensor(0.3303, grad_fn=<StdBackward0>)\n",
      "tensor(0.1556, grad_fn=<SelectBackward0>) tensor(0.0068, grad_fn=<DivBackward0>) tensor(0.3328, grad_fn=<StdBackward0>)\n",
      "tensor(0.1560, grad_fn=<SelectBackward0>) tensor(0.0067, grad_fn=<DivBackward0>) tensor(0.3309, grad_fn=<StdBackward0>)\n",
      "tensor(0.1565, grad_fn=<SelectBackward0>) tensor(0.0072, grad_fn=<DivBackward0>) tensor(0.3335, grad_fn=<StdBackward0>)\n",
      "tensor(0.1570, grad_fn=<SelectBackward0>) tensor(0.0070, grad_fn=<DivBackward0>) tensor(0.3316, grad_fn=<StdBackward0>)\n",
      "tensor(0.1575, grad_fn=<SelectBackward0>) tensor(0.0075, grad_fn=<DivBackward0>) tensor(0.3342, grad_fn=<StdBackward0>)\n",
      "tensor(0.1580, grad_fn=<SelectBackward0>) tensor(0.0073, grad_fn=<DivBackward0>) tensor(0.3323, grad_fn=<StdBackward0>)\n",
      "tensor(0.1585, grad_fn=<SelectBackward0>) tensor(0.0079, grad_fn=<DivBackward0>) tensor(0.3349, grad_fn=<StdBackward0>)\n",
      "tensor(0.1589, grad_fn=<SelectBackward0>) tensor(0.0077, grad_fn=<DivBackward0>) tensor(0.3330, grad_fn=<StdBackward0>)\n",
      "tensor(0.1594, grad_fn=<SelectBackward0>) tensor(0.0083, grad_fn=<DivBackward0>) tensor(0.3356, grad_fn=<StdBackward0>)\n",
      "tensor(0.1599, grad_fn=<SelectBackward0>) tensor(0.0080, grad_fn=<DivBackward0>) tensor(0.3337, grad_fn=<StdBackward0>)\n",
      "tensor(0.1604, grad_fn=<SelectBackward0>) tensor(0.0087, grad_fn=<DivBackward0>) tensor(0.3364, grad_fn=<StdBackward0>)\n",
      "tensor(0.1609, grad_fn=<SelectBackward0>) tensor(0.0084, grad_fn=<DivBackward0>) tensor(0.3344, grad_fn=<StdBackward0>)\n",
      "tensor(0.1614, grad_fn=<SelectBackward0>) tensor(0.0091, grad_fn=<DivBackward0>) tensor(0.3371, grad_fn=<StdBackward0>)\n",
      "tensor(0.1619, grad_fn=<SelectBackward0>) tensor(0.0088, grad_fn=<DivBackward0>) tensor(0.3351, grad_fn=<StdBackward0>)\n",
      "tensor(0.1624, grad_fn=<SelectBackward0>) tensor(0.0095, grad_fn=<DivBackward0>) tensor(0.3378, grad_fn=<StdBackward0>)\n",
      "tensor(0.1628, grad_fn=<SelectBackward0>) tensor(0.0092, grad_fn=<DivBackward0>) tensor(0.3357, grad_fn=<StdBackward0>)\n",
      "tensor(0.1634, grad_fn=<SelectBackward0>) tensor(0.0100, grad_fn=<DivBackward0>) tensor(0.3385, grad_fn=<StdBackward0>)\n",
      "tensor(0.1638, grad_fn=<SelectBackward0>) tensor(0.0097, grad_fn=<DivBackward0>) tensor(0.3364, grad_fn=<StdBackward0>)\n",
      "tensor(0.1643, grad_fn=<SelectBackward0>) tensor(0.0105, grad_fn=<DivBackward0>) tensor(0.3392, grad_fn=<StdBackward0>)\n",
      "tensor(0.1648, grad_fn=<SelectBackward0>) tensor(0.0102, grad_fn=<DivBackward0>) tensor(0.3371, grad_fn=<StdBackward0>)\n",
      "tensor(0.1653, grad_fn=<SelectBackward0>) tensor(0.0110, grad_fn=<DivBackward0>) tensor(0.3399, grad_fn=<StdBackward0>)\n",
      "tensor(0.1658, grad_fn=<SelectBackward0>) tensor(0.0106, grad_fn=<DivBackward0>) tensor(0.3378, grad_fn=<StdBackward0>)\n",
      "tensor(0.1663, grad_fn=<SelectBackward0>) tensor(0.0115, grad_fn=<DivBackward0>) tensor(0.3406, grad_fn=<StdBackward0>)\n",
      "tensor(0.1668, grad_fn=<SelectBackward0>) tensor(0.0112, grad_fn=<DivBackward0>) tensor(0.3385, grad_fn=<StdBackward0>)\n",
      "tensor(0.1674, grad_fn=<SelectBackward0>) tensor(0.0121, grad_fn=<DivBackward0>) tensor(0.3413, grad_fn=<StdBackward0>)\n",
      "tensor(0.1678, grad_fn=<SelectBackward0>) tensor(0.0117, grad_fn=<DivBackward0>) tensor(0.3393, grad_fn=<StdBackward0>)\n",
      "tensor(0.1684, grad_fn=<SelectBackward0>) tensor(0.0127, grad_fn=<DivBackward0>) tensor(0.3420, grad_fn=<StdBackward0>)\n",
      "tensor(0.1689, grad_fn=<SelectBackward0>) tensor(0.0123, grad_fn=<DivBackward0>) tensor(0.3400, grad_fn=<StdBackward0>)\n",
      "tensor(0.1695, grad_fn=<SelectBackward0>) tensor(0.0133, grad_fn=<DivBackward0>) tensor(0.3427, grad_fn=<StdBackward0>)\n",
      "tensor(0.1699, grad_fn=<SelectBackward0>) tensor(0.0129, grad_fn=<DivBackward0>) tensor(0.3407, grad_fn=<StdBackward0>)\n",
      "tensor(0.1705, grad_fn=<SelectBackward0>) tensor(0.0140, grad_fn=<DivBackward0>) tensor(0.3435, grad_fn=<StdBackward0>)\n",
      "tensor(0.1710, grad_fn=<SelectBackward0>) tensor(0.0136, grad_fn=<DivBackward0>) tensor(0.3414, grad_fn=<StdBackward0>)\n",
      "tensor(0.1717, grad_fn=<SelectBackward0>) tensor(0.0147, grad_fn=<DivBackward0>) tensor(0.3442, grad_fn=<StdBackward0>)\n",
      "tensor(0.1722, grad_fn=<SelectBackward0>) tensor(0.0143, grad_fn=<DivBackward0>) tensor(0.3422, grad_fn=<StdBackward0>)\n",
      "tensor(0.1729, grad_fn=<SelectBackward0>) tensor(0.0155, grad_fn=<DivBackward0>) tensor(0.3450, grad_fn=<StdBackward0>)\n",
      "tensor(0.1734, grad_fn=<SelectBackward0>) tensor(0.0151, grad_fn=<DivBackward0>) tensor(0.3430, grad_fn=<StdBackward0>)\n",
      "tensor(0.1741, grad_fn=<SelectBackward0>) tensor(0.0163, grad_fn=<DivBackward0>) tensor(0.3457, grad_fn=<StdBackward0>)\n",
      "tensor(0.1747, grad_fn=<SelectBackward0>) tensor(0.0159, grad_fn=<DivBackward0>) tensor(0.3438, grad_fn=<StdBackward0>)\n",
      "tensor(0.1756, grad_fn=<SelectBackward0>) tensor(0.0172, grad_fn=<DivBackward0>) tensor(0.3465, grad_fn=<StdBackward0>)\n",
      "tensor(0.1763, grad_fn=<SelectBackward0>) tensor(0.0168, grad_fn=<DivBackward0>) tensor(0.3447, grad_fn=<StdBackward0>)\n",
      "tensor(0.1773, grad_fn=<SelectBackward0>) tensor(0.0181, grad_fn=<DivBackward0>) tensor(0.3474, grad_fn=<StdBackward0>)\n",
      "tensor(0.1781, grad_fn=<SelectBackward0>) tensor(0.0178, grad_fn=<DivBackward0>) tensor(0.3456, grad_fn=<StdBackward0>)\n",
      "tensor(0.1793, grad_fn=<SelectBackward0>) tensor(0.0191, grad_fn=<DivBackward0>) tensor(0.3484, grad_fn=<StdBackward0>)\n",
      "tensor(0.1803, grad_fn=<SelectBackward0>) tensor(0.0188, grad_fn=<DivBackward0>) tensor(0.3464, grad_fn=<StdBackward0>)\n",
      "tensor(0.1816, grad_fn=<SelectBackward0>) tensor(0.0201, grad_fn=<DivBackward0>) tensor(0.3495, grad_fn=<StdBackward0>)\n",
      "tensor(0.1824, grad_fn=<SelectBackward0>) tensor(0.0196, grad_fn=<DivBackward0>) tensor(0.3470, grad_fn=<StdBackward0>)\n",
      "tensor(0.1839, grad_fn=<SelectBackward0>) tensor(0.0210, grad_fn=<DivBackward0>) tensor(0.3507, grad_fn=<StdBackward0>)\n",
      "tensor(0.1846, grad_fn=<SelectBackward0>) tensor(0.0203, grad_fn=<DivBackward0>) tensor(0.3476, grad_fn=<StdBackward0>)\n",
      "tensor(0.1862, grad_fn=<SelectBackward0>) tensor(0.0219, grad_fn=<DivBackward0>) tensor(0.3521, grad_fn=<StdBackward0>)\n",
      "tensor(0.1869, grad_fn=<SelectBackward0>) tensor(0.0210, grad_fn=<DivBackward0>) tensor(0.3484, grad_fn=<StdBackward0>)\n",
      "tensor(0.1885, grad_fn=<SelectBackward0>) tensor(0.0227, grad_fn=<DivBackward0>) tensor(0.3536, grad_fn=<StdBackward0>)\n",
      "tensor(0.1890, grad_fn=<SelectBackward0>) tensor(0.0217, grad_fn=<DivBackward0>) tensor(0.3494, grad_fn=<StdBackward0>)\n",
      "tensor(0.1908, grad_fn=<SelectBackward0>) tensor(0.0235, grad_fn=<DivBackward0>) tensor(0.3552, grad_fn=<StdBackward0>)\n",
      "tensor(0.1913, grad_fn=<SelectBackward0>) tensor(0.0223, grad_fn=<DivBackward0>) tensor(0.3506, grad_fn=<StdBackward0>)\n",
      "tensor(0.1931, grad_fn=<SelectBackward0>) tensor(0.0243, grad_fn=<DivBackward0>) tensor(0.3572, grad_fn=<StdBackward0>)\n",
      "tensor(0.1935, grad_fn=<SelectBackward0>) tensor(0.0231, grad_fn=<DivBackward0>) tensor(0.3521, grad_fn=<StdBackward0>)\n",
      "tensor(0.1954, grad_fn=<SelectBackward0>) tensor(0.0252, grad_fn=<DivBackward0>) tensor(0.3593, grad_fn=<StdBackward0>)\n",
      "tensor(0.1957, grad_fn=<SelectBackward0>) tensor(0.0238, grad_fn=<DivBackward0>) tensor(0.3537, grad_fn=<StdBackward0>)\n",
      "tensor(0.1976, grad_fn=<SelectBackward0>) tensor(0.0260, grad_fn=<DivBackward0>) tensor(0.3616, grad_fn=<StdBackward0>)\n",
      "tensor(0.1978, grad_fn=<SelectBackward0>) tensor(0.0245, grad_fn=<DivBackward0>) tensor(0.3555, grad_fn=<StdBackward0>)\n",
      "tensor(0.1998, grad_fn=<SelectBackward0>) tensor(0.0269, grad_fn=<DivBackward0>) tensor(0.3641, grad_fn=<StdBackward0>)\n",
      "tensor(0.1999, grad_fn=<SelectBackward0>) tensor(0.0252, grad_fn=<DivBackward0>) tensor(0.3574, grad_fn=<StdBackward0>)\n",
      "tensor(0.2020, grad_fn=<SelectBackward0>) tensor(0.0278, grad_fn=<DivBackward0>) tensor(0.3666, grad_fn=<StdBackward0>)\n",
      "tensor(0.2021, grad_fn=<SelectBackward0>) tensor(0.0259, grad_fn=<DivBackward0>) tensor(0.3596, grad_fn=<StdBackward0>)\n",
      "tensor(0.2042, grad_fn=<SelectBackward0>) tensor(0.0287, grad_fn=<DivBackward0>) tensor(0.3695, grad_fn=<StdBackward0>)\n",
      "tensor(0.2041, grad_fn=<SelectBackward0>) tensor(0.0267, grad_fn=<DivBackward0>) tensor(0.3619, grad_fn=<StdBackward0>)\n",
      "tensor(0.2063, grad_fn=<SelectBackward0>) tensor(0.0296, grad_fn=<DivBackward0>) tensor(0.3723, grad_fn=<StdBackward0>)\n",
      "tensor(0.2061, grad_fn=<SelectBackward0>) tensor(0.0274, grad_fn=<DivBackward0>) tensor(0.3644, grad_fn=<StdBackward0>)\n",
      "tensor(0.2083, grad_fn=<SelectBackward0>) tensor(0.0305, grad_fn=<DivBackward0>) tensor(0.3753, grad_fn=<StdBackward0>)\n",
      "tensor(0.2081, grad_fn=<SelectBackward0>) tensor(0.0282, grad_fn=<DivBackward0>) tensor(0.3669, grad_fn=<StdBackward0>)\n",
      "tensor(0.2104, grad_fn=<SelectBackward0>) tensor(0.0314, grad_fn=<DivBackward0>) tensor(0.3785, grad_fn=<StdBackward0>)\n",
      "tensor(0.2101, grad_fn=<SelectBackward0>) tensor(0.0290, grad_fn=<DivBackward0>) tensor(0.3696, grad_fn=<StdBackward0>)\n",
      "tensor(0.2124, grad_fn=<SelectBackward0>) tensor(0.0324, grad_fn=<DivBackward0>) tensor(0.3817, grad_fn=<StdBackward0>)\n",
      "tensor(0.2121, grad_fn=<SelectBackward0>) tensor(0.0298, grad_fn=<DivBackward0>) tensor(0.3725, grad_fn=<StdBackward0>)\n",
      "tensor(0.2144, grad_fn=<SelectBackward0>) tensor(0.0334, grad_fn=<DivBackward0>) tensor(0.3851, grad_fn=<StdBackward0>)\n",
      "tensor(0.2141, grad_fn=<SelectBackward0>) tensor(0.0306, grad_fn=<DivBackward0>) tensor(0.3754, grad_fn=<StdBackward0>)\n",
      "tensor(0.2164, grad_fn=<SelectBackward0>) tensor(0.0344, grad_fn=<DivBackward0>) tensor(0.3885, grad_fn=<StdBackward0>)\n",
      "tensor(0.2160, grad_fn=<SelectBackward0>) tensor(0.0314, grad_fn=<DivBackward0>) tensor(0.3784, grad_fn=<StdBackward0>)\n",
      "tensor(0.2183, grad_fn=<SelectBackward0>) tensor(0.0354, grad_fn=<DivBackward0>) tensor(0.3920, grad_fn=<StdBackward0>)\n",
      "tensor(0.2179, grad_fn=<SelectBackward0>) tensor(0.0323, grad_fn=<DivBackward0>) tensor(0.3815, grad_fn=<StdBackward0>)\n",
      "tensor(0.2202, grad_fn=<SelectBackward0>) tensor(0.0364, grad_fn=<DivBackward0>) tensor(0.3955, grad_fn=<StdBackward0>)\n",
      "tensor(0.2197, grad_fn=<SelectBackward0>) tensor(0.0331, grad_fn=<DivBackward0>) tensor(0.3847, grad_fn=<StdBackward0>)\n",
      "tensor(0.2221, grad_fn=<SelectBackward0>) tensor(0.0375, grad_fn=<DivBackward0>) tensor(0.3992, grad_fn=<StdBackward0>)\n",
      "tensor(0.2216, grad_fn=<SelectBackward0>) tensor(0.0340, grad_fn=<DivBackward0>) tensor(0.3879, grad_fn=<StdBackward0>)\n",
      "tensor(0.2240, grad_fn=<SelectBackward0>) tensor(0.0385, grad_fn=<DivBackward0>) tensor(0.4028, grad_fn=<StdBackward0>)\n",
      "tensor(0.2234, grad_fn=<SelectBackward0>) tensor(0.0349, grad_fn=<DivBackward0>) tensor(0.3912, grad_fn=<StdBackward0>)\n",
      "tensor(0.2258, grad_fn=<SelectBackward0>) tensor(0.0396, grad_fn=<DivBackward0>) tensor(0.4066, grad_fn=<StdBackward0>)\n",
      "tensor(0.2252, grad_fn=<SelectBackward0>) tensor(0.0358, grad_fn=<DivBackward0>) tensor(0.3946, grad_fn=<StdBackward0>)\n",
      "tensor(0.2276, grad_fn=<SelectBackward0>) tensor(0.0407, grad_fn=<DivBackward0>) tensor(0.4103, grad_fn=<StdBackward0>)\n",
      "tensor(0.2270, grad_fn=<SelectBackward0>) tensor(0.0367, grad_fn=<DivBackward0>) tensor(0.3980, grad_fn=<StdBackward0>)\n",
      "tensor(0.2294, grad_fn=<SelectBackward0>) tensor(0.0418, grad_fn=<DivBackward0>) tensor(0.4142, grad_fn=<StdBackward0>)\n",
      "tensor(0.2287, grad_fn=<SelectBackward0>) tensor(0.0376, grad_fn=<DivBackward0>) tensor(0.4015, grad_fn=<StdBackward0>)\n",
      "tensor(0.2312, grad_fn=<SelectBackward0>) tensor(0.0430, grad_fn=<DivBackward0>) tensor(0.4180, grad_fn=<StdBackward0>)\n",
      "tensor(0.2305, grad_fn=<SelectBackward0>) tensor(0.0386, grad_fn=<DivBackward0>) tensor(0.4050, grad_fn=<StdBackward0>)\n",
      "tensor(0.2330, grad_fn=<SelectBackward0>) tensor(0.0442, grad_fn=<DivBackward0>) tensor(0.4218, grad_fn=<StdBackward0>)\n",
      "tensor(0.2322, grad_fn=<SelectBackward0>) tensor(0.0395, grad_fn=<DivBackward0>) tensor(0.4085, grad_fn=<StdBackward0>)\n",
      "tensor(0.2348, grad_fn=<SelectBackward0>) tensor(0.0454, grad_fn=<DivBackward0>) tensor(0.4258, grad_fn=<StdBackward0>)\n",
      "tensor(0.2340, grad_fn=<SelectBackward0>) tensor(0.0405, grad_fn=<DivBackward0>) tensor(0.4122, grad_fn=<StdBackward0>)\n",
      "tensor(0.2365, grad_fn=<SelectBackward0>) tensor(0.0466, grad_fn=<DivBackward0>) tensor(0.4298, grad_fn=<StdBackward0>)\n",
      "tensor(0.2357, grad_fn=<SelectBackward0>) tensor(0.0415, grad_fn=<DivBackward0>) tensor(0.4159, grad_fn=<StdBackward0>)\n",
      "tensor(0.2383, grad_fn=<SelectBackward0>) tensor(0.0479, grad_fn=<DivBackward0>) tensor(0.4338, grad_fn=<StdBackward0>)\n",
      "tensor(0.2374, grad_fn=<SelectBackward0>) tensor(0.0426, grad_fn=<DivBackward0>) tensor(0.4196, grad_fn=<StdBackward0>)\n",
      "tensor(0.2400, grad_fn=<SelectBackward0>) tensor(0.0492, grad_fn=<DivBackward0>) tensor(0.4379, grad_fn=<StdBackward0>)\n",
      "tensor(0.2391, grad_fn=<SelectBackward0>) tensor(0.0436, grad_fn=<DivBackward0>) tensor(0.4234, grad_fn=<StdBackward0>)\n",
      "tensor(0.2417, grad_fn=<SelectBackward0>) tensor(0.0505, grad_fn=<DivBackward0>) tensor(0.4420, grad_fn=<StdBackward0>)\n",
      "tensor(0.2408, grad_fn=<SelectBackward0>) tensor(0.0447, grad_fn=<DivBackward0>) tensor(0.4272, grad_fn=<StdBackward0>)\n",
      "tensor(0.2434, grad_fn=<SelectBackward0>) tensor(0.0519, grad_fn=<DivBackward0>) tensor(0.4462, grad_fn=<StdBackward0>)\n",
      "tensor(0.2425, grad_fn=<SelectBackward0>) tensor(0.0458, grad_fn=<DivBackward0>) tensor(0.4310, grad_fn=<StdBackward0>)\n",
      "tensor(0.2451, grad_fn=<SelectBackward0>) tensor(0.0532, grad_fn=<DivBackward0>) tensor(0.4503, grad_fn=<StdBackward0>)\n",
      "tensor(0.2442, grad_fn=<SelectBackward0>) tensor(0.0470, grad_fn=<DivBackward0>) tensor(0.4349, grad_fn=<StdBackward0>)\n",
      "tensor(0.2468, grad_fn=<SelectBackward0>) tensor(0.0547, grad_fn=<DivBackward0>) tensor(0.4544, grad_fn=<StdBackward0>)\n",
      "tensor(0.2458, grad_fn=<SelectBackward0>) tensor(0.0481, grad_fn=<DivBackward0>) tensor(0.4388, grad_fn=<StdBackward0>)\n",
      "tensor(0.2485, grad_fn=<SelectBackward0>) tensor(0.0561, grad_fn=<DivBackward0>) tensor(0.4586, grad_fn=<StdBackward0>)\n",
      "tensor(0.2475, grad_fn=<SelectBackward0>) tensor(0.0493, grad_fn=<DivBackward0>) tensor(0.4427, grad_fn=<StdBackward0>)\n",
      "tensor(0.2502, grad_fn=<SelectBackward0>) tensor(0.0576, grad_fn=<DivBackward0>) tensor(0.4629, grad_fn=<StdBackward0>)\n",
      "tensor(0.2491, grad_fn=<SelectBackward0>) tensor(0.0505, grad_fn=<DivBackward0>) tensor(0.4468, grad_fn=<StdBackward0>)\n",
      "tensor(0.2518, grad_fn=<SelectBackward0>) tensor(0.0591, grad_fn=<DivBackward0>) tensor(0.4672, grad_fn=<StdBackward0>)\n",
      "tensor(0.2508, grad_fn=<SelectBackward0>) tensor(0.0517, grad_fn=<DivBackward0>) tensor(0.4508, grad_fn=<StdBackward0>)\n",
      "tensor(0.2535, grad_fn=<SelectBackward0>) tensor(0.0607, grad_fn=<DivBackward0>) tensor(0.4715, grad_fn=<StdBackward0>)\n",
      "tensor(0.2524, grad_fn=<SelectBackward0>) tensor(0.0529, grad_fn=<DivBackward0>) tensor(0.4547, grad_fn=<StdBackward0>)\n",
      "tensor(0.2551, grad_fn=<SelectBackward0>) tensor(0.0623, grad_fn=<DivBackward0>) tensor(0.4757, grad_fn=<StdBackward0>)\n",
      "tensor(0.2540, grad_fn=<SelectBackward0>) tensor(0.0542, grad_fn=<DivBackward0>) tensor(0.4587, grad_fn=<StdBackward0>)\n",
      "tensor(0.2568, grad_fn=<SelectBackward0>) tensor(0.0639, grad_fn=<DivBackward0>) tensor(0.4799, grad_fn=<StdBackward0>)\n",
      "tensor(0.2556, grad_fn=<SelectBackward0>) tensor(0.0555, grad_fn=<DivBackward0>) tensor(0.4627, grad_fn=<StdBackward0>)\n",
      "tensor(0.2584, grad_fn=<SelectBackward0>) tensor(0.0655, grad_fn=<DivBackward0>) tensor(0.4842, grad_fn=<StdBackward0>)\n",
      "tensor(0.2572, grad_fn=<SelectBackward0>) tensor(0.0569, grad_fn=<DivBackward0>) tensor(0.4668, grad_fn=<StdBackward0>)\n",
      "tensor(0.2600, grad_fn=<SelectBackward0>) tensor(0.0673, grad_fn=<DivBackward0>) tensor(0.4885, grad_fn=<StdBackward0>)\n",
      "tensor(0.2588, grad_fn=<SelectBackward0>) tensor(0.0583, grad_fn=<DivBackward0>) tensor(0.4709, grad_fn=<StdBackward0>)\n",
      "tensor(0.2616, grad_fn=<SelectBackward0>) tensor(0.0691, grad_fn=<DivBackward0>) tensor(0.4928, grad_fn=<StdBackward0>)\n",
      "tensor(0.2604, grad_fn=<SelectBackward0>) tensor(0.0597, grad_fn=<DivBackward0>) tensor(0.4749, grad_fn=<StdBackward0>)\n",
      "tensor(0.2632, grad_fn=<SelectBackward0>) tensor(0.0709, grad_fn=<DivBackward0>) tensor(0.4971, grad_fn=<StdBackward0>)\n",
      "tensor(0.2619, grad_fn=<SelectBackward0>) tensor(0.0612, grad_fn=<DivBackward0>) tensor(0.4790, grad_fn=<StdBackward0>)\n",
      "tensor(0.2647, grad_fn=<SelectBackward0>) tensor(0.0728, grad_fn=<DivBackward0>) tensor(0.5014, grad_fn=<StdBackward0>)\n",
      "tensor(0.2635, grad_fn=<SelectBackward0>) tensor(0.0627, grad_fn=<DivBackward0>) tensor(0.4831, grad_fn=<StdBackward0>)\n",
      "tensor(0.2663, grad_fn=<SelectBackward0>) tensor(0.0748, grad_fn=<DivBackward0>) tensor(0.5058, grad_fn=<StdBackward0>)\n",
      "tensor(0.2650, grad_fn=<SelectBackward0>) tensor(0.0642, grad_fn=<DivBackward0>) tensor(0.4871, grad_fn=<StdBackward0>)\n",
      "tensor(0.2678, grad_fn=<SelectBackward0>) tensor(0.0767, grad_fn=<DivBackward0>) tensor(0.5100, grad_fn=<StdBackward0>)\n",
      "tensor(0.2666, grad_fn=<SelectBackward0>) tensor(0.0657, grad_fn=<DivBackward0>) tensor(0.4912, grad_fn=<StdBackward0>)\n",
      "tensor(0.2694, grad_fn=<SelectBackward0>) tensor(0.0787, grad_fn=<DivBackward0>) tensor(0.5143, grad_fn=<StdBackward0>)\n",
      "tensor(0.2681, grad_fn=<SelectBackward0>) tensor(0.0673, grad_fn=<DivBackward0>) tensor(0.4953, grad_fn=<StdBackward0>)\n",
      "tensor(0.2709, grad_fn=<SelectBackward0>) tensor(0.0807, grad_fn=<DivBackward0>) tensor(0.5186, grad_fn=<StdBackward0>)\n",
      "tensor(0.2696, grad_fn=<SelectBackward0>) tensor(0.0689, grad_fn=<DivBackward0>) tensor(0.4993, grad_fn=<StdBackward0>)\n",
      "tensor(0.2724, grad_fn=<SelectBackward0>) tensor(0.0828, grad_fn=<DivBackward0>) tensor(0.5228, grad_fn=<StdBackward0>)\n",
      "tensor(0.2711, grad_fn=<SelectBackward0>) tensor(0.0706, grad_fn=<DivBackward0>) tensor(0.5033, grad_fn=<StdBackward0>)\n",
      "tensor(0.2740, grad_fn=<SelectBackward0>) tensor(0.0849, grad_fn=<DivBackward0>) tensor(0.5270, grad_fn=<StdBackward0>)\n",
      "tensor(0.2726, grad_fn=<SelectBackward0>) tensor(0.0723, grad_fn=<DivBackward0>) tensor(0.5074, grad_fn=<StdBackward0>)\n",
      "tensor(0.2755, grad_fn=<SelectBackward0>) tensor(0.0871, grad_fn=<DivBackward0>) tensor(0.5313, grad_fn=<StdBackward0>)\n",
      "tensor(0.2741, grad_fn=<SelectBackward0>) tensor(0.0740, grad_fn=<DivBackward0>) tensor(0.5115, grad_fn=<StdBackward0>)\n",
      "tensor(0.2770, grad_fn=<SelectBackward0>) tensor(0.0894, grad_fn=<DivBackward0>) tensor(0.5355, grad_fn=<StdBackward0>)\n",
      "tensor(0.2756, grad_fn=<SelectBackward0>) tensor(0.0758, grad_fn=<DivBackward0>) tensor(0.5156, grad_fn=<StdBackward0>)\n",
      "tensor(0.2786, grad_fn=<SelectBackward0>) tensor(0.0916, grad_fn=<DivBackward0>) tensor(0.5398, grad_fn=<StdBackward0>)\n",
      "tensor(0.2771, grad_fn=<SelectBackward0>) tensor(0.0777, grad_fn=<DivBackward0>) tensor(0.5197, grad_fn=<StdBackward0>)\n",
      "tensor(0.2801, grad_fn=<SelectBackward0>) tensor(0.0940, grad_fn=<DivBackward0>) tensor(0.5441, grad_fn=<StdBackward0>)\n",
      "tensor(0.2786, grad_fn=<SelectBackward0>) tensor(0.0796, grad_fn=<DivBackward0>) tensor(0.5238, grad_fn=<StdBackward0>)\n",
      "tensor(0.2816, grad_fn=<SelectBackward0>) tensor(0.0965, grad_fn=<DivBackward0>) tensor(0.5484, grad_fn=<StdBackward0>)\n",
      "tensor(0.2801, grad_fn=<SelectBackward0>) tensor(0.0815, grad_fn=<DivBackward0>) tensor(0.5280, grad_fn=<StdBackward0>)\n",
      "tensor(0.2831, grad_fn=<SelectBackward0>) tensor(0.0989, grad_fn=<DivBackward0>) tensor(0.5527, grad_fn=<StdBackward0>)\n",
      "tensor(0.2816, grad_fn=<SelectBackward0>) tensor(0.0835, grad_fn=<DivBackward0>) tensor(0.5322, grad_fn=<StdBackward0>)\n",
      "tensor(0.2847, grad_fn=<SelectBackward0>) tensor(0.1015, grad_fn=<DivBackward0>) tensor(0.5571, grad_fn=<StdBackward0>)\n",
      "tensor(0.2831, grad_fn=<SelectBackward0>) tensor(0.0855, grad_fn=<DivBackward0>) tensor(0.5364, grad_fn=<StdBackward0>)\n",
      "tensor(0.2862, grad_fn=<SelectBackward0>) tensor(0.1042, grad_fn=<DivBackward0>) tensor(0.5615, grad_fn=<StdBackward0>)\n",
      "tensor(0.2846, grad_fn=<SelectBackward0>) tensor(0.0876, grad_fn=<DivBackward0>) tensor(0.5406, grad_fn=<StdBackward0>)\n",
      "tensor(0.2877, grad_fn=<SelectBackward0>) tensor(0.1069, grad_fn=<DivBackward0>) tensor(0.5658, grad_fn=<StdBackward0>)\n",
      "tensor(0.2861, grad_fn=<SelectBackward0>) tensor(0.0897, grad_fn=<DivBackward0>) tensor(0.5447, grad_fn=<StdBackward0>)\n",
      "tensor(0.2893, grad_fn=<SelectBackward0>) tensor(0.1096, grad_fn=<DivBackward0>) tensor(0.5701, grad_fn=<StdBackward0>)\n",
      "tensor(0.2876, grad_fn=<SelectBackward0>) tensor(0.0919, grad_fn=<DivBackward0>) tensor(0.5489, grad_fn=<StdBackward0>)\n",
      "tensor(0.2908, grad_fn=<SelectBackward0>) tensor(0.1125, grad_fn=<DivBackward0>) tensor(0.5744, grad_fn=<StdBackward0>)\n",
      "tensor(0.2891, grad_fn=<SelectBackward0>) tensor(0.0942, grad_fn=<DivBackward0>) tensor(0.5530, grad_fn=<StdBackward0>)\n",
      "tensor(0.2923, grad_fn=<SelectBackward0>) tensor(0.1154, grad_fn=<DivBackward0>) tensor(0.5787, grad_fn=<StdBackward0>)\n",
      "tensor(0.2905, grad_fn=<SelectBackward0>) tensor(0.0964, grad_fn=<DivBackward0>) tensor(0.5571, grad_fn=<StdBackward0>)\n",
      "tensor(0.2938, grad_fn=<SelectBackward0>) tensor(0.1183, grad_fn=<DivBackward0>) tensor(0.5829, grad_fn=<StdBackward0>)\n",
      "tensor(0.2920, grad_fn=<SelectBackward0>) tensor(0.0987, grad_fn=<DivBackward0>) tensor(0.5612, grad_fn=<StdBackward0>)\n",
      "tensor(0.2954, grad_fn=<SelectBackward0>) tensor(0.1211, grad_fn=<DivBackward0>) tensor(0.5871, grad_fn=<StdBackward0>)\n",
      "tensor(0.2935, grad_fn=<SelectBackward0>) tensor(0.1010, grad_fn=<DivBackward0>) tensor(0.5654, grad_fn=<StdBackward0>)\n",
      "tensor(0.2969, grad_fn=<SelectBackward0>) tensor(0.1242, grad_fn=<DivBackward0>) tensor(0.5915, grad_fn=<StdBackward0>)\n",
      "tensor(0.2950, grad_fn=<SelectBackward0>) tensor(0.1033, grad_fn=<DivBackward0>) tensor(0.5697, grad_fn=<StdBackward0>)\n",
      "tensor(0.2984, grad_fn=<SelectBackward0>) tensor(0.1272, grad_fn=<DivBackward0>) tensor(0.5958, grad_fn=<StdBackward0>)\n",
      "tensor(0.2964, grad_fn=<SelectBackward0>) tensor(0.1057, grad_fn=<DivBackward0>) tensor(0.5739, grad_fn=<StdBackward0>)\n",
      "tensor(0.3000, grad_fn=<SelectBackward0>) tensor(0.1305, grad_fn=<DivBackward0>) tensor(0.6002, grad_fn=<StdBackward0>)\n",
      "tensor(0.2979, grad_fn=<SelectBackward0>) tensor(0.1081, grad_fn=<DivBackward0>) tensor(0.5780, grad_fn=<StdBackward0>)\n",
      "tensor(0.3015, grad_fn=<SelectBackward0>) tensor(0.1337, grad_fn=<DivBackward0>) tensor(0.6044, grad_fn=<StdBackward0>)\n",
      "tensor(0.2993, grad_fn=<SelectBackward0>) tensor(0.1106, grad_fn=<DivBackward0>) tensor(0.5821, grad_fn=<StdBackward0>)\n",
      "tensor(0.3030, grad_fn=<SelectBackward0>) tensor(0.1370, grad_fn=<DivBackward0>) tensor(0.6087, grad_fn=<StdBackward0>)\n",
      "tensor(0.3007, grad_fn=<SelectBackward0>) tensor(0.1131, grad_fn=<DivBackward0>) tensor(0.5862, grad_fn=<StdBackward0>)\n",
      "tensor(0.3044, grad_fn=<SelectBackward0>) tensor(0.1403, grad_fn=<DivBackward0>) tensor(0.6128, grad_fn=<StdBackward0>)\n",
      "tensor(0.3021, grad_fn=<SelectBackward0>) tensor(0.1155, grad_fn=<DivBackward0>) tensor(0.5900, grad_fn=<StdBackward0>)\n",
      "tensor(0.3059, grad_fn=<SelectBackward0>) tensor(0.1436, grad_fn=<DivBackward0>) tensor(0.6168, grad_fn=<StdBackward0>)\n",
      "tensor(0.3034, grad_fn=<SelectBackward0>) tensor(0.1179, grad_fn=<DivBackward0>) tensor(0.5939, grad_fn=<StdBackward0>)\n",
      "tensor(0.3073, grad_fn=<SelectBackward0>) tensor(0.1469, grad_fn=<DivBackward0>) tensor(0.6207, grad_fn=<StdBackward0>)\n",
      "tensor(0.3048, grad_fn=<SelectBackward0>) tensor(0.1205, grad_fn=<DivBackward0>) tensor(0.5978, grad_fn=<StdBackward0>)\n",
      "tensor(0.3087, grad_fn=<SelectBackward0>) tensor(0.1505, grad_fn=<DivBackward0>) tensor(0.6247, grad_fn=<StdBackward0>)\n",
      "tensor(0.3061, grad_fn=<SelectBackward0>) tensor(0.1230, grad_fn=<DivBackward0>) tensor(0.6015, grad_fn=<StdBackward0>)\n",
      "tensor(0.3101, grad_fn=<SelectBackward0>) tensor(0.1539, grad_fn=<DivBackward0>) tensor(0.6285, grad_fn=<StdBackward0>)\n",
      "tensor(0.3074, grad_fn=<SelectBackward0>) tensor(0.1255, grad_fn=<DivBackward0>) tensor(0.6052, grad_fn=<StdBackward0>)\n",
      "tensor(0.3115, grad_fn=<SelectBackward0>) tensor(0.1574, grad_fn=<DivBackward0>) tensor(0.6323, grad_fn=<StdBackward0>)\n",
      "tensor(0.3086, grad_fn=<SelectBackward0>) tensor(0.1279, grad_fn=<DivBackward0>) tensor(0.6086, grad_fn=<StdBackward0>)\n",
      "tensor(0.3128, grad_fn=<SelectBackward0>) tensor(0.1608, grad_fn=<DivBackward0>) tensor(0.6358, grad_fn=<StdBackward0>)\n",
      "tensor(0.3098, grad_fn=<SelectBackward0>) tensor(0.1302, grad_fn=<DivBackward0>) tensor(0.6118, grad_fn=<StdBackward0>)\n",
      "tensor(0.3141, grad_fn=<SelectBackward0>) tensor(0.1641, grad_fn=<DivBackward0>) tensor(0.6391, grad_fn=<StdBackward0>)\n",
      "tensor(0.3109, grad_fn=<SelectBackward0>) tensor(0.1326, grad_fn=<DivBackward0>) tensor(0.6151, grad_fn=<StdBackward0>)\n",
      "tensor(0.3154, grad_fn=<SelectBackward0>) tensor(0.1676, grad_fn=<DivBackward0>) tensor(0.6424, grad_fn=<StdBackward0>)\n",
      "tensor(0.3121, grad_fn=<SelectBackward0>) tensor(0.1350, grad_fn=<DivBackward0>) tensor(0.6183, grad_fn=<StdBackward0>)\n",
      "tensor(0.3166, grad_fn=<SelectBackward0>) tensor(0.1711, grad_fn=<DivBackward0>) tensor(0.6456, grad_fn=<StdBackward0>)\n",
      "tensor(0.3132, grad_fn=<SelectBackward0>) tensor(0.1374, grad_fn=<DivBackward0>) tensor(0.6214, grad_fn=<StdBackward0>)\n",
      "tensor(0.3178, grad_fn=<SelectBackward0>) tensor(0.1747, grad_fn=<DivBackward0>) tensor(0.6488, grad_fn=<StdBackward0>)\n",
      "tensor(0.3143, grad_fn=<SelectBackward0>) tensor(0.1399, grad_fn=<DivBackward0>) tensor(0.6244, grad_fn=<StdBackward0>)\n",
      "tensor(0.3190, grad_fn=<SelectBackward0>) tensor(0.1784, grad_fn=<DivBackward0>) tensor(0.6520, grad_fn=<StdBackward0>)\n",
      "tensor(0.3153, grad_fn=<SelectBackward0>) tensor(0.1423, grad_fn=<DivBackward0>) tensor(0.6273, grad_fn=<StdBackward0>)\n",
      "tensor(0.3202, grad_fn=<SelectBackward0>) tensor(0.1821, grad_fn=<DivBackward0>) tensor(0.6550, grad_fn=<StdBackward0>)\n",
      "tensor(0.3164, grad_fn=<SelectBackward0>) tensor(0.1449, grad_fn=<DivBackward0>) tensor(0.6302, grad_fn=<StdBackward0>)\n",
      "tensor(0.3213, grad_fn=<SelectBackward0>) tensor(0.1860, grad_fn=<DivBackward0>) tensor(0.6580, grad_fn=<StdBackward0>)\n",
      "tensor(0.3174, grad_fn=<SelectBackward0>) tensor(0.1473, grad_fn=<DivBackward0>) tensor(0.6330, grad_fn=<StdBackward0>)\n",
      "tensor(0.3224, grad_fn=<SelectBackward0>) tensor(0.1898, grad_fn=<DivBackward0>) tensor(0.6608, grad_fn=<StdBackward0>)\n",
      "tensor(0.3184, grad_fn=<SelectBackward0>) tensor(0.1498, grad_fn=<DivBackward0>) tensor(0.6357, grad_fn=<StdBackward0>)\n",
      "tensor(0.3235, grad_fn=<SelectBackward0>) tensor(0.1937, grad_fn=<DivBackward0>) tensor(0.6636, grad_fn=<StdBackward0>)\n",
      "tensor(0.3194, grad_fn=<SelectBackward0>) tensor(0.1524, grad_fn=<DivBackward0>) tensor(0.6383, grad_fn=<StdBackward0>)\n",
      "tensor(0.3246, grad_fn=<SelectBackward0>) tensor(0.1977, grad_fn=<DivBackward0>) tensor(0.6662, grad_fn=<StdBackward0>)\n",
      "tensor(0.3203, grad_fn=<SelectBackward0>) tensor(0.1549, grad_fn=<DivBackward0>) tensor(0.6407, grad_fn=<StdBackward0>)\n",
      "tensor(0.3256, grad_fn=<SelectBackward0>) tensor(0.2015, grad_fn=<DivBackward0>) tensor(0.6686, grad_fn=<StdBackward0>)\n",
      "tensor(0.3212, grad_fn=<SelectBackward0>) tensor(0.1573, grad_fn=<DivBackward0>) tensor(0.6429, grad_fn=<StdBackward0>)\n",
      "tensor(0.3266, grad_fn=<SelectBackward0>) tensor(0.2053, grad_fn=<DivBackward0>) tensor(0.6709, grad_fn=<StdBackward0>)\n",
      "tensor(0.3221, grad_fn=<SelectBackward0>) tensor(0.1597, grad_fn=<DivBackward0>) tensor(0.6451, grad_fn=<StdBackward0>)\n",
      "tensor(0.3276, grad_fn=<SelectBackward0>) tensor(0.2091, grad_fn=<DivBackward0>) tensor(0.6732, grad_fn=<StdBackward0>)\n",
      "tensor(0.3229, grad_fn=<SelectBackward0>) tensor(0.1619, grad_fn=<DivBackward0>) tensor(0.6471, grad_fn=<StdBackward0>)\n",
      "tensor(0.3285, grad_fn=<SelectBackward0>) tensor(0.2126, grad_fn=<DivBackward0>) tensor(0.6752, grad_fn=<StdBackward0>)\n",
      "tensor(0.3236, grad_fn=<SelectBackward0>) tensor(0.1641, grad_fn=<DivBackward0>) tensor(0.6490, grad_fn=<StdBackward0>)\n",
      "tensor(0.3294, grad_fn=<SelectBackward0>) tensor(0.2161, grad_fn=<DivBackward0>) tensor(0.6770, grad_fn=<StdBackward0>)\n",
      "tensor(0.3243, grad_fn=<SelectBackward0>) tensor(0.1662, grad_fn=<DivBackward0>) tensor(0.6507, grad_fn=<StdBackward0>)\n",
      "tensor(0.3302, grad_fn=<SelectBackward0>) tensor(0.2193, grad_fn=<DivBackward0>) tensor(0.6788, grad_fn=<StdBackward0>)\n",
      "tensor(0.3250, grad_fn=<SelectBackward0>) tensor(0.1682, grad_fn=<DivBackward0>) tensor(0.6523, grad_fn=<StdBackward0>)\n",
      "tensor(0.3311, grad_fn=<SelectBackward0>) tensor(0.2227, grad_fn=<DivBackward0>) tensor(0.6804, grad_fn=<StdBackward0>)\n",
      "tensor(0.3257, grad_fn=<SelectBackward0>) tensor(0.1702, grad_fn=<DivBackward0>) tensor(0.6538, grad_fn=<StdBackward0>)\n",
      "tensor(0.3318, grad_fn=<SelectBackward0>) tensor(0.2259, grad_fn=<DivBackward0>) tensor(0.6820, grad_fn=<StdBackward0>)\n",
      "tensor(0.3263, grad_fn=<SelectBackward0>) tensor(0.1719, grad_fn=<DivBackward0>) tensor(0.6552, grad_fn=<StdBackward0>)\n",
      "tensor(0.3326, grad_fn=<SelectBackward0>) tensor(0.2288, grad_fn=<DivBackward0>) tensor(0.6834, grad_fn=<StdBackward0>)\n",
      "tensor(0.3269, grad_fn=<SelectBackward0>) tensor(0.1736, grad_fn=<DivBackward0>) tensor(0.6565, grad_fn=<StdBackward0>)\n",
      "tensor(0.3333, grad_fn=<SelectBackward0>) tensor(0.2316, grad_fn=<DivBackward0>) tensor(0.6848, grad_fn=<StdBackward0>)\n",
      "tensor(0.3274, grad_fn=<SelectBackward0>) tensor(0.1749, grad_fn=<DivBackward0>) tensor(0.6576, grad_fn=<StdBackward0>)\n",
      "tensor(0.3339, grad_fn=<SelectBackward0>) tensor(0.2338, grad_fn=<DivBackward0>) tensor(0.6859, grad_fn=<StdBackward0>)\n",
      "tensor(0.3279, grad_fn=<SelectBackward0>) tensor(0.1761, grad_fn=<DivBackward0>) tensor(0.6586, grad_fn=<StdBackward0>)\n",
      "tensor(0.3345, grad_fn=<SelectBackward0>) tensor(0.2359, grad_fn=<DivBackward0>) tensor(0.6869, grad_fn=<StdBackward0>)\n",
      "tensor(0.3283, grad_fn=<SelectBackward0>) tensor(0.1773, grad_fn=<DivBackward0>) tensor(0.6595, grad_fn=<StdBackward0>)\n",
      "tensor(0.3350, grad_fn=<SelectBackward0>) tensor(0.2379, grad_fn=<DivBackward0>) tensor(0.6879, grad_fn=<StdBackward0>)\n",
      "tensor(0.3288, grad_fn=<SelectBackward0>) tensor(0.1785, grad_fn=<DivBackward0>) tensor(0.6605, grad_fn=<StdBackward0>)\n",
      "tensor(0.3356, grad_fn=<SelectBackward0>) tensor(0.2400, grad_fn=<DivBackward0>) tensor(0.6889, grad_fn=<StdBackward0>)\n",
      "tensor(0.3292, grad_fn=<SelectBackward0>) tensor(0.1798, grad_fn=<DivBackward0>) tensor(0.6614, grad_fn=<StdBackward0>)\n",
      "tensor(0.3361, grad_fn=<SelectBackward0>) tensor(0.2422, grad_fn=<DivBackward0>) tensor(0.6898, grad_fn=<StdBackward0>)\n",
      "tensor(0.3297, grad_fn=<SelectBackward0>) tensor(0.1810, grad_fn=<DivBackward0>) tensor(0.6623, grad_fn=<StdBackward0>)\n",
      "tensor(0.3366, grad_fn=<SelectBackward0>) tensor(0.2443, grad_fn=<DivBackward0>) tensor(0.6907, grad_fn=<StdBackward0>)\n",
      "tensor(0.3301, grad_fn=<SelectBackward0>) tensor(0.1822, grad_fn=<DivBackward0>) tensor(0.6632, grad_fn=<StdBackward0>)\n",
      "tensor(0.3371, grad_fn=<SelectBackward0>) tensor(0.2464, grad_fn=<DivBackward0>) tensor(0.6916, grad_fn=<StdBackward0>)\n",
      "tensor(0.3305, grad_fn=<SelectBackward0>) tensor(0.1834, grad_fn=<DivBackward0>) tensor(0.6639, grad_fn=<StdBackward0>)\n",
      "tensor(0.3376, grad_fn=<SelectBackward0>) tensor(0.2483, grad_fn=<DivBackward0>) tensor(0.6923, grad_fn=<StdBackward0>)\n",
      "tensor(0.3309, grad_fn=<SelectBackward0>) tensor(0.1844, grad_fn=<DivBackward0>) tensor(0.6647, grad_fn=<StdBackward0>)\n",
      "tensor(0.3380, grad_fn=<SelectBackward0>) tensor(0.2501, grad_fn=<DivBackward0>) tensor(0.6931, grad_fn=<StdBackward0>)\n",
      "tensor(0.3313, grad_fn=<SelectBackward0>) tensor(0.1854, grad_fn=<DivBackward0>) tensor(0.6653, grad_fn=<StdBackward0>)\n",
      "tensor(0.3385, grad_fn=<SelectBackward0>) tensor(0.2518, grad_fn=<DivBackward0>) tensor(0.6937, grad_fn=<StdBackward0>)\n",
      "tensor(0.3316, grad_fn=<SelectBackward0>) tensor(0.1863, grad_fn=<DivBackward0>) tensor(0.6659, grad_fn=<StdBackward0>)\n",
      "tensor(0.3389, grad_fn=<SelectBackward0>) tensor(0.2534, grad_fn=<DivBackward0>) tensor(0.6943, grad_fn=<StdBackward0>)\n",
      "tensor(0.3320, grad_fn=<SelectBackward0>) tensor(0.1873, grad_fn=<DivBackward0>) tensor(0.6665, grad_fn=<StdBackward0>)\n",
      "tensor(0.3393, grad_fn=<SelectBackward0>) tensor(0.2550, grad_fn=<DivBackward0>) tensor(0.6949, grad_fn=<StdBackward0>)\n",
      "tensor(0.3323, grad_fn=<SelectBackward0>) tensor(0.1882, grad_fn=<DivBackward0>) tensor(0.6670, grad_fn=<StdBackward0>)\n",
      "tensor(0.3397, grad_fn=<SelectBackward0>) tensor(0.2566, grad_fn=<DivBackward0>) tensor(0.6954, grad_fn=<StdBackward0>)\n",
      "tensor(0.3327, grad_fn=<SelectBackward0>) tensor(0.1889, grad_fn=<DivBackward0>) tensor(0.6674, grad_fn=<StdBackward0>)\n",
      "tensor(0.3400, grad_fn=<SelectBackward0>) tensor(0.2579, grad_fn=<DivBackward0>) tensor(0.6959, grad_fn=<StdBackward0>)\n",
      "tensor(0.3330, grad_fn=<SelectBackward0>) tensor(0.1898, grad_fn=<DivBackward0>) tensor(0.6678, grad_fn=<StdBackward0>)\n",
      "tensor(0.3404, grad_fn=<SelectBackward0>) tensor(0.2593, grad_fn=<DivBackward0>) tensor(0.6963, grad_fn=<StdBackward0>)\n",
      "tensor(0.3333, grad_fn=<SelectBackward0>) tensor(0.1906, grad_fn=<DivBackward0>) tensor(0.6681, grad_fn=<StdBackward0>)\n",
      "tensor(0.3408, grad_fn=<SelectBackward0>) tensor(0.2605, grad_fn=<DivBackward0>) tensor(0.6967, grad_fn=<StdBackward0>)\n",
      "tensor(0.3336, grad_fn=<SelectBackward0>) tensor(0.1913, grad_fn=<DivBackward0>) tensor(0.6685, grad_fn=<StdBackward0>)\n",
      "tensor(0.3411, grad_fn=<SelectBackward0>) tensor(0.2617, grad_fn=<DivBackward0>) tensor(0.6970, grad_fn=<StdBackward0>)\n",
      "tensor(0.3339, grad_fn=<SelectBackward0>) tensor(0.1921, grad_fn=<DivBackward0>) tensor(0.6688, grad_fn=<StdBackward0>)\n",
      "tensor(0.3414, grad_fn=<SelectBackward0>) tensor(0.2628, grad_fn=<DivBackward0>) tensor(0.6973, grad_fn=<StdBackward0>)\n",
      "tensor(0.3342, grad_fn=<SelectBackward0>) tensor(0.1928, grad_fn=<DivBackward0>) tensor(0.6691, grad_fn=<StdBackward0>)\n",
      "tensor(0.3417, grad_fn=<SelectBackward0>) tensor(0.2639, grad_fn=<DivBackward0>) tensor(0.6976, grad_fn=<StdBackward0>)\n",
      "tensor(0.3344, grad_fn=<SelectBackward0>) tensor(0.1935, grad_fn=<DivBackward0>) tensor(0.6693, grad_fn=<StdBackward0>)\n",
      "tensor(0.3420, grad_fn=<SelectBackward0>) tensor(0.2648, grad_fn=<DivBackward0>) tensor(0.6978, grad_fn=<StdBackward0>)\n",
      "tensor(0.3347, grad_fn=<SelectBackward0>) tensor(0.1941, grad_fn=<DivBackward0>) tensor(0.6696, grad_fn=<StdBackward0>)\n",
      "tensor(0.3423, grad_fn=<SelectBackward0>) tensor(0.2658, grad_fn=<DivBackward0>) tensor(0.6981, grad_fn=<StdBackward0>)\n",
      "tensor(0.3350, grad_fn=<SelectBackward0>) tensor(0.1947, grad_fn=<DivBackward0>) tensor(0.6699, grad_fn=<StdBackward0>)\n",
      "tensor(0.3426, grad_fn=<SelectBackward0>) tensor(0.2667, grad_fn=<DivBackward0>) tensor(0.6984, grad_fn=<StdBackward0>)\n",
      "tensor(0.3353, grad_fn=<SelectBackward0>) tensor(0.1953, grad_fn=<DivBackward0>) tensor(0.6701, grad_fn=<StdBackward0>)\n",
      "tensor(0.3429, grad_fn=<SelectBackward0>) tensor(0.2676, grad_fn=<DivBackward0>) tensor(0.6986, grad_fn=<StdBackward0>)\n",
      "tensor(0.3355, grad_fn=<SelectBackward0>) tensor(0.1958, grad_fn=<DivBackward0>) tensor(0.6703, grad_fn=<StdBackward0>)\n",
      "tensor(0.3432, grad_fn=<SelectBackward0>) tensor(0.2684, grad_fn=<DivBackward0>) tensor(0.6988, grad_fn=<StdBackward0>)\n",
      "tensor(0.3358, grad_fn=<SelectBackward0>) tensor(0.1963, grad_fn=<DivBackward0>) tensor(0.6705, grad_fn=<StdBackward0>)\n",
      "tensor(0.3435, grad_fn=<SelectBackward0>) tensor(0.2691, grad_fn=<DivBackward0>) tensor(0.6990, grad_fn=<StdBackward0>)\n",
      "tensor(0.3360, grad_fn=<SelectBackward0>) tensor(0.1968, grad_fn=<DivBackward0>) tensor(0.6707, grad_fn=<StdBackward0>)\n",
      "tensor(0.3438, grad_fn=<SelectBackward0>) tensor(0.2699, grad_fn=<DivBackward0>) tensor(0.6992, grad_fn=<StdBackward0>)\n",
      "tensor(0.3363, grad_fn=<SelectBackward0>) tensor(0.1973, grad_fn=<DivBackward0>) tensor(0.6708, grad_fn=<StdBackward0>)\n",
      "tensor(0.3440, grad_fn=<SelectBackward0>) tensor(0.2706, grad_fn=<DivBackward0>) tensor(0.6994, grad_fn=<StdBackward0>)\n",
      "tensor(0.3365, grad_fn=<SelectBackward0>) tensor(0.1978, grad_fn=<DivBackward0>) tensor(0.6710, grad_fn=<StdBackward0>)\n",
      "tensor(0.3443, grad_fn=<SelectBackward0>) tensor(0.2713, grad_fn=<DivBackward0>) tensor(0.6996, grad_fn=<StdBackward0>)\n",
      "tensor(0.3368, grad_fn=<SelectBackward0>) tensor(0.1982, grad_fn=<DivBackward0>) tensor(0.6712, grad_fn=<StdBackward0>)\n",
      "tensor(0.3446, grad_fn=<SelectBackward0>) tensor(0.2720, grad_fn=<DivBackward0>) tensor(0.6997, grad_fn=<StdBackward0>)\n",
      "tensor(0.3370, grad_fn=<SelectBackward0>) tensor(0.1986, grad_fn=<DivBackward0>) tensor(0.6713, grad_fn=<StdBackward0>)\n",
      "tensor(0.3448, grad_fn=<SelectBackward0>) tensor(0.2726, grad_fn=<DivBackward0>) tensor(0.6998, grad_fn=<StdBackward0>)\n",
      "tensor(0.3372, grad_fn=<SelectBackward0>) tensor(0.1991, grad_fn=<DivBackward0>) tensor(0.6714, grad_fn=<StdBackward0>)\n",
      "tensor(0.3451, grad_fn=<SelectBackward0>) tensor(0.2733, grad_fn=<DivBackward0>) tensor(0.7000, grad_fn=<StdBackward0>)\n",
      "tensor(0.3375, grad_fn=<SelectBackward0>) tensor(0.1995, grad_fn=<DivBackward0>) tensor(0.6715, grad_fn=<StdBackward0>)\n",
      "tensor(0.3453, grad_fn=<SelectBackward0>) tensor(0.2739, grad_fn=<DivBackward0>) tensor(0.7001, grad_fn=<StdBackward0>)\n",
      "tensor(0.3377, grad_fn=<SelectBackward0>) tensor(0.2000, grad_fn=<DivBackward0>) tensor(0.6717, grad_fn=<StdBackward0>)\n",
      "tensor(0.3456, grad_fn=<SelectBackward0>) tensor(0.2745, grad_fn=<DivBackward0>) tensor(0.7002, grad_fn=<StdBackward0>)\n",
      "tensor(0.3379, grad_fn=<SelectBackward0>) tensor(0.2004, grad_fn=<DivBackward0>) tensor(0.6718, grad_fn=<StdBackward0>)\n",
      "tensor(0.3458, grad_fn=<SelectBackward0>) tensor(0.2752, grad_fn=<DivBackward0>) tensor(0.7003, grad_fn=<StdBackward0>)\n",
      "tensor(0.3381, grad_fn=<SelectBackward0>) tensor(0.2008, grad_fn=<DivBackward0>) tensor(0.6719, grad_fn=<StdBackward0>)\n",
      "tensor(0.3461, grad_fn=<SelectBackward0>) tensor(0.2757, grad_fn=<DivBackward0>) tensor(0.7004, grad_fn=<StdBackward0>)\n",
      "tensor(0.3384, grad_fn=<SelectBackward0>) tensor(0.2012, grad_fn=<DivBackward0>) tensor(0.6720, grad_fn=<StdBackward0>)\n",
      "tensor(0.3463, grad_fn=<SelectBackward0>) tensor(0.2762, grad_fn=<DivBackward0>) tensor(0.7005, grad_fn=<StdBackward0>)\n",
      "tensor(0.3386, grad_fn=<SelectBackward0>) tensor(0.2015, grad_fn=<DivBackward0>) tensor(0.6721, grad_fn=<StdBackward0>)\n",
      "tensor(0.3465, grad_fn=<SelectBackward0>) tensor(0.2766, grad_fn=<DivBackward0>) tensor(0.7006, grad_fn=<StdBackward0>)\n",
      "tensor(0.3388, grad_fn=<SelectBackward0>) tensor(0.2018, grad_fn=<DivBackward0>) tensor(0.6721, grad_fn=<StdBackward0>)\n",
      "tensor(0.3467, grad_fn=<SelectBackward0>) tensor(0.2771, grad_fn=<DivBackward0>) tensor(0.7007, grad_fn=<StdBackward0>)\n",
      "tensor(0.3390, grad_fn=<SelectBackward0>) tensor(0.2022, grad_fn=<DivBackward0>) tensor(0.6722, grad_fn=<StdBackward0>)\n",
      "tensor(0.3469, grad_fn=<SelectBackward0>) tensor(0.2775, grad_fn=<DivBackward0>) tensor(0.7008, grad_fn=<StdBackward0>)\n",
      "tensor(0.3392, grad_fn=<SelectBackward0>) tensor(0.2025, grad_fn=<DivBackward0>) tensor(0.6723, grad_fn=<StdBackward0>)\n",
      "tensor(0.3472, grad_fn=<SelectBackward0>) tensor(0.2780, grad_fn=<DivBackward0>) tensor(0.7008, grad_fn=<StdBackward0>)\n",
      "tensor(0.3394, grad_fn=<SelectBackward0>) tensor(0.2028, grad_fn=<DivBackward0>) tensor(0.6723, grad_fn=<StdBackward0>)\n",
      "tensor(0.3474, grad_fn=<SelectBackward0>) tensor(0.2784, grad_fn=<DivBackward0>) tensor(0.7009, grad_fn=<StdBackward0>)\n",
      "tensor(0.3396, grad_fn=<SelectBackward0>) tensor(0.2031, grad_fn=<DivBackward0>) tensor(0.6724, grad_fn=<StdBackward0>)\n",
      "tensor(0.3476, grad_fn=<SelectBackward0>) tensor(0.2788, grad_fn=<DivBackward0>) tensor(0.7009, grad_fn=<StdBackward0>)\n",
      "tensor(0.3398, grad_fn=<SelectBackward0>) tensor(0.2034, grad_fn=<DivBackward0>) tensor(0.6724, grad_fn=<StdBackward0>)\n",
      "tensor(0.3478, grad_fn=<SelectBackward0>) tensor(0.2791, grad_fn=<DivBackward0>) tensor(0.7010, grad_fn=<StdBackward0>)\n",
      "tensor(0.3401, grad_fn=<SelectBackward0>) tensor(0.2037, grad_fn=<DivBackward0>) tensor(0.6725, grad_fn=<StdBackward0>)\n",
      "tensor(0.3480, grad_fn=<SelectBackward0>) tensor(0.2795, grad_fn=<DivBackward0>) tensor(0.7010, grad_fn=<StdBackward0>)\n",
      "tensor(0.3403, grad_fn=<SelectBackward0>) tensor(0.2039, grad_fn=<DivBackward0>) tensor(0.6725, grad_fn=<StdBackward0>)\n",
      "tensor(0.3482, grad_fn=<SelectBackward0>) tensor(0.2798, grad_fn=<DivBackward0>) tensor(0.7011, grad_fn=<StdBackward0>)\n",
      "tensor(0.3405, grad_fn=<SelectBackward0>) tensor(0.2042, grad_fn=<DivBackward0>) tensor(0.6726, grad_fn=<StdBackward0>)\n",
      "tensor(0.3484, grad_fn=<SelectBackward0>) tensor(0.2802, grad_fn=<DivBackward0>) tensor(0.7011, grad_fn=<StdBackward0>)\n",
      "tensor(0.3407, grad_fn=<SelectBackward0>) tensor(0.2044, grad_fn=<DivBackward0>) tensor(0.6726, grad_fn=<StdBackward0>)\n",
      "tensor(0.3486, grad_fn=<SelectBackward0>) tensor(0.2805, grad_fn=<DivBackward0>) tensor(0.7012, grad_fn=<StdBackward0>)\n",
      "tensor(0.3409, grad_fn=<SelectBackward0>) tensor(0.2047, grad_fn=<DivBackward0>) tensor(0.6727, grad_fn=<StdBackward0>)\n",
      "tensor(0.3488, grad_fn=<SelectBackward0>) tensor(0.2809, grad_fn=<DivBackward0>) tensor(0.7012, grad_fn=<StdBackward0>)\n",
      "tensor(0.3411, grad_fn=<SelectBackward0>) tensor(0.2050, grad_fn=<DivBackward0>) tensor(0.6727, grad_fn=<StdBackward0>)\n",
      "tensor(0.3490, grad_fn=<SelectBackward0>) tensor(0.2812, grad_fn=<DivBackward0>) tensor(0.7012, grad_fn=<StdBackward0>)\n",
      "tensor(0.3413, grad_fn=<SelectBackward0>) tensor(0.2052, grad_fn=<DivBackward0>) tensor(0.6727, grad_fn=<StdBackward0>)\n",
      "tensor(0.3492, grad_fn=<SelectBackward0>) tensor(0.2815, grad_fn=<DivBackward0>) tensor(0.7013, grad_fn=<StdBackward0>)\n",
      "tensor(0.3415, grad_fn=<SelectBackward0>) tensor(0.2055, grad_fn=<DivBackward0>) tensor(0.6727, grad_fn=<StdBackward0>)\n",
      "tensor(0.3494, grad_fn=<SelectBackward0>) tensor(0.2818, grad_fn=<DivBackward0>) tensor(0.7013, grad_fn=<StdBackward0>)\n",
      "tensor(0.3417, grad_fn=<SelectBackward0>) tensor(0.2057, grad_fn=<DivBackward0>) tensor(0.6728, grad_fn=<StdBackward0>)\n",
      "tensor(0.3496, grad_fn=<SelectBackward0>) tensor(0.2821, grad_fn=<DivBackward0>) tensor(0.7013, grad_fn=<StdBackward0>)\n",
      "tensor(0.3419, grad_fn=<SelectBackward0>) tensor(0.2059, grad_fn=<DivBackward0>) tensor(0.6728, grad_fn=<StdBackward0>)\n",
      "tensor(0.3498, grad_fn=<SelectBackward0>) tensor(0.2823, grad_fn=<DivBackward0>) tensor(0.7013, grad_fn=<StdBackward0>)\n",
      "tensor(0.3420, grad_fn=<SelectBackward0>) tensor(0.2061, grad_fn=<DivBackward0>) tensor(0.6728, grad_fn=<StdBackward0>)\n",
      "tensor(0.3500, grad_fn=<SelectBackward0>) tensor(0.2826, grad_fn=<DivBackward0>) tensor(0.7013, grad_fn=<StdBackward0>)\n",
      "tensor(0.3422, grad_fn=<SelectBackward0>) tensor(0.2063, grad_fn=<DivBackward0>) tensor(0.6728, grad_fn=<StdBackward0>)\n",
      "tensor(0.3502, grad_fn=<SelectBackward0>) tensor(0.2829, grad_fn=<DivBackward0>) tensor(0.7014, grad_fn=<StdBackward0>)\n",
      "tensor(0.3424, grad_fn=<SelectBackward0>) tensor(0.2066, grad_fn=<DivBackward0>) tensor(0.6729, grad_fn=<StdBackward0>)\n",
      "tensor(0.3504, grad_fn=<SelectBackward0>) tensor(0.2833, grad_fn=<DivBackward0>) tensor(0.7014, grad_fn=<StdBackward0>)\n",
      "tensor(0.3426, grad_fn=<SelectBackward0>) tensor(0.2069, grad_fn=<DivBackward0>) tensor(0.6729, grad_fn=<StdBackward0>)\n",
      "tensor(0.3506, grad_fn=<SelectBackward0>) tensor(0.2836, grad_fn=<DivBackward0>) tensor(0.7014, grad_fn=<StdBackward0>)\n",
      "tensor(0.3428, grad_fn=<SelectBackward0>) tensor(0.2072, grad_fn=<DivBackward0>) tensor(0.6729, grad_fn=<StdBackward0>)\n",
      "tensor(0.3508, grad_fn=<SelectBackward0>) tensor(0.2840, grad_fn=<DivBackward0>) tensor(0.7014, grad_fn=<StdBackward0>)\n",
      "tensor(0.3430, grad_fn=<SelectBackward0>) tensor(0.2074, grad_fn=<DivBackward0>) tensor(0.6729, grad_fn=<StdBackward0>)\n",
      "tensor(0.3510, grad_fn=<SelectBackward0>) tensor(0.2842, grad_fn=<DivBackward0>) tensor(0.7015, grad_fn=<StdBackward0>)\n",
      "tensor(0.3432, grad_fn=<SelectBackward0>) tensor(0.2076, grad_fn=<DivBackward0>) tensor(0.6730, grad_fn=<StdBackward0>)\n",
      "tensor(0.3512, grad_fn=<SelectBackward0>) tensor(0.2845, grad_fn=<DivBackward0>) tensor(0.7015, grad_fn=<StdBackward0>)\n",
      "tensor(0.3434, grad_fn=<SelectBackward0>) tensor(0.2078, grad_fn=<DivBackward0>) tensor(0.6730, grad_fn=<StdBackward0>)\n",
      "tensor(0.3514, grad_fn=<SelectBackward0>) tensor(0.2848, grad_fn=<DivBackward0>) tensor(0.7015, grad_fn=<StdBackward0>)\n",
      "tensor(0.3436, grad_fn=<SelectBackward0>) tensor(0.2080, grad_fn=<DivBackward0>) tensor(0.6730, grad_fn=<StdBackward0>)\n",
      "tensor(0.3515, grad_fn=<SelectBackward0>) tensor(0.2849, grad_fn=<DivBackward0>) tensor(0.7015, grad_fn=<StdBackward0>)\n",
      "tensor(0.3437, grad_fn=<SelectBackward0>) tensor(0.2081, grad_fn=<DivBackward0>) tensor(0.6730, grad_fn=<StdBackward0>)\n",
      "tensor(0.3517, grad_fn=<SelectBackward0>) tensor(0.2851, grad_fn=<DivBackward0>) tensor(0.7015, grad_fn=<StdBackward0>)\n",
      "tensor(0.3439, grad_fn=<SelectBackward0>) tensor(0.2083, grad_fn=<DivBackward0>) tensor(0.6729, grad_fn=<StdBackward0>)\n",
      "tensor(0.3519, grad_fn=<SelectBackward0>) tensor(0.2852, grad_fn=<DivBackward0>) tensor(0.7015, grad_fn=<StdBackward0>)\n",
      "tensor(0.3441, grad_fn=<SelectBackward0>) tensor(0.2085, grad_fn=<DivBackward0>) tensor(0.6729, grad_fn=<StdBackward0>)\n",
      "tensor(0.3520, grad_fn=<SelectBackward0>) tensor(0.2854, grad_fn=<DivBackward0>) tensor(0.7015, grad_fn=<StdBackward0>)\n",
      "tensor(0.3442, grad_fn=<SelectBackward0>) tensor(0.2087, grad_fn=<DivBackward0>) tensor(0.6729, grad_fn=<StdBackward0>)\n",
      "tensor(0.3522, grad_fn=<SelectBackward0>) tensor(0.2857, grad_fn=<DivBackward0>) tensor(0.7015, grad_fn=<StdBackward0>)\n",
      "tensor(0.3444, grad_fn=<SelectBackward0>) tensor(0.2089, grad_fn=<DivBackward0>) tensor(0.6729, grad_fn=<StdBackward0>)\n",
      "tensor(0.3524, grad_fn=<SelectBackward0>) tensor(0.2859, grad_fn=<DivBackward0>) tensor(0.7015, grad_fn=<StdBackward0>)\n",
      "tensor(0.3446, grad_fn=<SelectBackward0>) tensor(0.2091, grad_fn=<DivBackward0>) tensor(0.6729, grad_fn=<StdBackward0>)\n",
      "tensor(0.3525, grad_fn=<SelectBackward0>) tensor(0.2861, grad_fn=<DivBackward0>) tensor(0.7014, grad_fn=<StdBackward0>)\n",
      "tensor(0.3448, grad_fn=<SelectBackward0>) tensor(0.2093, grad_fn=<DivBackward0>) tensor(0.6729, grad_fn=<StdBackward0>)\n",
      "tensor(0.3527, grad_fn=<SelectBackward0>) tensor(0.2862, grad_fn=<DivBackward0>) tensor(0.7014, grad_fn=<StdBackward0>)\n",
      "tensor(0.3449, grad_fn=<SelectBackward0>) tensor(0.2094, grad_fn=<DivBackward0>) tensor(0.6729, grad_fn=<StdBackward0>)\n",
      "tensor(0.3529, grad_fn=<SelectBackward0>) tensor(0.2863, grad_fn=<DivBackward0>) tensor(0.7014, grad_fn=<StdBackward0>)\n",
      "tensor(0.3451, grad_fn=<SelectBackward0>) tensor(0.2095, grad_fn=<DivBackward0>) tensor(0.6729, grad_fn=<StdBackward0>)\n",
      "tensor(0.3530, grad_fn=<SelectBackward0>) tensor(0.2864, grad_fn=<DivBackward0>) tensor(0.7014, grad_fn=<StdBackward0>)\n",
      "tensor(0.3453, grad_fn=<SelectBackward0>) tensor(0.2097, grad_fn=<DivBackward0>) tensor(0.6729, grad_fn=<StdBackward0>)\n",
      "tensor(0.3532, grad_fn=<SelectBackward0>) tensor(0.2866, grad_fn=<DivBackward0>) tensor(0.7014, grad_fn=<StdBackward0>)\n",
      "tensor(0.3454, grad_fn=<SelectBackward0>) tensor(0.2098, grad_fn=<DivBackward0>) tensor(0.6729, grad_fn=<StdBackward0>)\n",
      "tensor(0.3534, grad_fn=<SelectBackward0>) tensor(0.2867, grad_fn=<DivBackward0>) tensor(0.7013, grad_fn=<StdBackward0>)\n",
      "tensor(0.3456, grad_fn=<SelectBackward0>) tensor(0.2099, grad_fn=<DivBackward0>) tensor(0.6728, grad_fn=<StdBackward0>)\n",
      "tensor(0.3535, grad_fn=<SelectBackward0>) tensor(0.2868, grad_fn=<DivBackward0>) tensor(0.7013, grad_fn=<StdBackward0>)\n",
      "tensor(0.3458, grad_fn=<SelectBackward0>) tensor(0.2101, grad_fn=<DivBackward0>) tensor(0.6728, grad_fn=<StdBackward0>)\n",
      "tensor(0.3537, grad_fn=<SelectBackward0>) tensor(0.2869, grad_fn=<DivBackward0>) tensor(0.7013, grad_fn=<StdBackward0>)\n",
      "tensor(0.3459, grad_fn=<SelectBackward0>) tensor(0.2101, grad_fn=<DivBackward0>) tensor(0.6728, grad_fn=<StdBackward0>)\n",
      "tensor(0.3538, grad_fn=<SelectBackward0>) tensor(0.2871, grad_fn=<DivBackward0>) tensor(0.7013, grad_fn=<StdBackward0>)\n",
      "tensor(0.3461, grad_fn=<SelectBackward0>) tensor(0.2103, grad_fn=<DivBackward0>) tensor(0.6728, grad_fn=<StdBackward0>)\n",
      "tensor(0.3540, grad_fn=<SelectBackward0>) tensor(0.2872, grad_fn=<DivBackward0>) tensor(0.7013, grad_fn=<StdBackward0>)\n",
      "tensor(0.3462, grad_fn=<SelectBackward0>) tensor(0.2104, grad_fn=<DivBackward0>) tensor(0.6728, grad_fn=<StdBackward0>)\n",
      "tensor(0.3541, grad_fn=<SelectBackward0>) tensor(0.2873, grad_fn=<DivBackward0>) tensor(0.7013, grad_fn=<StdBackward0>)\n",
      "tensor(0.3464, grad_fn=<SelectBackward0>) tensor(0.2106, grad_fn=<DivBackward0>) tensor(0.6728, grad_fn=<StdBackward0>)\n",
      "tensor(0.3543, grad_fn=<SelectBackward0>) tensor(0.2875, grad_fn=<DivBackward0>) tensor(0.7013, grad_fn=<StdBackward0>)\n",
      "tensor(0.3466, grad_fn=<SelectBackward0>) tensor(0.2107, grad_fn=<DivBackward0>) tensor(0.6728, grad_fn=<StdBackward0>)\n",
      "tensor(0.3545, grad_fn=<SelectBackward0>) tensor(0.2877, grad_fn=<DivBackward0>) tensor(0.7013, grad_fn=<StdBackward0>)\n",
      "tensor(0.3467, grad_fn=<SelectBackward0>) tensor(0.2108, grad_fn=<DivBackward0>) tensor(0.6728, grad_fn=<StdBackward0>)\n",
      "tensor(0.3546, grad_fn=<SelectBackward0>) tensor(0.2878, grad_fn=<DivBackward0>) tensor(0.7013, grad_fn=<StdBackward0>)\n",
      "tensor(0.3469, grad_fn=<SelectBackward0>) tensor(0.2108, grad_fn=<DivBackward0>) tensor(0.6728, grad_fn=<StdBackward0>)\n",
      "tensor(0.3547, grad_fn=<SelectBackward0>) tensor(0.2878, grad_fn=<DivBackward0>) tensor(0.7013, grad_fn=<StdBackward0>)\n",
      "tensor(0.3470, grad_fn=<SelectBackward0>) tensor(0.2109, grad_fn=<DivBackward0>) tensor(0.6728, grad_fn=<StdBackward0>)\n",
      "tensor(0.3549, grad_fn=<SelectBackward0>) tensor(0.2879, grad_fn=<DivBackward0>) tensor(0.7013, grad_fn=<StdBackward0>)\n",
      "tensor(0.3471, grad_fn=<SelectBackward0>) tensor(0.2110, grad_fn=<DivBackward0>) tensor(0.6728, grad_fn=<StdBackward0>)\n",
      "tensor(0.3550, grad_fn=<SelectBackward0>) tensor(0.2879, grad_fn=<DivBackward0>) tensor(0.7013, grad_fn=<StdBackward0>)\n",
      "tensor(0.3473, grad_fn=<SelectBackward0>) tensor(0.2110, grad_fn=<DivBackward0>) tensor(0.6728, grad_fn=<StdBackward0>)\n",
      "tensor(0.3552, grad_fn=<SelectBackward0>) tensor(0.2879, grad_fn=<DivBackward0>) tensor(0.7013, grad_fn=<StdBackward0>)\n",
      "tensor(0.3474, grad_fn=<SelectBackward0>) tensor(0.2110, grad_fn=<DivBackward0>) tensor(0.6727, grad_fn=<StdBackward0>)\n",
      "tensor(0.3553, grad_fn=<SelectBackward0>) tensor(0.2879, grad_fn=<DivBackward0>) tensor(0.7012, grad_fn=<StdBackward0>)\n",
      "tensor(0.3476, grad_fn=<SelectBackward0>) tensor(0.2112, grad_fn=<DivBackward0>) tensor(0.6727, grad_fn=<StdBackward0>)\n",
      "tensor(0.3554, grad_fn=<SelectBackward0>) tensor(0.2880, grad_fn=<DivBackward0>) tensor(0.7013, grad_fn=<StdBackward0>)\n",
      "tensor(0.3477, grad_fn=<SelectBackward0>) tensor(0.2112, grad_fn=<DivBackward0>) tensor(0.6727, grad_fn=<StdBackward0>)\n",
      "tensor(0.3556, grad_fn=<SelectBackward0>) tensor(0.2881, grad_fn=<DivBackward0>) tensor(0.7012, grad_fn=<StdBackward0>)\n",
      "tensor(0.3478, grad_fn=<SelectBackward0>) tensor(0.2113, grad_fn=<DivBackward0>) tensor(0.6727, grad_fn=<StdBackward0>)\n",
      "tensor(0.3557, grad_fn=<SelectBackward0>) tensor(0.2881, grad_fn=<DivBackward0>) tensor(0.7012, grad_fn=<StdBackward0>)\n",
      "tensor(0.3480, grad_fn=<SelectBackward0>) tensor(0.2114, grad_fn=<DivBackward0>) tensor(0.6727, grad_fn=<StdBackward0>)\n",
      "tensor(0.3559, grad_fn=<SelectBackward0>) tensor(0.2881, grad_fn=<DivBackward0>) tensor(0.7012, grad_fn=<StdBackward0>)\n",
      "tensor(0.3481, grad_fn=<SelectBackward0>) tensor(0.2115, grad_fn=<DivBackward0>) tensor(0.6727, grad_fn=<StdBackward0>)\n",
      "tensor(0.3560, grad_fn=<SelectBackward0>) tensor(0.2881, grad_fn=<DivBackward0>) tensor(0.7012, grad_fn=<StdBackward0>)\n",
      "tensor(0.3483, grad_fn=<SelectBackward0>) tensor(0.2115, grad_fn=<DivBackward0>) tensor(0.6727, grad_fn=<StdBackward0>)\n",
      "tensor(0.3561, grad_fn=<SelectBackward0>) tensor(0.2881, grad_fn=<DivBackward0>) tensor(0.7011, grad_fn=<StdBackward0>)\n",
      "tensor(0.3484, grad_fn=<SelectBackward0>) tensor(0.2116, grad_fn=<DivBackward0>) tensor(0.6726, grad_fn=<StdBackward0>)\n",
      "tensor(0.3563, grad_fn=<SelectBackward0>) tensor(0.2882, grad_fn=<DivBackward0>) tensor(0.7011, grad_fn=<StdBackward0>)\n",
      "tensor(0.3485, grad_fn=<SelectBackward0>) tensor(0.2116, grad_fn=<DivBackward0>) tensor(0.6726, grad_fn=<StdBackward0>)\n",
      "tensor(0.3564, grad_fn=<SelectBackward0>) tensor(0.2882, grad_fn=<DivBackward0>) tensor(0.7011, grad_fn=<StdBackward0>)\n",
      "tensor(0.3487, grad_fn=<SelectBackward0>) tensor(0.2117, grad_fn=<DivBackward0>) tensor(0.6726, grad_fn=<StdBackward0>)\n",
      "tensor(0.3565, grad_fn=<SelectBackward0>) tensor(0.2882, grad_fn=<DivBackward0>) tensor(0.7010, grad_fn=<StdBackward0>)\n",
      "tensor(0.3488, grad_fn=<SelectBackward0>) tensor(0.2118, grad_fn=<DivBackward0>) tensor(0.6725, grad_fn=<StdBackward0>)\n",
      "tensor(0.3567, grad_fn=<SelectBackward0>) tensor(0.2883, grad_fn=<DivBackward0>) tensor(0.7010, grad_fn=<StdBackward0>)\n",
      "tensor(0.3490, grad_fn=<SelectBackward0>) tensor(0.2119, grad_fn=<DivBackward0>) tensor(0.6725, grad_fn=<StdBackward0>)\n",
      "tensor(0.3568, grad_fn=<SelectBackward0>) tensor(0.2883, grad_fn=<DivBackward0>) tensor(0.7010, grad_fn=<StdBackward0>)\n",
      "tensor(0.3491, grad_fn=<SelectBackward0>) tensor(0.2119, grad_fn=<DivBackward0>) tensor(0.6725, grad_fn=<StdBackward0>)\n",
      "tensor(0.3569, grad_fn=<SelectBackward0>) tensor(0.2883, grad_fn=<DivBackward0>) tensor(0.7010, grad_fn=<StdBackward0>)\n",
      "tensor(0.3492, grad_fn=<SelectBackward0>) tensor(0.2120, grad_fn=<DivBackward0>) tensor(0.6725, grad_fn=<StdBackward0>)\n",
      "tensor(0.3571, grad_fn=<SelectBackward0>) tensor(0.2884, grad_fn=<DivBackward0>) tensor(0.7009, grad_fn=<StdBackward0>)\n",
      "tensor(0.3494, grad_fn=<SelectBackward0>) tensor(0.2120, grad_fn=<DivBackward0>) tensor(0.6724, grad_fn=<StdBackward0>)\n",
      "tensor(0.3572, grad_fn=<SelectBackward0>) tensor(0.2884, grad_fn=<DivBackward0>) tensor(0.7009, grad_fn=<StdBackward0>)\n",
      "tensor(0.3495, grad_fn=<SelectBackward0>) tensor(0.2121, grad_fn=<DivBackward0>) tensor(0.6724, grad_fn=<StdBackward0>)\n",
      "tensor(0.3573, grad_fn=<SelectBackward0>) tensor(0.2884, grad_fn=<DivBackward0>) tensor(0.7009, grad_fn=<StdBackward0>)\n",
      "tensor(0.3496, grad_fn=<SelectBackward0>) tensor(0.2122, grad_fn=<DivBackward0>) tensor(0.6724, grad_fn=<StdBackward0>)\n",
      "tensor(0.3575, grad_fn=<SelectBackward0>) tensor(0.2886, grad_fn=<DivBackward0>) tensor(0.7009, grad_fn=<StdBackward0>)\n",
      "tensor(0.3498, grad_fn=<SelectBackward0>) tensor(0.2123, grad_fn=<DivBackward0>) tensor(0.6724, grad_fn=<StdBackward0>)\n",
      "tensor(0.3576, grad_fn=<SelectBackward0>) tensor(0.2886, grad_fn=<DivBackward0>) tensor(0.7008, grad_fn=<StdBackward0>)\n",
      "tensor(0.3499, grad_fn=<SelectBackward0>) tensor(0.2124, grad_fn=<DivBackward0>) tensor(0.6724, grad_fn=<StdBackward0>)\n",
      "tensor(0.3577, grad_fn=<SelectBackward0>) tensor(0.2886, grad_fn=<DivBackward0>) tensor(0.7008, grad_fn=<StdBackward0>)\n",
      "tensor(0.3500, grad_fn=<SelectBackward0>) tensor(0.2124, grad_fn=<DivBackward0>) tensor(0.6724, grad_fn=<StdBackward0>)\n",
      "tensor(0.3579, grad_fn=<SelectBackward0>) tensor(0.2886, grad_fn=<DivBackward0>) tensor(0.7008, grad_fn=<StdBackward0>)\n",
      "tensor(0.3502, grad_fn=<SelectBackward0>) tensor(0.2125, grad_fn=<DivBackward0>) tensor(0.6724, grad_fn=<StdBackward0>)\n",
      "tensor(0.3580, grad_fn=<SelectBackward0>) tensor(0.2888, grad_fn=<DivBackward0>) tensor(0.7008, grad_fn=<StdBackward0>)\n",
      "tensor(0.3503, grad_fn=<SelectBackward0>) tensor(0.2126, grad_fn=<DivBackward0>) tensor(0.6723, grad_fn=<StdBackward0>)\n",
      "tensor(0.3581, grad_fn=<SelectBackward0>) tensor(0.2887, grad_fn=<DivBackward0>) tensor(0.7008, grad_fn=<StdBackward0>)\n",
      "tensor(0.3504, grad_fn=<SelectBackward0>) tensor(0.2126, grad_fn=<DivBackward0>) tensor(0.6723, grad_fn=<StdBackward0>)\n",
      "tensor(0.3583, grad_fn=<SelectBackward0>) tensor(0.2888, grad_fn=<DivBackward0>) tensor(0.7008, grad_fn=<StdBackward0>)\n",
      "tensor(0.3506, grad_fn=<SelectBackward0>) tensor(0.2127, grad_fn=<DivBackward0>) tensor(0.6723, grad_fn=<StdBackward0>)\n",
      "tensor(0.3584, grad_fn=<SelectBackward0>) tensor(0.2889, grad_fn=<DivBackward0>) tensor(0.7008, grad_fn=<StdBackward0>)\n",
      "tensor(0.3507, grad_fn=<SelectBackward0>) tensor(0.2128, grad_fn=<DivBackward0>) tensor(0.6723, grad_fn=<StdBackward0>)\n",
      "tensor(0.3585, grad_fn=<SelectBackward0>) tensor(0.2889, grad_fn=<DivBackward0>) tensor(0.7007, grad_fn=<StdBackward0>)\n",
      "tensor(0.3508, grad_fn=<SelectBackward0>) tensor(0.2128, grad_fn=<DivBackward0>) tensor(0.6722, grad_fn=<StdBackward0>)\n",
      "tensor(0.3587, grad_fn=<SelectBackward0>) tensor(0.2889, grad_fn=<DivBackward0>) tensor(0.7007, grad_fn=<StdBackward0>)\n",
      "tensor(0.3510, grad_fn=<SelectBackward0>) tensor(0.2129, grad_fn=<DivBackward0>) tensor(0.6722, grad_fn=<StdBackward0>)\n",
      "tensor(0.3588, grad_fn=<SelectBackward0>) tensor(0.2890, grad_fn=<DivBackward0>) tensor(0.7007, grad_fn=<StdBackward0>)\n",
      "tensor(0.3511, grad_fn=<SelectBackward0>) tensor(0.2129, grad_fn=<DivBackward0>) tensor(0.6722, grad_fn=<StdBackward0>)\n",
      "tensor(0.3589, grad_fn=<SelectBackward0>) tensor(0.2889, grad_fn=<DivBackward0>) tensor(0.7006, grad_fn=<StdBackward0>)\n",
      "tensor(0.3512, grad_fn=<SelectBackward0>) tensor(0.2130, grad_fn=<DivBackward0>) tensor(0.6722, grad_fn=<StdBackward0>)\n",
      "tensor(0.3590, grad_fn=<SelectBackward0>) tensor(0.2891, grad_fn=<DivBackward0>) tensor(0.7006, grad_fn=<StdBackward0>)\n",
      "tensor(0.3513, grad_fn=<SelectBackward0>) tensor(0.2130, grad_fn=<DivBackward0>) tensor(0.6721, grad_fn=<StdBackward0>)\n",
      "tensor(0.3592, grad_fn=<SelectBackward0>) tensor(0.2890, grad_fn=<DivBackward0>) tensor(0.7006, grad_fn=<StdBackward0>)\n",
      "tensor(0.3515, grad_fn=<SelectBackward0>) tensor(0.2131, grad_fn=<DivBackward0>) tensor(0.6721, grad_fn=<StdBackward0>)\n",
      "tensor(0.3593, grad_fn=<SelectBackward0>) tensor(0.2891, grad_fn=<DivBackward0>) tensor(0.7006, grad_fn=<StdBackward0>)\n",
      "tensor(0.3516, grad_fn=<SelectBackward0>) tensor(0.2131, grad_fn=<DivBackward0>) tensor(0.6721, grad_fn=<StdBackward0>)\n",
      "tensor(0.3594, grad_fn=<SelectBackward0>) tensor(0.2890, grad_fn=<DivBackward0>) tensor(0.7005, grad_fn=<StdBackward0>)\n",
      "tensor(0.3517, grad_fn=<SelectBackward0>) tensor(0.2132, grad_fn=<DivBackward0>) tensor(0.6721, grad_fn=<StdBackward0>)\n",
      "tensor(0.3595, grad_fn=<SelectBackward0>) tensor(0.2891, grad_fn=<DivBackward0>) tensor(0.7006, grad_fn=<StdBackward0>)\n",
      "tensor(0.3518, grad_fn=<SelectBackward0>) tensor(0.2132, grad_fn=<DivBackward0>) tensor(0.6721, grad_fn=<StdBackward0>)\n",
      "tensor(0.3596, grad_fn=<SelectBackward0>) tensor(0.2891, grad_fn=<DivBackward0>) tensor(0.7005, grad_fn=<StdBackward0>)\n",
      "tensor(0.3520, grad_fn=<SelectBackward0>) tensor(0.2132, grad_fn=<DivBackward0>) tensor(0.6721, grad_fn=<StdBackward0>)\n",
      "tensor(0.3598, grad_fn=<SelectBackward0>) tensor(0.2892, grad_fn=<DivBackward0>) tensor(0.7005, grad_fn=<StdBackward0>)\n",
      "tensor(0.3521, grad_fn=<SelectBackward0>) tensor(0.2132, grad_fn=<DivBackward0>) tensor(0.6721, grad_fn=<StdBackward0>)\n",
      "tensor(0.3599, grad_fn=<SelectBackward0>) tensor(0.2891, grad_fn=<DivBackward0>) tensor(0.7005, grad_fn=<StdBackward0>)\n",
      "tensor(0.3522, grad_fn=<SelectBackward0>) tensor(0.2133, grad_fn=<DivBackward0>) tensor(0.6721, grad_fn=<StdBackward0>)\n",
      "tensor(0.3600, grad_fn=<SelectBackward0>) tensor(0.2893, grad_fn=<DivBackward0>) tensor(0.7005, grad_fn=<StdBackward0>)\n",
      "tensor(0.3523, grad_fn=<SelectBackward0>) tensor(0.2133, grad_fn=<DivBackward0>) tensor(0.6720, grad_fn=<StdBackward0>)\n",
      "tensor(0.3601, grad_fn=<SelectBackward0>) tensor(0.2892, grad_fn=<DivBackward0>) tensor(0.7005, grad_fn=<StdBackward0>)\n",
      "tensor(0.3525, grad_fn=<SelectBackward0>) tensor(0.2133, grad_fn=<DivBackward0>) tensor(0.6720, grad_fn=<StdBackward0>)\n",
      "tensor(0.3603, grad_fn=<SelectBackward0>) tensor(0.2891, grad_fn=<DivBackward0>) tensor(0.7004, grad_fn=<StdBackward0>)\n",
      "tensor(0.3526, grad_fn=<SelectBackward0>) tensor(0.2135, grad_fn=<DivBackward0>) tensor(0.6720, grad_fn=<StdBackward0>)\n",
      "tensor(0.3604, grad_fn=<SelectBackward0>) tensor(0.2894, grad_fn=<DivBackward0>) tensor(0.7004, grad_fn=<StdBackward0>)\n",
      "tensor(0.3527, grad_fn=<SelectBackward0>) tensor(0.2136, grad_fn=<DivBackward0>) tensor(0.6720, grad_fn=<StdBackward0>)\n",
      "tensor(0.3605, grad_fn=<SelectBackward0>) tensor(0.2894, grad_fn=<DivBackward0>) tensor(0.7004, grad_fn=<StdBackward0>)\n",
      "tensor(0.3528, grad_fn=<SelectBackward0>) tensor(0.2137, grad_fn=<DivBackward0>) tensor(0.6720, grad_fn=<StdBackward0>)\n",
      "tensor(0.3606, grad_fn=<SelectBackward0>) tensor(0.2895, grad_fn=<DivBackward0>) tensor(0.7004, grad_fn=<StdBackward0>)\n",
      "tensor(0.3530, grad_fn=<SelectBackward0>) tensor(0.2138, grad_fn=<DivBackward0>) tensor(0.6719, grad_fn=<StdBackward0>)\n",
      "tensor(0.3607, grad_fn=<SelectBackward0>) tensor(0.2896, grad_fn=<DivBackward0>) tensor(0.7003, grad_fn=<StdBackward0>)\n",
      "tensor(0.3531, grad_fn=<SelectBackward0>) tensor(0.2138, grad_fn=<DivBackward0>) tensor(0.6719, grad_fn=<StdBackward0>)\n",
      "tensor(0.3608, grad_fn=<SelectBackward0>) tensor(0.2896, grad_fn=<DivBackward0>) tensor(0.7003, grad_fn=<StdBackward0>)\n",
      "tensor(0.3532, grad_fn=<SelectBackward0>) tensor(0.2139, grad_fn=<DivBackward0>) tensor(0.6719, grad_fn=<StdBackward0>)\n",
      "tensor(0.3610, grad_fn=<SelectBackward0>) tensor(0.2896, grad_fn=<DivBackward0>) tensor(0.7003, grad_fn=<StdBackward0>)\n",
      "tensor(0.3533, grad_fn=<SelectBackward0>) tensor(0.2140, grad_fn=<DivBackward0>) tensor(0.6719, grad_fn=<StdBackward0>)\n",
      "tensor(0.3611, grad_fn=<SelectBackward0>) tensor(0.2897, grad_fn=<DivBackward0>) tensor(0.7003, grad_fn=<StdBackward0>)\n",
      "tensor(0.3534, grad_fn=<SelectBackward0>) tensor(0.2141, grad_fn=<DivBackward0>) tensor(0.6719, grad_fn=<StdBackward0>)\n",
      "tensor(0.3612, grad_fn=<SelectBackward0>) tensor(0.2898, grad_fn=<DivBackward0>) tensor(0.7003, grad_fn=<StdBackward0>)\n",
      "tensor(0.3536, grad_fn=<SelectBackward0>) tensor(0.2142, grad_fn=<DivBackward0>) tensor(0.6719, grad_fn=<StdBackward0>)\n",
      "tensor(0.3613, grad_fn=<SelectBackward0>) tensor(0.2899, grad_fn=<DivBackward0>) tensor(0.7002, grad_fn=<StdBackward0>)\n",
      "tensor(0.3537, grad_fn=<SelectBackward0>) tensor(0.2142, grad_fn=<DivBackward0>) tensor(0.6718, grad_fn=<StdBackward0>)\n",
      "tensor(0.3614, grad_fn=<SelectBackward0>) tensor(0.2900, grad_fn=<DivBackward0>) tensor(0.7002, grad_fn=<StdBackward0>)\n",
      "tensor(0.3538, grad_fn=<SelectBackward0>) tensor(0.2143, grad_fn=<DivBackward0>) tensor(0.6718, grad_fn=<StdBackward0>)\n",
      "tensor(0.3615, grad_fn=<SelectBackward0>) tensor(0.2900, grad_fn=<DivBackward0>) tensor(0.7002, grad_fn=<StdBackward0>)\n",
      "tensor(0.3539, grad_fn=<SelectBackward0>) tensor(0.2144, grad_fn=<DivBackward0>) tensor(0.6718, grad_fn=<StdBackward0>)\n",
      "tensor(0.3617, grad_fn=<SelectBackward0>) tensor(0.2901, grad_fn=<DivBackward0>) tensor(0.7002, grad_fn=<StdBackward0>)\n",
      "tensor(0.3540, grad_fn=<SelectBackward0>) tensor(0.2145, grad_fn=<DivBackward0>) tensor(0.6718, grad_fn=<StdBackward0>)\n",
      "tensor(0.3618, grad_fn=<SelectBackward0>) tensor(0.2902, grad_fn=<DivBackward0>) tensor(0.7001, grad_fn=<StdBackward0>)\n",
      "tensor(0.3541, grad_fn=<SelectBackward0>) tensor(0.2145, grad_fn=<DivBackward0>) tensor(0.6717, grad_fn=<StdBackward0>)\n",
      "tensor(0.3619, grad_fn=<SelectBackward0>) tensor(0.2901, grad_fn=<DivBackward0>) tensor(0.7001, grad_fn=<StdBackward0>)\n",
      "tensor(0.3542, grad_fn=<SelectBackward0>) tensor(0.2145, grad_fn=<DivBackward0>) tensor(0.6717, grad_fn=<StdBackward0>)\n",
      "tensor(0.3620, grad_fn=<SelectBackward0>) tensor(0.2902, grad_fn=<DivBackward0>) tensor(0.7001, grad_fn=<StdBackward0>)\n",
      "tensor(0.3544, grad_fn=<SelectBackward0>) tensor(0.2146, grad_fn=<DivBackward0>) tensor(0.6717, grad_fn=<StdBackward0>)\n",
      "tensor(0.3621, grad_fn=<SelectBackward0>) tensor(0.2903, grad_fn=<DivBackward0>) tensor(0.7000, grad_fn=<StdBackward0>)\n",
      "tensor(0.3545, grad_fn=<SelectBackward0>) tensor(0.2147, grad_fn=<DivBackward0>) tensor(0.6717, grad_fn=<StdBackward0>)\n",
      "tensor(0.3622, grad_fn=<SelectBackward0>) tensor(0.2904, grad_fn=<DivBackward0>) tensor(0.7000, grad_fn=<StdBackward0>)\n",
      "tensor(0.3546, grad_fn=<SelectBackward0>) tensor(0.2148, grad_fn=<DivBackward0>) tensor(0.6717, grad_fn=<StdBackward0>)\n",
      "tensor(0.3623, grad_fn=<SelectBackward0>) tensor(0.2905, grad_fn=<DivBackward0>) tensor(0.7000, grad_fn=<StdBackward0>)\n",
      "tensor(0.3547, grad_fn=<SelectBackward0>) tensor(0.2149, grad_fn=<DivBackward0>) tensor(0.6716, grad_fn=<StdBackward0>)\n",
      "tensor(0.3624, grad_fn=<SelectBackward0>) tensor(0.2906, grad_fn=<DivBackward0>) tensor(0.7000, grad_fn=<StdBackward0>)\n",
      "tensor(0.3548, grad_fn=<SelectBackward0>) tensor(0.2150, grad_fn=<DivBackward0>) tensor(0.6716, grad_fn=<StdBackward0>)\n",
      "tensor(0.3625, grad_fn=<SelectBackward0>) tensor(0.2907, grad_fn=<DivBackward0>) tensor(0.7000, grad_fn=<StdBackward0>)\n",
      "tensor(0.3549, grad_fn=<SelectBackward0>) tensor(0.2151, grad_fn=<DivBackward0>) tensor(0.6716, grad_fn=<StdBackward0>)\n",
      "tensor(0.3627, grad_fn=<SelectBackward0>) tensor(0.2908, grad_fn=<DivBackward0>) tensor(0.7000, grad_fn=<StdBackward0>)\n",
      "tensor(0.3550, grad_fn=<SelectBackward0>) tensor(0.2152, grad_fn=<DivBackward0>) tensor(0.6716, grad_fn=<StdBackward0>)\n",
      "tensor(0.3628, grad_fn=<SelectBackward0>) tensor(0.2909, grad_fn=<DivBackward0>) tensor(0.7000, grad_fn=<StdBackward0>)\n",
      "tensor(0.3551, grad_fn=<SelectBackward0>) tensor(0.2153, grad_fn=<DivBackward0>) tensor(0.6716, grad_fn=<StdBackward0>)\n",
      "tensor(0.3629, grad_fn=<SelectBackward0>) tensor(0.2910, grad_fn=<DivBackward0>) tensor(0.6999, grad_fn=<StdBackward0>)\n",
      "tensor(0.3552, grad_fn=<SelectBackward0>) tensor(0.2155, grad_fn=<DivBackward0>) tensor(0.6716, grad_fn=<StdBackward0>)\n",
      "tensor(0.3630, grad_fn=<SelectBackward0>) tensor(0.2912, grad_fn=<DivBackward0>) tensor(0.6999, grad_fn=<StdBackward0>)\n",
      "tensor(0.3554, grad_fn=<SelectBackward0>) tensor(0.2156, grad_fn=<DivBackward0>) tensor(0.6716, grad_fn=<StdBackward0>)\n",
      "tensor(0.3631, grad_fn=<SelectBackward0>) tensor(0.2913, grad_fn=<DivBackward0>) tensor(0.6999, grad_fn=<StdBackward0>)\n",
      "tensor(0.3555, grad_fn=<SelectBackward0>) tensor(0.2157, grad_fn=<DivBackward0>) tensor(0.6715, grad_fn=<StdBackward0>)\n",
      "tensor(0.3632, grad_fn=<SelectBackward0>) tensor(0.2915, grad_fn=<DivBackward0>) tensor(0.6999, grad_fn=<StdBackward0>)\n",
      "tensor(0.3556, grad_fn=<SelectBackward0>) tensor(0.2159, grad_fn=<DivBackward0>) tensor(0.6715, grad_fn=<StdBackward0>)\n",
      "tensor(0.3633, grad_fn=<SelectBackward0>) tensor(0.2916, grad_fn=<DivBackward0>) tensor(0.6999, grad_fn=<StdBackward0>)\n",
      "tensor(0.3557, grad_fn=<SelectBackward0>) tensor(0.2160, grad_fn=<DivBackward0>) tensor(0.6715, grad_fn=<StdBackward0>)\n",
      "tensor(0.3634, grad_fn=<SelectBackward0>) tensor(0.2917, grad_fn=<DivBackward0>) tensor(0.6999, grad_fn=<StdBackward0>)\n",
      "tensor(0.3558, grad_fn=<SelectBackward0>) tensor(0.2161, grad_fn=<DivBackward0>) tensor(0.6715, grad_fn=<StdBackward0>)\n",
      "tensor(0.3635, grad_fn=<SelectBackward0>) tensor(0.2919, grad_fn=<DivBackward0>) tensor(0.6999, grad_fn=<StdBackward0>)\n",
      "tensor(0.3559, grad_fn=<SelectBackward0>) tensor(0.2163, grad_fn=<DivBackward0>) tensor(0.6715, grad_fn=<StdBackward0>)\n",
      "tensor(0.3636, grad_fn=<SelectBackward0>) tensor(0.2920, grad_fn=<DivBackward0>) tensor(0.6999, grad_fn=<StdBackward0>)\n",
      "tensor(0.3560, grad_fn=<SelectBackward0>) tensor(0.2164, grad_fn=<DivBackward0>) tensor(0.6715, grad_fn=<StdBackward0>)\n",
      "tensor(0.3637, grad_fn=<SelectBackward0>) tensor(0.2921, grad_fn=<DivBackward0>) tensor(0.6998, grad_fn=<StdBackward0>)\n",
      "tensor(0.3561, grad_fn=<SelectBackward0>) tensor(0.2164, grad_fn=<DivBackward0>) tensor(0.6715, grad_fn=<StdBackward0>)\n",
      "tensor(0.3638, grad_fn=<SelectBackward0>) tensor(0.2921, grad_fn=<DivBackward0>) tensor(0.6998, grad_fn=<StdBackward0>)\n",
      "tensor(0.3562, grad_fn=<SelectBackward0>) tensor(0.2164, grad_fn=<DivBackward0>) tensor(0.6715, grad_fn=<StdBackward0>)\n",
      "tensor(0.3639, grad_fn=<SelectBackward0>) tensor(0.2922, grad_fn=<DivBackward0>) tensor(0.6998, grad_fn=<StdBackward0>)\n",
      "tensor(0.3563, grad_fn=<SelectBackward0>) tensor(0.2165, grad_fn=<DivBackward0>) tensor(0.6715, grad_fn=<StdBackward0>)\n",
      "tensor(0.3640, grad_fn=<SelectBackward0>) tensor(0.2922, grad_fn=<DivBackward0>) tensor(0.6998, grad_fn=<StdBackward0>)\n",
      "tensor(0.3564, grad_fn=<SelectBackward0>) tensor(0.2165, grad_fn=<DivBackward0>) tensor(0.6715, grad_fn=<StdBackward0>)\n",
      "tensor(0.3641, grad_fn=<SelectBackward0>) tensor(0.2923, grad_fn=<DivBackward0>) tensor(0.6998, grad_fn=<StdBackward0>)\n",
      "tensor(0.3565, grad_fn=<SelectBackward0>) tensor(0.2166, grad_fn=<DivBackward0>) tensor(0.6715, grad_fn=<StdBackward0>)\n",
      "tensor(0.3642, grad_fn=<SelectBackward0>) tensor(0.2923, grad_fn=<DivBackward0>) tensor(0.6998, grad_fn=<StdBackward0>)\n",
      "tensor(0.3566, grad_fn=<SelectBackward0>) tensor(0.2167, grad_fn=<DivBackward0>) tensor(0.6715, grad_fn=<StdBackward0>)\n",
      "tensor(0.3643, grad_fn=<SelectBackward0>) tensor(0.2924, grad_fn=<DivBackward0>) tensor(0.6998, grad_fn=<StdBackward0>)\n",
      "tensor(0.3567, grad_fn=<SelectBackward0>) tensor(0.2167, grad_fn=<DivBackward0>) tensor(0.6714, grad_fn=<StdBackward0>)\n",
      "tensor(0.3644, grad_fn=<SelectBackward0>) tensor(0.2924, grad_fn=<DivBackward0>) tensor(0.6998, grad_fn=<StdBackward0>)\n",
      "tensor(0.3568, grad_fn=<SelectBackward0>) tensor(0.2168, grad_fn=<DivBackward0>) tensor(0.6714, grad_fn=<StdBackward0>)\n"
     ]
    },
    {
     "ename": "KeyboardInterrupt",
     "evalue": "",
     "output_type": "error",
     "traceback": [
      "\u001B[0;31m---------------------------------------------------------------------------\u001B[0m",
      "\u001B[0;31mKeyboardInterrupt\u001B[0m                         Traceback (most recent call last)",
      "Cell \u001B[0;32mIn[19], line 1\u001B[0m\n\u001B[0;32m----> 1\u001B[0m meip \u001B[38;5;241m=\u001B[39m \u001B[43mMei\u001B[49m\u001B[38;5;241;43m.\u001B[39;49m\u001B[43mgenerate\u001B[49m\u001B[43m(\u001B[49m\u001B[38;5;241;43m*\u001B[39;49m\u001B[38;5;241;43m*\u001B[39;49m\u001B[43mconf\u001B[49m\u001B[43m(\u001B[49m\u001B[38;5;241;43m4\u001B[39;49m\u001B[43m)\u001B[49m\u001B[43m)\u001B[49m\n",
      "File \u001B[0;32m~/miniconda/envs/tensyflow/lib/python3.8/site-packages/meitorch/mei.py:36\u001B[0m, in \u001B[0;36mMEI.generate\u001B[0;34m(self, neuron_query, custom_loss, **MEIParams)\u001B[0m\n\u001B[1;32m     33\u001B[0m gen_image \u001B[38;5;241m=\u001B[39m np\u001B[38;5;241m.\u001B[39mclip(gen_image, \u001B[38;5;241m-\u001B[39m\u001B[38;5;241m1\u001B[39m, \u001B[38;5;241m1\u001B[39m)\n\u001B[1;32m     35\u001B[0m \u001B[38;5;66;03m# generate class visualization via octavewise gradient ascent\u001B[39;00m\n\u001B[0;32m---> 36\u001B[0m mei \u001B[38;5;241m=\u001B[39m \u001B[43mMEI\u001B[49m\u001B[38;5;241;43m.\u001B[39;49m\u001B[43mdeepdraw\u001B[49m\u001B[43m(\u001B[49m\u001B[43mprocess\u001B[49m\u001B[43m,\u001B[49m\u001B[43m \u001B[49m\u001B[43mgen_image\u001B[49m\u001B[43m,\u001B[49m\u001B[43m \u001B[49m\u001B[43mrandom_crop\u001B[49m\u001B[38;5;241;43m=\u001B[39;49m\u001B[38;5;28;43;01mFalse\u001B[39;49;00m\u001B[43m,\u001B[49m\u001B[43m \u001B[49m\u001B[43mcustom_loss\u001B[49m\u001B[38;5;241;43m=\u001B[39;49m\u001B[43mcustom_loss\u001B[49m\u001B[43m)\u001B[49m\n\u001B[1;32m     38\u001B[0m \u001B[38;5;28;01mwith\u001B[39;00m torch\u001B[38;5;241m.\u001B[39mno_grad():\n\u001B[1;32m     39\u001B[0m     img \u001B[38;5;241m=\u001B[39m torch\u001B[38;5;241m.\u001B[39mTensor(gen_image)\u001B[38;5;241m.\u001B[39mto(\u001B[38;5;28mself\u001B[39m\u001B[38;5;241m.\u001B[39mdevice)\n",
      "File \u001B[0;32m~/miniconda/envs/tensyflow/lib/python3.8/site-packages/meitorch/mei.py:156\u001B[0m, in \u001B[0;36mMEI.deepdraw\u001B[0;34m(process, image, random_crop, original_size, custom_loss)\u001B[0m\n\u001B[1;32m    153\u001B[0m sigma \u001B[38;5;241m=\u001B[39m o[\u001B[38;5;124m'\u001B[39m\u001B[38;5;124mstart_sigma\u001B[39m\u001B[38;5;124m'\u001B[39m] \u001B[38;5;241m+\u001B[39m ((o[\u001B[38;5;124m'\u001B[39m\u001B[38;5;124mend_sigma\u001B[39m\u001B[38;5;124m'\u001B[39m] \u001B[38;5;241m-\u001B[39m o[\u001B[38;5;124m'\u001B[39m\u001B[38;5;124mstart_sigma\u001B[39m\u001B[38;5;124m'\u001B[39m]) \u001B[38;5;241m*\u001B[39m i) \u001B[38;5;241m/\u001B[39m o[\u001B[38;5;124m'\u001B[39m\u001B[38;5;124miter_n\u001B[39m\u001B[38;5;124m'\u001B[39m]\n\u001B[1;32m    154\u001B[0m step_size \u001B[38;5;241m=\u001B[39m o[\u001B[38;5;124m'\u001B[39m\u001B[38;5;124mstart_step_size\u001B[39m\u001B[38;5;124m'\u001B[39m] \u001B[38;5;241m+\u001B[39m ((o[\u001B[38;5;124m'\u001B[39m\u001B[38;5;124mend_step_size\u001B[39m\u001B[38;5;124m'\u001B[39m] \u001B[38;5;241m-\u001B[39m o[\u001B[38;5;124m'\u001B[39m\u001B[38;5;124mstart_step_size\u001B[39m\u001B[38;5;124m'\u001B[39m]) \u001B[38;5;241m*\u001B[39m i) \u001B[38;5;241m/\u001B[39m o[\u001B[38;5;124m'\u001B[39m\u001B[38;5;124miter_n\u001B[39m\u001B[38;5;124m'\u001B[39m]\n\u001B[0;32m--> 156\u001B[0m \u001B[43mprocess\u001B[49m\u001B[38;5;241;43m.\u001B[39;49m\u001B[43mmake_step\u001B[49m\u001B[43m(\u001B[49m\u001B[43msrc\u001B[49m\u001B[43m,\u001B[49m\u001B[43m \u001B[49m\u001B[43msigma\u001B[49m\u001B[38;5;241;43m=\u001B[39;49m\u001B[43msigma\u001B[49m\u001B[43m,\u001B[49m\u001B[43m \u001B[49m\u001B[43mstep_size\u001B[49m\u001B[38;5;241;43m=\u001B[39;49m\u001B[43mstep_size\u001B[49m\u001B[43m,\u001B[49m\u001B[43m \u001B[49m\u001B[43mcustom_loss\u001B[49m\u001B[38;5;241;43m=\u001B[39;49m\u001B[43mcustom_loss\u001B[49m\u001B[43m)\u001B[49m\n\u001B[1;32m    158\u001B[0m \u001B[38;5;66;03m# insert modified image back into original image (if necessary)\u001B[39;00m\n\u001B[1;32m    159\u001B[0m image[:, ox:ox \u001B[38;5;241m+\u001B[39m w, oy:oy \u001B[38;5;241m+\u001B[39m h] \u001B[38;5;241m=\u001B[39m src\u001B[38;5;241m.\u001B[39mdata[\u001B[38;5;241m0\u001B[39m]\u001B[38;5;241m.\u001B[39mcpu()\u001B[38;5;241m.\u001B[39mnumpy()\n",
      "File \u001B[0;32m~/miniconda/envs/tensyflow/lib/python3.8/site-packages/meitorch/process.py:274\u001B[0m, in \u001B[0;36mMEIProcess.make_step\u001B[0;34m(self, src, step_size, sigma, eps, custom_loss)\u001B[0m\n\u001B[1;32m    272\u001B[0m optimizer \u001B[38;5;241m=\u001B[39m torch\u001B[38;5;241m.\u001B[39moptim\u001B[38;5;241m.\u001B[39mAdam([img], lr\u001B[38;5;241m=\u001B[39m\u001B[38;5;28mself\u001B[39m\u001B[38;5;241m.\u001B[39mstep_gain)\n\u001B[1;32m    273\u001B[0m y \u001B[38;5;241m=\u001B[39m \u001B[38;5;28mself\u001B[39m\u001B[38;5;241m.\u001B[39moperation(img, custom_loss\u001B[38;5;241m=\u001B[39mcustom_loss)\n\u001B[0;32m--> 274\u001B[0m \u001B[43m(\u001B[49m\u001B[38;5;241;43m-\u001B[39;49m\u001B[43my\u001B[49m\u001B[38;5;241;43m.\u001B[39;49m\u001B[43mmean\u001B[49m\u001B[43m(\u001B[49m\u001B[43m)\u001B[49m\u001B[43m)\u001B[49m\u001B[38;5;241;43m.\u001B[39;49m\u001B[43mbackward\u001B[49m\u001B[43m(\u001B[49m\u001B[43m)\u001B[49m\n\u001B[1;32m    275\u001B[0m optimizer\u001B[38;5;241m.\u001B[39mstep()\n\u001B[1;32m    279\u001B[0m \u001B[38;5;66;03m#grad = src.grad\u001B[39;00m\n",
      "File \u001B[0;32m~/miniconda/envs/tensyflow/lib/python3.8/site-packages/torch/_tensor.py:487\u001B[0m, in \u001B[0;36mTensor.backward\u001B[0;34m(self, gradient, retain_graph, create_graph, inputs)\u001B[0m\n\u001B[1;32m    477\u001B[0m \u001B[38;5;28;01mif\u001B[39;00m has_torch_function_unary(\u001B[38;5;28mself\u001B[39m):\n\u001B[1;32m    478\u001B[0m     \u001B[38;5;28;01mreturn\u001B[39;00m handle_torch_function(\n\u001B[1;32m    479\u001B[0m         Tensor\u001B[38;5;241m.\u001B[39mbackward,\n\u001B[1;32m    480\u001B[0m         (\u001B[38;5;28mself\u001B[39m,),\n\u001B[0;32m   (...)\u001B[0m\n\u001B[1;32m    485\u001B[0m         inputs\u001B[38;5;241m=\u001B[39minputs,\n\u001B[1;32m    486\u001B[0m     )\n\u001B[0;32m--> 487\u001B[0m \u001B[43mtorch\u001B[49m\u001B[38;5;241;43m.\u001B[39;49m\u001B[43mautograd\u001B[49m\u001B[38;5;241;43m.\u001B[39;49m\u001B[43mbackward\u001B[49m\u001B[43m(\u001B[49m\n\u001B[1;32m    488\u001B[0m \u001B[43m    \u001B[49m\u001B[38;5;28;43mself\u001B[39;49m\u001B[43m,\u001B[49m\u001B[43m \u001B[49m\u001B[43mgradient\u001B[49m\u001B[43m,\u001B[49m\u001B[43m \u001B[49m\u001B[43mretain_graph\u001B[49m\u001B[43m,\u001B[49m\u001B[43m \u001B[49m\u001B[43mcreate_graph\u001B[49m\u001B[43m,\u001B[49m\u001B[43m \u001B[49m\u001B[43minputs\u001B[49m\u001B[38;5;241;43m=\u001B[39;49m\u001B[43minputs\u001B[49m\n\u001B[1;32m    489\u001B[0m \u001B[43m\u001B[49m\u001B[43m)\u001B[49m\n",
      "File \u001B[0;32m~/miniconda/envs/tensyflow/lib/python3.8/site-packages/torch/autograd/__init__.py:200\u001B[0m, in \u001B[0;36mbackward\u001B[0;34m(tensors, grad_tensors, retain_graph, create_graph, grad_variables, inputs)\u001B[0m\n\u001B[1;32m    195\u001B[0m     retain_graph \u001B[38;5;241m=\u001B[39m create_graph\n\u001B[1;32m    197\u001B[0m \u001B[38;5;66;03m# The reason we repeat same the comment below is that\u001B[39;00m\n\u001B[1;32m    198\u001B[0m \u001B[38;5;66;03m# some Python versions print out the first line of a multi-line function\u001B[39;00m\n\u001B[1;32m    199\u001B[0m \u001B[38;5;66;03m# calls in the traceback and some print out the last line\u001B[39;00m\n\u001B[0;32m--> 200\u001B[0m \u001B[43mVariable\u001B[49m\u001B[38;5;241;43m.\u001B[39;49m\u001B[43m_execution_engine\u001B[49m\u001B[38;5;241;43m.\u001B[39;49m\u001B[43mrun_backward\u001B[49m\u001B[43m(\u001B[49m\u001B[43m  \u001B[49m\u001B[38;5;66;43;03m# Calls into the C++ engine to run the backward pass\u001B[39;49;00m\n\u001B[1;32m    201\u001B[0m \u001B[43m    \u001B[49m\u001B[43mtensors\u001B[49m\u001B[43m,\u001B[49m\u001B[43m \u001B[49m\u001B[43mgrad_tensors_\u001B[49m\u001B[43m,\u001B[49m\u001B[43m \u001B[49m\u001B[43mretain_graph\u001B[49m\u001B[43m,\u001B[49m\u001B[43m \u001B[49m\u001B[43mcreate_graph\u001B[49m\u001B[43m,\u001B[49m\u001B[43m \u001B[49m\u001B[43minputs\u001B[49m\u001B[43m,\u001B[49m\n\u001B[1;32m    202\u001B[0m \u001B[43m    \u001B[49m\u001B[43mallow_unreachable\u001B[49m\u001B[38;5;241;43m=\u001B[39;49m\u001B[38;5;28;43;01mTrue\u001B[39;49;00m\u001B[43m,\u001B[49m\u001B[43m \u001B[49m\u001B[43maccumulate_grad\u001B[49m\u001B[38;5;241;43m=\u001B[39;49m\u001B[38;5;28;43;01mTrue\u001B[39;49;00m\u001B[43m)\u001B[49m\n",
      "\u001B[0;31mKeyboardInterrupt\u001B[0m: "
     ]
    }
   ],
   "source": [
    "meip = Mei.generate(**conf(4))"
   ],
   "metadata": {
    "collapsed": false
   }
  },
  {
   "cell_type": "code",
   "execution_count": 15,
   "outputs": [
    {
     "data": {
      "text/plain": "<Figure size 640x480 with 1 Axes>",
      "image/png": "[encoded data removed]"
     },
     "metadata": {},
     "output_type": "display_data"
    },
    {
     "name": "stdout",
     "output_type": "stream",
     "text": [
      "Activation:  0.5392071\n",
      "Monotonic:  False\n",
      "Max contrast:  0.11885345616043036\n",
      "Max activation:  1.8929996\n",
      "Saturation contrast:  0.24899912682257128\n",
      "Image mean:  0.2324970533488522\n",
      "Limited contrast:  0.24899912682257128\n",
      "Point rf:  None\n"
     ]
    },
    {
     "data": {
      "text/plain": "<Figure size 640x480 with 2 Axes>",
      "image/png": "[encoded data removed]"
     },
     "metadata": {},
     "output_type": "display_data"
    }
   ],
   "source": [
    "imshow(meip.image[0])\n",
    "show()\n",
    "\n",
    "meip.show_results()\n",
    "x = meip.spatial_frequency()"
   ],
   "metadata": {
    "collapsed": false
   }
  },
  {
   "cell_type": "code",
   "execution_count": 110,
   "outputs": [],
   "source": [
    "from meitorch import gabor\n",
    "\n",
    "Gabor = gabor.Gabor(models=[get_target_block], shape=(1, 40, 40), device=\"cpu\")"
   ],
   "metadata": {
    "collapsed": false
   }
  },
  {
   "cell_type": "code",
   "execution_count": 111,
   "outputs": [
    {
     "name": "stderr",
     "output_type": "stream",
     "text": [
      "100%|██████████| 5/5 [01:09<00:00, 13.81s/it]\n"
     ]
    },
    {
     "data": {
      "text/plain": "<Figure size 640x480 with 1 Axes>",
      "image/png": "[encoded data removed]"
     },
     "metadata": {},
     "output_type": "display_data"
    },
    {
     "name": "stdout",
     "output_type": "stream",
     "text": [
      "Activation:  0.022818874567747116\n",
      "Phase:  [118.04128952760651]\n",
      "Wavelength:  [9.357553981207834]\n",
      "Orientation:  [170.43586598274368]\n",
      "Sigma:  [9.0]\n",
      "Dy:  [-0.028838551390958925]\n",
      "Dx:  [-0.07500110228940005]\n"
     ]
    }
   ],
   "source": [
    "gaborp = Gabor.optimal_gabor(71)\n",
    "\n",
    "imshow(gaborp.image)\n",
    "show()\n",
    "\n",
    "gaborp.show_results()"
   ],
   "metadata": {
    "collapsed": false
   }
  },
  {
   "cell_type": "code",
   "execution_count": 139,
   "outputs": [
    {
     "data": {
      "text/plain": "<Figure size 640x480 with 2 Axes>",
      "image/png": "[encoded data removed]"
     },
     "metadata": {},
     "output_type": "display_data"
    },
    {
     "data": {
      "text/plain": "(array([ 0.   ,  0.025,  0.05 ,  0.075,  0.1  ,  0.125,  0.15 ,  0.175,\n         0.2  ,  0.225,  0.25 ,  0.275,  0.3  ,  0.325,  0.35 ,  0.375,\n         0.4  ,  0.425,  0.45 ,  0.475, -0.5  , -0.475, -0.45 , -0.425,\n        -0.4  , -0.375, -0.35 , -0.325, -0.3  , -0.275, -0.25 , -0.225,\n        -0.2  , -0.175, -0.15 , -0.125, -0.1  , -0.075, -0.05 , -0.025]),\n array([ 0.   ,  0.025,  0.05 ,  0.075,  0.1  ,  0.125,  0.15 ,  0.175,\n         0.2  ,  0.225,  0.25 ,  0.275,  0.3  ,  0.325,  0.35 ,  0.375,\n         0.4  ,  0.425,  0.45 ,  0.475, -0.5  , -0.475, -0.45 , -0.425,\n        -0.4  , -0.375, -0.35 , -0.325, -0.3  , -0.275, -0.25 , -0.225,\n        -0.2  , -0.175, -0.15 , -0.125, -0.1  , -0.075, -0.05 , -0.025]),\n array([[0.04377065, 0.04378361, 0.04446907, ..., 0.04520516, 0.04446907,\n         0.04378361],\n        [0.04393173, 0.04403084, 0.04467752, ..., 0.04532488, 0.04459606,\n         0.04386526],\n        [0.04437386, 0.04457077, 0.04518242, ..., 0.04571919, 0.04501448,\n         0.04422648],\n        ...,\n        [0.04524455, 0.04501594, 0.04587962, ..., 0.0469628 , 0.0461409 ,\n         0.04556178],\n        [0.04437386, 0.04422648, 0.04501448, ..., 0.04596917, 0.04518242,\n         0.04457077],\n        [0.04393173, 0.04386526, 0.04459606, ..., 0.04543604, 0.04467752,\n         0.04403084]]))"
     },
     "execution_count": 139,
     "metadata": {},
     "output_type": "execute_result"
    }
   ],
   "source": [
    "gaborp.spatial_frequency()"
   ],
   "metadata": {
    "collapsed": false
   }
  },
  {
   "cell_type": "code",
   "execution_count": 78,
   "outputs": [],
   "source": [
    "from src.hparams import get_hparams\n",
    "import sys\n",
    "sys.path.append(\"..\")\n",
    "dataset = get_hparams().data_params.dataset(**get_hparams().data_params.params)"
   ],
   "metadata": {
    "collapsed": false
   }
  },
  {
   "cell_type": "code",
   "execution_count": 91,
   "outputs": [],
   "source": [
    "image = next(iter(dataset.get_train_loader()))[3]"
   ],
   "metadata": {
    "collapsed": false
   }
  },
  {
   "cell_type": "code",
   "execution_count": 92,
   "outputs": [
    {
     "data": {
      "text/plain": "<Figure size 640x480 with 2 Axes>",
      "image/png": "[encoded data removed]"
     },
     "metadata": {},
     "output_type": "display_data"
    }
   ],
   "source": [
    "spat = mei.MEI.compute_spatial_frequency(image)"
   ],
   "metadata": {
    "collapsed": false
   }
  },
  {
   "cell_type": "code",
   "execution_count": 93,
   "outputs": [
    {
     "data": {
      "text/plain": "tensor(1.0538)"
     },
     "execution_count": 93,
     "metadata": {},
     "output_type": "execute_result"
    }
   ],
   "source": [
    "torch.std(image)"
   ],
   "metadata": {
    "collapsed": false
   }
  },
  {
   "cell_type": "code",
   "execution_count": 94,
   "outputs": [
    {
     "data": {
      "text/plain": "<Figure size 640x480 with 1 Axes>",
      "image/png": "[encoded data removed]"
     },
     "metadata": {},
     "output_type": "display_data"
    }
   ],
   "source": [
    "imshow(image[0])\n",
    "show()"
   ],
   "metadata": {
    "collapsed": false
   }
  },
  {
   "cell_type": "code",
   "execution_count": 25,
   "outputs": [],
   "source": [
    "x = model(torch.randn(1, 1, 40, 40, requires_grad=True).to(\"mps\"))"
   ],
   "metadata": {
    "collapsed": false
   }
  },
  {
   "cell_type": "code",
   "execution_count": 19,
   "outputs": [
    {
     "data": {
      "text/plain": "hVAE(\n  (input_block): InputBlock(\n    (net): SerializableSequential(\n      (0): Flatten(start_dim=1, end_dim=-1)\n    )\n  )\n  (output_block): SimpleGenBlock(\n    (prior_net): SerializableSequential(\n      (0): SerializableSequential(\n        (0): MLPNet(\n          (activation): Softplus(beta=1, threshold=20)\n          (mlp_layers): Sequential(\n            (0): Linear(in_features=1800, out_features=1600, bias=True)\n          )\n        )\n      )\n      (1): SerializableSequential(\n        (0): Unflatten(dim=1, unflattened_size=(1, 40, 40))\n      )\n      (2): SerializableSequential(\n        (0): FixedStdDev()\n      )\n    )\n  )\n  (encoder): Encoder(\n    (blocks): OrderedModuleDict(\n      (_values): ModuleList(\n        (0): SimpleBlock(\n          (net): SerializableSequential(\n            (0): MLPNet(\n              (activation): Softplus(beta=1, threshold=20)\n              (mlp_layers): Sequential(\n                (0): Linear(in_features=1600, out_features=2000, bias=True)\n                (1): Softplus(beta=1, threshold=20)\n              )\n            )\n          )\n        )\n      )\n    )\n  )\n  (generator): Generator(\n    (blocks): OrderedModuleDict(\n      (_values): ModuleList(\n        (0): TopGenBlock(\n          (prior_net): SerializableSequential()\n          (posterior_net): SerializableSequential(\n            (0): MLPNet(\n              (activation): Softplus(beta=1, threshold=20)\n              (mlp_layers): Sequential(\n                (0): Linear(in_features=2000, out_features=1000, bias=True)\n                (1): Softplus(beta=1, threshold=20)\n                (2): Linear(in_features=1000, out_features=500, bias=True)\n                (3): Softplus(beta=1, threshold=20)\n                (4): Linear(in_features=500, out_features=250, bias=True)\n                (5): Softplus(beta=1, threshold=20)\n                (6): Linear(in_features=250, out_features=500, bias=True)\n              )\n            )\n          )\n          (input_transform): SerializableSequential()\n          (condition_transform): SerializableSequential()\n        )\n        (1): GenBlock(\n          (prior_net): SerializableSequential(\n            (0): MLPNet(\n              (activation): Softplus(beta=1, threshold=20)\n              (mlp_layers): Sequential(\n                (0): Linear(in_features=250, out_features=2000, bias=True)\n                (1): Softplus(beta=1, threshold=20)\n                (2): Linear(in_features=2000, out_features=3600, bias=True)\n              )\n            )\n          )\n          (posterior_net): SerializableSequential(\n            (0): MLPNet(\n              (activation): Softplus(beta=1, threshold=20)\n              (mlp_layers): Sequential(\n                (0): Linear(in_features=4000, out_features=2000, bias=True)\n                (1): Softplus(beta=1, threshold=20)\n                (2): Linear(in_features=2000, out_features=3600, bias=True)\n              )\n            )\n          )\n          (input_transform): SerializableSequential(\n            (0): MLPNet(\n              (activation): Softplus(beta=1, threshold=20)\n              (mlp_layers): Sequential(\n                (0): Linear(in_features=250, out_features=250, bias=True)\n                (1): Softplus(beta=1, threshold=20)\n                (2): Linear(in_features=250, out_features=500, bias=True)\n                (3): Softplus(beta=1, threshold=20)\n                (4): Linear(in_features=500, out_features=1000, bias=True)\n                (5): Softplus(beta=1, threshold=20)\n                (6): Linear(in_features=1000, out_features=2000, bias=True)\n                (7): Softplus(beta=1, threshold=20)\n              )\n            )\n          )\n          (condition_transform): SerializableSequential()\n        )\n      )\n    )\n  )\n)"
     },
     "execution_count": 19,
     "metadata": {},
     "output_type": "execute_result"
    }
   ],
   "source": [
    "model.train()"
   ],
   "metadata": {
    "collapsed": false
   }
  },
  {
   "cell_type": "code",
   "execution_count": 21,
   "outputs": [],
   "source": [
    "input = torch.randn(1, 1, 40, 40, requires_grad=True).to(\"mps\")"
   ],
   "metadata": {
    "collapsed": false
   }
  },
  {
   "cell_type": "code",
   "execution_count": 34,
   "outputs": [],
   "source": [
    "input.retain_grad()"
   ],
   "metadata": {
    "collapsed": false
   }
  },
  {
   "cell_type": "code",
   "execution_count": 35,
   "outputs": [],
   "source": [
    "result = get_target_block(input)"
   ],
   "metadata": {
    "collapsed": false
   }
  },
  {
   "cell_type": "code",
   "execution_count": 36,
   "outputs": [],
   "source": [
    "result[target_block][0][0].backward()"
   ],
   "metadata": {
    "collapsed": false
   }
  },
  {
   "cell_type": "code",
   "execution_count": 41,
   "outputs": [
    {
     "name": "stdout",
     "output_type": "stream",
     "text": [
      "None\n"
     ]
    }
   ],
   "source": [
    "print(input.grad)"
   ],
   "metadata": {
    "collapsed": false
   }
  },
  {
   "cell_type": "code",
   "execution_count": 42,
   "outputs": [
    {
     "name": "stderr",
     "output_type": "stream",
     "text": [
      "/var/folders/2g/v1v3hs4n5cdbqwvnh0ww1xkr0000gn/T/ipykernel_73847/3776251793.py:1: UserWarning: The .grad attribute of a Tensor that is not a leaf Tensor is being accessed. Its .grad attribute won't be populated during autograd.backward(). If you indeed want the .grad field to be populated for a non-leaf Tensor, use .retain_grad() on the non-leaf Tensor. If you access the non-leaf Tensor by mistake, make sure you access the leaf Tensor instead. See github.com/pytorch/pytorch/pull/30531 for more informations. (Triggered internally at /Users/runner/work/pytorch/pytorch/pytorch/build/aten/src/ATen/core/TensorBody.h:491.)\n",
      "  result[target_block][0].grad.data\n"
     ]
    },
    {
     "ename": "AttributeError",
     "evalue": "'NoneType' object has no attribute 'data'",
     "output_type": "error",
     "traceback": [
      "\u001B[0;31m---------------------------------------------------------------------------\u001B[0m",
      "\u001B[0;31mAttributeError\u001B[0m                            Traceback (most recent call last)",
      "Cell \u001B[0;32mIn[42], line 1\u001B[0m\n\u001B[0;32m----> 1\u001B[0m \u001B[43mresult\u001B[49m\u001B[43m[\u001B[49m\u001B[43mtarget_block\u001B[49m\u001B[43m]\u001B[49m\u001B[43m[\u001B[49m\u001B[38;5;241;43m0\u001B[39;49m\u001B[43m]\u001B[49m\u001B[38;5;241;43m.\u001B[39;49m\u001B[43mgrad\u001B[49m\u001B[38;5;241;43m.\u001B[39;49m\u001B[43mdata\u001B[49m\n",
      "\u001B[0;31mAttributeError\u001B[0m: 'NoneType' object has no attribute 'data'"
     ]
    }
   ],
   "source": [
    "result[target_block][0].grad.data"
   ],
   "metadata": {
    "collapsed": false
   }
  },
  {
   "cell_type": "code",
   "execution_count": 29,
   "outputs": [
    {
     "name": "stderr",
     "output_type": "stream",
     "text": [
      "/var/folders/2g/v1v3hs4n5cdbqwvnh0ww1xkr0000gn/T/ipykernel_73847/4290401996.py:1: UserWarning: The .grad attribute of a Tensor that is not a leaf Tensor is being accessed. Its .grad attribute won't be populated during autograd.backward(). If you indeed want the .grad field to be populated for a non-leaf Tensor, use .retain_grad() on the non-leaf Tensor. If you access the non-leaf Tensor by mistake, make sure you access the leaf Tensor instead. See github.com/pytorch/pytorch/pull/30531 for more informations. (Triggered internally at /Users/runner/work/pytorch/pytorch/pytorch/build/aten/src/ATen/core/TensorBody.h:491.)\n",
      "  input.grad\n"
     ]
    }
   ],
   "source": [
    "input.grad"
   ],
   "metadata": {
    "collapsed": false
   }
  },
  {
   "cell_type": "code",
   "execution_count": 43,
   "outputs": [
    {
     "name": "stdout",
     "output_type": "stream",
     "text": [
      "tensor(-0.1945, grad_fn=<SumBackward0>)\n"
     ]
    }
   ],
   "source": [
    "layer = torch.nn.Linear(20, 40)\n",
    "input = torch.randn(128, 20, requires_grad=True)\n",
    "output = layer(input)\n",
    "loss = output[0, 0].sum()\n",
    "print(loss)\n",
    "loss.backward()"
   ],
   "metadata": {
    "collapsed": false
   }
  },
  {
   "cell_type": "code",
   "execution_count": 45,
   "outputs": [
    {
     "name": "stdout",
     "output_type": "stream",
     "text": [
      "tensor([[ 0.1106, -0.1067,  0.2179,  ...,  0.0205,  0.2205, -0.1221],\n",
      "        [ 0.0000,  0.0000,  0.0000,  ...,  0.0000,  0.0000,  0.0000],\n",
      "        [ 0.0000,  0.0000,  0.0000,  ...,  0.0000,  0.0000,  0.0000],\n",
      "        ...,\n",
      "        [ 0.0000,  0.0000,  0.0000,  ...,  0.0000,  0.0000,  0.0000],\n",
      "        [ 0.0000,  0.0000,  0.0000,  ...,  0.0000,  0.0000,  0.0000],\n",
      "        [ 0.0000,  0.0000,  0.0000,  ...,  0.0000,  0.0000,  0.0000]])\n"
     ]
    }
   ],
   "source": [
    "print(input.grad.data)"
   ],
   "metadata": {
    "collapsed": false
   }
  },
  {
   "cell_type": "code",
   "execution_count": 41,
   "outputs": [],
   "source": [
    "image = gaborp.image.reshape(1, 1, 40, 40)"
   ],
   "metadata": {
    "collapsed": false
   }
  },
  {
   "cell_type": "code",
   "execution_count": 43,
   "outputs": [],
   "source": [
    "cpomputed, distributions = model(torch.tensor(image))"
   ],
   "metadata": {
    "collapsed": false
   }
  },
  {
   "cell_type": "code",
   "execution_count": 44,
   "outputs": [],
   "source": [
    "loss = compute_loss(torch.tensor(image), distributions)"
   ],
   "metadata": {
    "collapsed": false
   }
  },
  {
   "cell_type": "code",
   "execution_count": 45,
   "outputs": [
    {
     "data": {
      "text/plain": "tensor(0.0023, grad_fn=<DivBackward0>)"
     },
     "execution_count": 45,
     "metadata": {},
     "output_type": "execute_result"
    }
   ],
   "source": [
    "loss[\"kl_div\"]"
   ],
   "metadata": {
    "collapsed": false
   }
  },
  {
   "cell_type": "code",
   "execution_count": null,
   "outputs": [],
   "source": [],
   "metadata": {
    "collapsed": false
   }
  }
 ],
 "metadata": {
  "kernelspec": {
   "display_name": "Python 3",
   "language": "python",
   "name": "python3"
  },
  "language_info": {
   "codemirror_mode": {
    "name": "ipython",
    "version": 2
   },
   "file_extension": ".py",
   "mimetype": "text/x-python",
   "name": "python",
   "nbconvert_exporter": "python",
   "pygments_lexer": "ipython2",
   "version": "2.7.6"
  }
 },
 "nbformat": 4,
 "nbformat_minor": 0
}
