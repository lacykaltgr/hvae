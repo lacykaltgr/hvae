{
 "cells": [
  {
   "cell_type": "markdown",
   "source": [
    "# hVAE"
   ],
   "metadata": {
    "collapsed": false
   }
  },
  {
   "cell_type": "code",
   "execution_count": 3,
   "metadata": {
    "collapsed": true
   },
   "outputs": [
    {
     "ename": "TypeError",
     "evalue": "load() missing 1 required positional argument: 'path'",
     "output_type": "error",
     "traceback": [
      "\u001B[0;31m---------------------------------------------------------------------------\u001B[0m",
      "\u001B[0;31mTypeError\u001B[0m                                 Traceback (most recent call last)",
      "Cell \u001B[0;32mIn[3], line 5\u001B[0m\n\u001B[1;32m      1\u001B[0m \u001B[38;5;28;01mfrom\u001B[39;00m \u001B[38;5;21;01msrc\u001B[39;00m\u001B[38;5;21;01m.\u001B[39;00m\u001B[38;5;21;01mhvae\u001B[39;00m \u001B[38;5;28;01mimport\u001B[39;00m hVAE\n\u001B[1;32m      3\u001B[0m PATH \u001B[38;5;241m=\u001B[39m \u001B[38;5;124m\"\u001B[39m\u001B[38;5;124mpath\u001B[39m\u001B[38;5;124m\"\u001B[39m\n\u001B[0;32m----> 5\u001B[0m hvae \u001B[38;5;241m=\u001B[39m \u001B[43mhVAE\u001B[49m\u001B[38;5;241;43m.\u001B[39;49m\u001B[43mload\u001B[49m\u001B[43m(\u001B[49m\u001B[43mPATH\u001B[49m\u001B[43m)\u001B[49m\n\u001B[1;32m      6\u001B[0m hvae\u001B[38;5;241m.\u001B[39meval()\n\u001B[1;32m      7\u001B[0m hvae\u001B[38;5;241m.\u001B[39mgenerate(\u001B[38;5;241m10\u001B[39m)\n",
      "\u001B[0;31mTypeError\u001B[0m: load() missing 1 required positional argument: 'path'"
     ]
    }
   ],
   "source": [
    "from src.hvae import hVAE\n",
    "from hparams import get_hparams\n",
    "\n",
    "PATH = \"path\"\n",
    "dataset = get_hparams().data_params.dataset\n",
    "test_loader = dataset.get_test_loader()\n",
    "\n",
    "hvae = hVAE.load(PATH)\n",
    "hvae.test_model(test_loader)\n",
    "hvae.generate()"
   ]
  }
 ],
 "metadata": {
  "kernelspec": {
   "display_name": "Python 3",
   "language": "python",
   "name": "python3"
  },
  "language_info": {
   "codemirror_mode": {
    "name": "ipython",
    "version": 2
   },
   "file_extension": ".py",
   "mimetype": "text/x-python",
   "name": "python",
   "nbconvert_exporter": "python",
   "pygments_lexer": "ipython2",
   "version": "2.7.6"
  }
 },
 "nbformat": 4,
 "nbformat_minor": 0
}
