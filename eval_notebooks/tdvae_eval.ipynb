{
 "cells": [
  {
   "cell_type": "markdown",
   "source": [
    "# hVAE"
   ],
   "metadata": {
    "collapsed": false
   }
  },
  {
   "cell_type": "code",
   "execution_count": 2,
   "metadata": {
    "collapsed": true
   },
   "outputs": [
    {
     "ename": "FileNotFoundError",
     "evalue": "[Errno 2] No such file or directory: 'data/textures/datasets'",
     "output_type": "error",
     "traceback": [
      "\u001B[0;31m---------------------------------------------------------------------------\u001B[0m",
      "\u001B[0;31mFileNotFoundError\u001B[0m                         Traceback (most recent call last)",
      "Cell \u001B[0;32mIn[2], line 1\u001B[0m\n\u001B[0;32m----> 1\u001B[0m \u001B[38;5;28;01mfrom\u001B[39;00m \u001B[38;5;21;01msrc\u001B[39;00m\u001B[38;5;21;01m.\u001B[39;00m\u001B[38;5;21;01mhvae\u001B[39;00m \u001B[38;5;28;01mimport\u001B[39;00m hVAE\n\u001B[1;32m      2\u001B[0m \u001B[38;5;28;01mfrom\u001B[39;00m \u001B[38;5;21;01mhparams\u001B[39;00m \u001B[38;5;28;01mimport\u001B[39;00m get_hparams\n\u001B[1;32m      4\u001B[0m PATH \u001B[38;5;241m=\u001B[39m \u001B[38;5;124m\"\u001B[39m\u001B[38;5;124m/Users/laszlofreund/code/ai/hvae/experiments/TDVAE/2023-08-27__23-49/checkpoints/checkpoint-0.pth\u001B[39m\u001B[38;5;124m\"\u001B[39m\n",
      "File \u001B[0;32m~/code/ai/hvae/src/hvae.py:8\u001B[0m\n\u001B[1;32m      5\u001B[0m \u001B[38;5;28;01mfrom\u001B[39;00m \u001B[38;5;21;01mtorch\u001B[39;00m \u001B[38;5;28;01mimport\u001B[39;00m tensor\n\u001B[1;32m      7\u001B[0m \u001B[38;5;28;01mfrom\u001B[39;00m \u001B[38;5;21;01msrc\u001B[39;00m\u001B[38;5;21;01m.\u001B[39;00m\u001B[38;5;21;01mblock\u001B[39;00m \u001B[38;5;28;01mimport\u001B[39;00m GenBlock, InputBlock, OutputBlock, ConcatBlock, SimpleBlock, TopGenBlock\n\u001B[0;32m----> 8\u001B[0m \u001B[38;5;28;01mfrom\u001B[39;00m \u001B[38;5;21;01msrc\u001B[39;00m\u001B[38;5;21;01m.\u001B[39;00m\u001B[38;5;21;01mmodel\u001B[39;00m \u001B[38;5;28;01mimport\u001B[39;00m train, reconstruct, generate, compute_per_dimension_divergence_stats, evaluate, model_summary\n\u001B[1;32m     11\u001B[0m \u001B[38;5;28;01mclass\u001B[39;00m \u001B[38;5;21;01mEncoder\u001B[39;00m(nn\u001B[38;5;241m.\u001B[39mModule):\n\u001B[1;32m     12\u001B[0m     \u001B[38;5;28;01mdef\u001B[39;00m \u001B[38;5;21m__init__\u001B[39m(\u001B[38;5;28mself\u001B[39m, encoder_blocks: nn\u001B[38;5;241m.\u001B[39mModuleList):\n",
      "File \u001B[0;32m~/code/ai/hvae/src/model.py:21\u001B[0m\n\u001B[1;32m     16\u001B[0m \u001B[38;5;28;01mfrom\u001B[39;00m \u001B[38;5;21;01msrc\u001B[39;00m\u001B[38;5;21;01m.\u001B[39;00m\u001B[38;5;21;01melements\u001B[39;00m\u001B[38;5;21;01m.\u001B[39;00m\u001B[38;5;21;01mschedules\u001B[39;00m \u001B[38;5;28;01mimport\u001B[39;00m get_beta_schedule, get_gamma_schedule\n\u001B[1;32m     18\u001B[0m \u001B[38;5;28;01mfrom\u001B[39;00m \u001B[38;5;21;01msrc\u001B[39;00m\u001B[38;5;21;01m.\u001B[39;00m\u001B[38;5;21;01mutils\u001B[39;00m \u001B[38;5;28;01mimport\u001B[39;00m tensorboard_log, get_variate_masks, write_image_to_disk, linear_temperature, \\\n\u001B[1;32m     19\u001B[0m     prepare_for_log, print_line\n\u001B[0;32m---> 21\u001B[0m prms \u001B[38;5;241m=\u001B[39m \u001B[43mget_hparams\u001B[49m\u001B[43m(\u001B[49m\u001B[43m)\u001B[49m\n\u001B[1;32m     22\u001B[0m device \u001B[38;5;241m=\u001B[39m prms\u001B[38;5;241m.\u001B[39mmodel_params\u001B[38;5;241m.\u001B[39mdevice\n\u001B[1;32m     23\u001B[0m kldiv_schedule \u001B[38;5;241m=\u001B[39m get_beta_schedule()\n",
      "File \u001B[0;32m~/code/ai/hvae/hparams.py:5\u001B[0m, in \u001B[0;36mget_hparams\u001B[0;34m()\u001B[0m\n\u001B[1;32m      1\u001B[0m \u001B[38;5;28;01mdef\u001B[39;00m \u001B[38;5;21mget_hparams\u001B[39m():\n\u001B[1;32m      2\u001B[0m     \u001B[38;5;66;03m# SET WHICH params TO USE HERE\u001B[39;00m\n\u001B[1;32m      3\u001B[0m     \u001B[38;5;66;03m# |    |    |    |    |    |\u001B[39;00m\n\u001B[1;32m      4\u001B[0m     \u001B[38;5;66;03m# v    v    v    v    v    v\u001B[39;00m\n\u001B[0;32m----> 5\u001B[0m     \u001B[38;5;28;01mimport\u001B[39;00m \u001B[38;5;21;01mmodels\u001B[39;00m\u001B[38;5;21;01m.\u001B[39;00m\u001B[38;5;21;01mTDVAE\u001B[39;00m \u001B[38;5;28;01mas\u001B[39;00m \u001B[38;5;21;01mparams\u001B[39;00m\n\u001B[1;32m      7\u001B[0m     \u001B[38;5;28;01mreturn\u001B[39;00m Hyperparams(\n\u001B[1;32m      8\u001B[0m         log_params\u001B[38;5;241m=\u001B[39mparams\u001B[38;5;241m.\u001B[39mlog_params,\n\u001B[1;32m      9\u001B[0m         model_params\u001B[38;5;241m=\u001B[39mparams\u001B[38;5;241m.\u001B[39mmodel_params,\n\u001B[0;32m   (...)\u001B[0m\n\u001B[1;32m     20\u001B[0m         unpool_params\u001B[38;5;241m=\u001B[39mparams\u001B[38;5;241m.\u001B[39munpool_params,\n\u001B[1;32m     21\u001B[0m     )\n",
      "File \u001B[0;32m~/code/ai/hvae/models/TDVAE.py:117\u001B[0m\n\u001B[1;32m    108\u001B[0m \u001B[38;5;124;03m\"\"\"\u001B[39;00m\n\u001B[1;32m    109\u001B[0m \u001B[38;5;124;03m--------------------\u001B[39;00m\n\u001B[1;32m    110\u001B[0m \u001B[38;5;124;03mDATA HYPERPARAMETERS\u001B[39;00m\n\u001B[1;32m    111\u001B[0m \u001B[38;5;124;03m--------------------\u001B[39;00m\n\u001B[1;32m    112\u001B[0m \u001B[38;5;124;03m\"\"\"\u001B[39;00m\n\u001B[1;32m    113\u001B[0m \u001B[38;5;28;01mfrom\u001B[39;00m \u001B[38;5;21;01mdata\u001B[39;00m\u001B[38;5;21;01m.\u001B[39;00m\u001B[38;5;21;01mtextures\u001B[39;00m\u001B[38;5;21;01m.\u001B[39;00m\u001B[38;5;21;01mtextures\u001B[39;00m \u001B[38;5;28;01mimport\u001B[39;00m TexturesDataset \u001B[38;5;28;01mas\u001B[39;00m dataset\n\u001B[1;32m    114\u001B[0m data_params \u001B[38;5;241m=\u001B[39m Hyperparams(\n\u001B[1;32m    115\u001B[0m     \u001B[38;5;66;03m# Dataset source.\u001B[39;00m\n\u001B[1;32m    116\u001B[0m     \u001B[38;5;66;03m# Can be one of ('mnist', 'cifar', 'imagenet', 'textures')\u001B[39;00m\n\u001B[0;32m--> 117\u001B[0m     dataset\u001B[38;5;241m=\u001B[39m\u001B[43mdataset\u001B[49m\u001B[43m(\u001B[49m\u001B[38;5;124;43m\"\u001B[39;49m\u001B[38;5;124;43mnatural\u001B[39;49m\u001B[38;5;124;43m\"\u001B[39;49m\u001B[43m,\u001B[49m\u001B[43m \u001B[49m\u001B[38;5;241;43m20\u001B[39;49m\u001B[43m,\u001B[49m\u001B[43m \u001B[49m\u001B[38;5;124;43m\"\u001B[39;49m\u001B[38;5;124;43mold\u001B[39;49m\u001B[38;5;124;43m\"\u001B[39;49m\u001B[43m)\u001B[49m,\n\u001B[1;32m    118\u001B[0m \n\u001B[1;32m    119\u001B[0m     \u001B[38;5;66;03m# Data paths. Not used for (mnist, cifar-10)\u001B[39;00m\n\u001B[1;32m    120\u001B[0m     train_data_path\u001B[38;5;241m=\u001B[39m\u001B[38;5;124m'\u001B[39m\u001B[38;5;124m../datasets/imagenet_32/train_data/\u001B[39m\u001B[38;5;124m'\u001B[39m,\n\u001B[1;32m    121\u001B[0m     val_data_path\u001B[38;5;241m=\u001B[39m\u001B[38;5;124m'\u001B[39m\u001B[38;5;124m../datasets/imagenet_32/val_data/\u001B[39m\u001B[38;5;124m'\u001B[39m,\n\u001B[1;32m    122\u001B[0m     synthesis_data_path\u001B[38;5;241m=\u001B[39m\u001B[38;5;124m'\u001B[39m\u001B[38;5;124m../datasets/imagenet_32/val_data/\u001B[39m\u001B[38;5;124m'\u001B[39m,\n\u001B[1;32m    123\u001B[0m \n\u001B[1;32m    124\u001B[0m     \u001B[38;5;66;03m# Image metadata\u001B[39;00m\n\u001B[1;32m    125\u001B[0m     shape\u001B[38;5;241m=\u001B[39m(\u001B[38;5;241m1\u001B[39m, \u001B[38;5;241m20\u001B[39m, \u001B[38;5;241m20\u001B[39m),\n\u001B[1;32m    126\u001B[0m     \u001B[38;5;66;03m# Image color depth in the dataset (bit-depth of each color channel)\u001B[39;00m\n\u001B[1;32m    127\u001B[0m     num_bits\u001B[38;5;241m=\u001B[39m\u001B[38;5;241m8.\u001B[39m,\n\u001B[1;32m    128\u001B[0m )\n\u001B[1;32m    130\u001B[0m \u001B[38;5;124;03m\"\"\"\u001B[39;00m\n\u001B[1;32m    131\u001B[0m \u001B[38;5;124;03m--------------------\u001B[39;00m\n\u001B[1;32m    132\u001B[0m \u001B[38;5;124;03mTRAINING HYPERPARAMETERS\u001B[39;00m\n\u001B[1;32m    133\u001B[0m \u001B[38;5;124;03m--------------------\u001B[39;00m\n\u001B[1;32m    134\u001B[0m \u001B[38;5;124;03m\"\"\"\u001B[39;00m\n\u001B[1;32m    135\u001B[0m train_params \u001B[38;5;241m=\u001B[39m Hyperparams(\n\u001B[1;32m    136\u001B[0m     \u001B[38;5;66;03m# The total number of training updates\u001B[39;00m\n\u001B[1;32m    137\u001B[0m     total_train_steps\u001B[38;5;241m=\u001B[39m\u001B[38;5;241m640000\u001B[39m,\n\u001B[1;32m    138\u001B[0m     \u001B[38;5;66;03m# training batch size\u001B[39;00m\n\u001B[1;32m    139\u001B[0m     batch_size\u001B[38;5;241m=\u001B[39m\u001B[38;5;241m128\u001B[39m,\n\u001B[1;32m    140\u001B[0m )\n",
      "File \u001B[0;32m~/code/ai/hvae/data/textures/textures.py:15\u001B[0m, in \u001B[0;36mTexturesDataset.__init__\u001B[0;34m(self, type, image_size, whitening)\u001B[0m\n\u001B[1;32m     13\u001B[0m \u001B[38;5;28mself\u001B[39m\u001B[38;5;241m.\u001B[39mimage_size \u001B[38;5;241m=\u001B[39m image_size\n\u001B[1;32m     14\u001B[0m \u001B[38;5;28mself\u001B[39m\u001B[38;5;241m.\u001B[39mwhitening \u001B[38;5;241m=\u001B[39m whitening\n\u001B[0;32m---> 15\u001B[0m \u001B[38;5;28;43msuper\u001B[39;49m\u001B[43m(\u001B[49m\u001B[43mTexturesDataset\u001B[49m\u001B[43m,\u001B[49m\u001B[43m \u001B[49m\u001B[38;5;28;43mself\u001B[39;49m\u001B[43m)\u001B[49m\u001B[38;5;241;43m.\u001B[39;49m\u001B[38;5;21;43m__init__\u001B[39;49m\u001B[43m(\u001B[49m\u001B[43m)\u001B[49m\n",
      "File \u001B[0;32m~/code/ai/hvae/src/elements/dataset.py:24\u001B[0m, in \u001B[0;36m_DataSet.__init__\u001B[0;34m(self, train_transform, val_transform, test_transform)\u001B[0m\n\u001B[1;32m     21\u001B[0m \u001B[38;5;28mself\u001B[39m\u001B[38;5;241m.\u001B[39mtest_transform \u001B[38;5;241m=\u001B[39m test_transform\n\u001B[1;32m     22\u001B[0m \u001B[38;5;28mself\u001B[39m\u001B[38;5;241m.\u001B[39mval_transform \u001B[38;5;241m=\u001B[39m val_transform\n\u001B[0;32m---> 24\u001B[0m train_data, val_data, test_data \u001B[38;5;241m=\u001B[39m \u001B[38;5;28;43mself\u001B[39;49m\u001B[38;5;241;43m.\u001B[39;49m\u001B[43mload\u001B[49m\u001B[43m(\u001B[49m\u001B[43m)\u001B[49m\n\u001B[1;32m     26\u001B[0m \u001B[38;5;28mself\u001B[39m\u001B[38;5;241m.\u001B[39mtrain_set \u001B[38;5;241m=\u001B[39m \u001B[38;5;28mself\u001B[39m\u001B[38;5;241m.\u001B[39m_FunctionalDataset(train_data, \u001B[38;5;28mself\u001B[39m\u001B[38;5;241m.\u001B[39mtrain_transform)\n\u001B[1;32m     27\u001B[0m \u001B[38;5;28mself\u001B[39m\u001B[38;5;241m.\u001B[39mval_set \u001B[38;5;241m=\u001B[39m \u001B[38;5;28mself\u001B[39m\u001B[38;5;241m.\u001B[39m_FunctionalDataset(val_data, \u001B[38;5;28mself\u001B[39m\u001B[38;5;241m.\u001B[39mval_transform)\n",
      "File \u001B[0;32m~/code/ai/hvae/data/textures/textures.py:18\u001B[0m, in \u001B[0;36mTexturesDataset.load\u001B[0;34m(self)\u001B[0m\n\u001B[1;32m     17\u001B[0m \u001B[38;5;28;01mdef\u001B[39;00m \u001B[38;5;21mload\u001B[39m(\u001B[38;5;28mself\u001B[39m):\n\u001B[0;32m---> 18\u001B[0m     \u001B[38;5;28;01mif\u001B[39;00m \u001B[38;5;129;01mnot\u001B[39;00m \u001B[38;5;28mlen\u001B[39m(\u001B[43mos\u001B[49m\u001B[38;5;241;43m.\u001B[39;49m\u001B[43mlistdir\u001B[49m\u001B[43m(\u001B[49m\u001B[38;5;124;43m'\u001B[39;49m\u001B[38;5;124;43mdata/textures/datasets\u001B[39;49m\u001B[38;5;124;43m'\u001B[39;49m\u001B[43m)\u001B[49m) \u001B[38;5;241m==\u001B[39m \u001B[38;5;241m4\u001B[39m:\n\u001B[1;32m     19\u001B[0m         run_download_script()\n\u001B[1;32m     21\u001B[0m     \u001B[38;5;28;01mif\u001B[39;00m \u001B[38;5;28mself\u001B[39m\u001B[38;5;241m.\u001B[39mtype \u001B[38;5;241m==\u001B[39m \u001B[38;5;124m\"\u001B[39m\u001B[38;5;124mnatural\u001B[39m\u001B[38;5;124m\"\u001B[39m:\n",
      "\u001B[0;31mFileNotFoundError\u001B[0m: [Errno 2] No such file or directory: 'data/textures/datasets'"
     ]
    }
   ],
   "source": [
    "from src.hvae import hVAE\n",
    "from hparams import get_hparams\n",
    "\n",
    "PATH = \"/Users/laszlofreund/code/ai/hvae/experiments/TDVAE/2023-08-27__23-49/checkpoints/checkpoint-0.pth\"\n",
    "#dataset = get_hparams().data_params.dataset\n",
    "#test_loader = dataset.get_test_loader()\n",
    "\n",
    "hvae = hVAE.load(PATH)\n",
    "#hvae.test_model(test_loader)\n",
    "hvae.summary()"
   ]
  },
  {
   "cell_type": "code",
   "execution_count": null,
   "outputs": [],
   "source": [],
   "metadata": {
    "collapsed": false
   }
  }
 ],
 "metadata": {
  "kernelspec": {
   "display_name": "Python 3",
   "language": "python",
   "name": "python3"
  },
  "language_info": {
   "codemirror_mode": {
    "name": "ipython",
    "version": 2
   },
   "file_extension": ".py",
   "mimetype": "text/x-python",
   "name": "python",
   "nbconvert_exporter": "python",
   "pygments_lexer": "ipython2",
   "version": "2.7.6"
  }
 },
 "nbformat": 4,
 "nbformat_minor": 0
}
