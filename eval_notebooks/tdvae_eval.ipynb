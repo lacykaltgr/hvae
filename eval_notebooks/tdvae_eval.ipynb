{
 "cells": [
  {
   "cell_type": "markdown",
   "source": [
    "# hVAE"
   ],
   "metadata": {
    "collapsed": false
   }
  },
  {
   "cell_type": "code",
   "execution_count": 3,
   "metadata": {
    "collapsed": true
   },
   "outputs": [
    {
     "ename": "TypeError",
     "evalue": "load() missing 1 required positional argument: 'path'",
     "output_type": "error",
     "traceback": [
      "\u001B[0;31m---------------------------------------------------------------------------\u001B[0m",
      "\u001B[0;31mTypeError\u001B[0m                                 Traceback (most recent call last)",
      "Cell \u001B[0;32mIn[3], line 5\u001B[0m\n\u001B[1;32m      1\u001B[0m \u001B[38;5;28;01mfrom\u001B[39;00m \u001B[38;5;21;01msrc\u001B[39;00m\u001B[38;5;21;01m.\u001B[39;00m\u001B[38;5;21;01mhvae\u001B[39;00m \u001B[38;5;28;01mimport\u001B[39;00m hVAE\n\u001B[1;32m      3\u001B[0m PATH \u001B[38;5;241m=\u001B[39m \u001B[38;5;124m\"\u001B[39m\u001B[38;5;124mpath\u001B[39m\u001B[38;5;124m\"\u001B[39m\n\u001B[0;32m----> 5\u001B[0m hvae \u001B[38;5;241m=\u001B[39m \u001B[43mhVAE\u001B[49m\u001B[38;5;241;43m.\u001B[39;49m\u001B[43mload\u001B[49m\u001B[43m(\u001B[49m\u001B[43mPATH\u001B[49m\u001B[43m)\u001B[49m\n\u001B[1;32m      6\u001B[0m hvae\u001B[38;5;241m.\u001B[39meval()\n\u001B[1;32m      7\u001B[0m hvae\u001B[38;5;241m.\u001B[39mgenerate(\u001B[38;5;241m10\u001B[39m)\n",
      "\u001B[0;31mTypeError\u001B[0m: load() missing 1 required positional argument: 'path'"
     ]
    }
   ],
   "source": [
    "from src.hvae import hVAE\n",
    "\n",
    "PATH = \"path\"\n",
    "\n",
    "hvae = hVAE.load(PATH)\n",
    "hvae.eval()\n",
    "hvae.generate(10)"
   ]
  },
  {
   "cell_type": "code",
   "execution_count": 1,
   "outputs": [
    {
     "name": "stdout",
     "output_type": "stream",
     "text": [
      "Model Checkpoint is loaded\n",
      "Validation Stats| Reconstruction Loss 37.4020 | KL Div 95188.7109 |NELBO 95226.109375 | SSIM: 0.144781\n"
     ]
    }
   ],
   "source": [
    "from test import main\n",
    "main()"
   ],
   "metadata": {
    "collapsed": false
   }
  },
  {
   "cell_type": "code",
   "execution_count": 42,
   "outputs": [
    {
     "ename": "FileNotFoundError",
     "evalue": "[Errno 2] No such file or directory: 'data/textures/datasets'",
     "output_type": "error",
     "traceback": [
      "\u001B[0;31m---------------------------------------------------------------------------\u001B[0m",
      "\u001B[0;31mFileNotFoundError\u001B[0m                         Traceback (most recent call last)",
      "Cell \u001B[0;32mIn[42], line 1\u001B[0m\n\u001B[0;32m----> 1\u001B[0m \u001B[38;5;28;01mfrom\u001B[39;00m \u001B[38;5;21;01mtrain\u001B[39;00m \u001B[38;5;28;01mimport\u001B[39;00m main\n\u001B[1;32m      2\u001B[0m main()\n",
      "File \u001B[0;32m~/code/ai/hvae/train.py:8\u001B[0m\n\u001B[1;32m      6\u001B[0m \u001B[38;5;28;01mfrom\u001B[39;00m \u001B[38;5;21;01msrc\u001B[39;00m\u001B[38;5;21;01m.\u001B[39;00m\u001B[38;5;21;01melements\u001B[39;00m\u001B[38;5;21;01m.\u001B[39;00m\u001B[38;5;21;01mschedules\u001B[39;00m \u001B[38;5;28;01mimport\u001B[39;00m get_schedule\n\u001B[1;32m      7\u001B[0m \u001B[38;5;28;01mfrom\u001B[39;00m \u001B[38;5;21;01msrc\u001B[39;00m\u001B[38;5;21;01m.\u001B[39;00m\u001B[38;5;21;01mutils\u001B[39;00m \u001B[38;5;28;01mimport\u001B[39;00m load_experiment_for, create_tb_writer_for, setup_logger\n\u001B[0;32m----> 8\u001B[0m \u001B[38;5;28;01mfrom\u001B[39;00m \u001B[38;5;21;01msrc\u001B[39;00m\u001B[38;5;21;01m.\u001B[39;00m\u001B[38;5;21;01mmodel\u001B[39;00m \u001B[38;5;28;01mimport\u001B[39;00m train\n\u001B[1;32m     11\u001B[0m \u001B[38;5;28;01mdef\u001B[39;00m \u001B[38;5;21mmain\u001B[39m():\n\u001B[1;32m     12\u001B[0m     p \u001B[38;5;241m=\u001B[39m get_hparams()\n",
      "File \u001B[0;32m~/code/ai/hvae/src/model.py:21\u001B[0m\n\u001B[1;32m     16\u001B[0m \u001B[38;5;28;01mfrom\u001B[39;00m \u001B[38;5;21;01msrc\u001B[39;00m\u001B[38;5;21;01m.\u001B[39;00m\u001B[38;5;21;01melements\u001B[39;00m\u001B[38;5;21;01m.\u001B[39;00m\u001B[38;5;21;01mschedules\u001B[39;00m \u001B[38;5;28;01mimport\u001B[39;00m get_beta_schedule, get_gamma_schedule\n\u001B[1;32m     18\u001B[0m \u001B[38;5;28;01mfrom\u001B[39;00m \u001B[38;5;21;01msrc\u001B[39;00m\u001B[38;5;21;01m.\u001B[39;00m\u001B[38;5;21;01mutils\u001B[39;00m \u001B[38;5;28;01mimport\u001B[39;00m tensorboard_log, get_variate_masks, write_image_to_disk, linear_temperature, \\\n\u001B[1;32m     19\u001B[0m     prepare_for_log, print_line\n\u001B[0;32m---> 21\u001B[0m prms \u001B[38;5;241m=\u001B[39m \u001B[43mget_hparams\u001B[49m\u001B[43m(\u001B[49m\u001B[43m)\u001B[49m\n\u001B[1;32m     22\u001B[0m device \u001B[38;5;241m=\u001B[39m prms\u001B[38;5;241m.\u001B[39mmodel_params\u001B[38;5;241m.\u001B[39mdevice\n\u001B[1;32m     23\u001B[0m kldiv_schedule \u001B[38;5;241m=\u001B[39m get_beta_schedule()\n",
      "File \u001B[0;32m~/code/ai/hvae/hparams.py:5\u001B[0m, in \u001B[0;36mget_hparams\u001B[0;34m()\u001B[0m\n\u001B[1;32m      1\u001B[0m \u001B[38;5;28;01mdef\u001B[39;00m \u001B[38;5;21mget_hparams\u001B[39m():\n\u001B[1;32m      2\u001B[0m     \u001B[38;5;66;03m# SET WHICH params TO USE HERE\u001B[39;00m\n\u001B[1;32m      3\u001B[0m     \u001B[38;5;66;03m# |    |    |    |    |    |\u001B[39;00m\n\u001B[1;32m      4\u001B[0m     \u001B[38;5;66;03m# v    v    v    v    v    v\u001B[39;00m\n\u001B[0;32m----> 5\u001B[0m     \u001B[38;5;28;01mimport\u001B[39;00m \u001B[38;5;21;01mmodels\u001B[39;00m\u001B[38;5;21;01m.\u001B[39;00m\u001B[38;5;21;01mTDVAE\u001B[39;00m \u001B[38;5;28;01mas\u001B[39;00m \u001B[38;5;21;01mparams\u001B[39;00m\n\u001B[1;32m      7\u001B[0m     \u001B[38;5;28;01mreturn\u001B[39;00m Hyperparams(\n\u001B[1;32m      8\u001B[0m         log_params\u001B[38;5;241m=\u001B[39mparams\u001B[38;5;241m.\u001B[39mlog_params,\n\u001B[1;32m      9\u001B[0m         model_params\u001B[38;5;241m=\u001B[39mparams\u001B[38;5;241m.\u001B[39mmodel_params,\n\u001B[0;32m   (...)\u001B[0m\n\u001B[1;32m     20\u001B[0m         unpool_params\u001B[38;5;241m=\u001B[39mparams\u001B[38;5;241m.\u001B[39munpool_params,\n\u001B[1;32m     21\u001B[0m     )\n",
      "File \u001B[0;32m~/code/ai/hvae/models/TDVAE.py:117\u001B[0m\n\u001B[1;32m    108\u001B[0m \u001B[38;5;124;03m\"\"\"\u001B[39;00m\n\u001B[1;32m    109\u001B[0m \u001B[38;5;124;03m--------------------\u001B[39;00m\n\u001B[1;32m    110\u001B[0m \u001B[38;5;124;03mDATA HYPERPARAMETERS\u001B[39;00m\n\u001B[1;32m    111\u001B[0m \u001B[38;5;124;03m--------------------\u001B[39;00m\n\u001B[1;32m    112\u001B[0m \u001B[38;5;124;03m\"\"\"\u001B[39;00m\n\u001B[1;32m    113\u001B[0m \u001B[38;5;28;01mfrom\u001B[39;00m \u001B[38;5;21;01mdata\u001B[39;00m\u001B[38;5;21;01m.\u001B[39;00m\u001B[38;5;21;01mtextures\u001B[39;00m\u001B[38;5;21;01m.\u001B[39;00m\u001B[38;5;21;01mtextures\u001B[39;00m \u001B[38;5;28;01mimport\u001B[39;00m TexturesDataset \u001B[38;5;28;01mas\u001B[39;00m dataset\n\u001B[1;32m    114\u001B[0m data_params \u001B[38;5;241m=\u001B[39m Hyperparams(\n\u001B[1;32m    115\u001B[0m     \u001B[38;5;66;03m# Dataset source.\u001B[39;00m\n\u001B[1;32m    116\u001B[0m     \u001B[38;5;66;03m# Can be one of ('mnist', 'cifar', 'imagenet', 'textures')\u001B[39;00m\n\u001B[0;32m--> 117\u001B[0m     dataset\u001B[38;5;241m=\u001B[39m\u001B[43mdataset\u001B[49m\u001B[43m(\u001B[49m\u001B[38;5;124;43m\"\u001B[39;49m\u001B[38;5;124;43mnatural\u001B[39;49m\u001B[38;5;124;43m\"\u001B[39;49m\u001B[43m,\u001B[49m\u001B[43m \u001B[49m\u001B[38;5;241;43m20\u001B[39;49m\u001B[43m,\u001B[49m\u001B[43m \u001B[49m\u001B[38;5;124;43m\"\u001B[39;49m\u001B[38;5;124;43mold\u001B[39;49m\u001B[38;5;124;43m\"\u001B[39;49m\u001B[43m)\u001B[49m,\n\u001B[1;32m    118\u001B[0m \n\u001B[1;32m    119\u001B[0m     \u001B[38;5;66;03m# Data paths. Not used for (mnist, cifar-10)\u001B[39;00m\n\u001B[1;32m    120\u001B[0m     train_data_path\u001B[38;5;241m=\u001B[39m\u001B[38;5;124m'\u001B[39m\u001B[38;5;124m../datasets/imagenet_32/train_data/\u001B[39m\u001B[38;5;124m'\u001B[39m,\n\u001B[1;32m    121\u001B[0m     val_data_path\u001B[38;5;241m=\u001B[39m\u001B[38;5;124m'\u001B[39m\u001B[38;5;124m../datasets/imagenet_32/val_data/\u001B[39m\u001B[38;5;124m'\u001B[39m,\n\u001B[1;32m    122\u001B[0m     synthesis_data_path\u001B[38;5;241m=\u001B[39m\u001B[38;5;124m'\u001B[39m\u001B[38;5;124m../datasets/imagenet_32/val_data/\u001B[39m\u001B[38;5;124m'\u001B[39m,\n\u001B[1;32m    123\u001B[0m \n\u001B[1;32m    124\u001B[0m     \u001B[38;5;66;03m# Image metadata\u001B[39;00m\n\u001B[1;32m    125\u001B[0m     shape\u001B[38;5;241m=\u001B[39m(\u001B[38;5;241m1\u001B[39m, \u001B[38;5;241m20\u001B[39m, \u001B[38;5;241m20\u001B[39m),\n\u001B[1;32m    126\u001B[0m     \u001B[38;5;66;03m# Image color depth in the dataset (bit-depth of each color channel)\u001B[39;00m\n\u001B[1;32m    127\u001B[0m     num_bits\u001B[38;5;241m=\u001B[39m\u001B[38;5;241m8.\u001B[39m,\n\u001B[1;32m    128\u001B[0m )\n\u001B[1;32m    130\u001B[0m \u001B[38;5;124;03m\"\"\"\u001B[39;00m\n\u001B[1;32m    131\u001B[0m \u001B[38;5;124;03m--------------------\u001B[39;00m\n\u001B[1;32m    132\u001B[0m \u001B[38;5;124;03mTRAINING HYPERPARAMETERS\u001B[39;00m\n\u001B[1;32m    133\u001B[0m \u001B[38;5;124;03m--------------------\u001B[39;00m\n\u001B[1;32m    134\u001B[0m \u001B[38;5;124;03m\"\"\"\u001B[39;00m\n\u001B[1;32m    135\u001B[0m train_params \u001B[38;5;241m=\u001B[39m Hyperparams(\n\u001B[1;32m    136\u001B[0m     \u001B[38;5;66;03m# The total number of training updates\u001B[39;00m\n\u001B[1;32m    137\u001B[0m     total_train_steps\u001B[38;5;241m=\u001B[39m\u001B[38;5;241m640000\u001B[39m,\n\u001B[1;32m    138\u001B[0m     \u001B[38;5;66;03m# training batch size\u001B[39;00m\n\u001B[1;32m    139\u001B[0m     batch_size\u001B[38;5;241m=\u001B[39m\u001B[38;5;241m128\u001B[39m,\n\u001B[1;32m    140\u001B[0m )\n",
      "File \u001B[0;32m~/code/ai/hvae/data/textures/textures.py:14\u001B[0m, in \u001B[0;36mTexturesDataset.__init__\u001B[0;34m(self, type, image_size, whitening)\u001B[0m\n\u001B[1;32m     12\u001B[0m \u001B[38;5;28mself\u001B[39m\u001B[38;5;241m.\u001B[39mimage_size \u001B[38;5;241m=\u001B[39m image_size\n\u001B[1;32m     13\u001B[0m \u001B[38;5;28mself\u001B[39m\u001B[38;5;241m.\u001B[39mwhitening \u001B[38;5;241m=\u001B[39m whitening\n\u001B[0;32m---> 14\u001B[0m \u001B[38;5;28;43msuper\u001B[39;49m\u001B[43m(\u001B[49m\u001B[43mTexturesDataset\u001B[49m\u001B[43m,\u001B[49m\u001B[43m \u001B[49m\u001B[38;5;28;43mself\u001B[39;49m\u001B[43m)\u001B[49m\u001B[38;5;241;43m.\u001B[39;49m\u001B[38;5;21;43m__init__\u001B[39;49m\u001B[43m(\u001B[49m\u001B[43m)\u001B[49m\n",
      "File \u001B[0;32m~/code/ai/hvae/src/elements/dataset.py:76\u001B[0m, in \u001B[0;36m_DataSet.__init__\u001B[0;34m(self, train_transform, val_transform, test_transform)\u001B[0m\n\u001B[1;32m     73\u001B[0m \u001B[38;5;28mself\u001B[39m\u001B[38;5;241m.\u001B[39mtest_transform \u001B[38;5;241m=\u001B[39m test_transform\n\u001B[1;32m     74\u001B[0m \u001B[38;5;28mself\u001B[39m\u001B[38;5;241m.\u001B[39mval_transform \u001B[38;5;241m=\u001B[39m val_transform\n\u001B[0;32m---> 76\u001B[0m train_data, val_data, test_data \u001B[38;5;241m=\u001B[39m \u001B[38;5;28;43mself\u001B[39;49m\u001B[38;5;241;43m.\u001B[39;49m\u001B[43mload\u001B[49m\u001B[43m(\u001B[49m\u001B[43m)\u001B[49m\n\u001B[1;32m     77\u001B[0m \u001B[38;5;28mprint\u001B[39m(train_data\u001B[38;5;241m.\u001B[39mshape), \u001B[38;5;28mlen\u001B[39m(val_data\u001B[38;5;241m.\u001B[39mshape), \u001B[38;5;28mlen\u001B[39m(test_data\u001B[38;5;241m.\u001B[39mshape)\n\u001B[1;32m     79\u001B[0m \u001B[38;5;28mself\u001B[39m\u001B[38;5;241m.\u001B[39mtrain_set \u001B[38;5;241m=\u001B[39m \u001B[38;5;28mself\u001B[39m\u001B[38;5;241m.\u001B[39m_FunctionalDataset(train_data, \u001B[38;5;28mself\u001B[39m\u001B[38;5;241m.\u001B[39mtrain_transform)\n",
      "File \u001B[0;32m~/code/ai/hvae/data/textures/textures.py:17\u001B[0m, in \u001B[0;36mTexturesDataset.load\u001B[0;34m(self)\u001B[0m\n\u001B[1;32m     16\u001B[0m \u001B[38;5;28;01mdef\u001B[39;00m \u001B[38;5;21mload\u001B[39m(\u001B[38;5;28mself\u001B[39m):\n\u001B[0;32m---> 17\u001B[0m     \u001B[38;5;28;01mif\u001B[39;00m \u001B[38;5;129;01mnot\u001B[39;00m \u001B[38;5;28mlen\u001B[39m(\u001B[43mos\u001B[49m\u001B[38;5;241;43m.\u001B[39;49m\u001B[43mlistdir\u001B[49m\u001B[43m(\u001B[49m\u001B[38;5;124;43m'\u001B[39;49m\u001B[38;5;124;43mdata/textures/datasets\u001B[39;49m\u001B[38;5;124;43m'\u001B[39;49m\u001B[43m)\u001B[49m) \u001B[38;5;241m==\u001B[39m \u001B[38;5;241m4\u001B[39m:\n\u001B[1;32m     18\u001B[0m         run_download_script()\n\u001B[1;32m     20\u001B[0m     \u001B[38;5;28;01mif\u001B[39;00m \u001B[38;5;28mself\u001B[39m\u001B[38;5;241m.\u001B[39mtype \u001B[38;5;241m==\u001B[39m \u001B[38;5;124m\"\u001B[39m\u001B[38;5;124mnatural\u001B[39m\u001B[38;5;124m\"\u001B[39m:\n",
      "\u001B[0;31mFileNotFoundError\u001B[0m: [Errno 2] No such file or directory: 'data/textures/datasets'"
     ]
    }
   ],
   "source": [
    "from train import main\n",
    "main()"
   ],
   "metadata": {
    "collapsed": false
   }
  },
  {
   "cell_type": "code",
   "execution_count": 1,
   "outputs": [
    {
     "name": "stderr",
     "output_type": "stream",
     "text": [
      "2023-08-11 20:39:30,604 - INFO - Model Checkpoint is loaded\n",
      "2023-08-11 20:39:30,685 - INFO - Step: 0000  | NELBO: 18185.6055 | Reconstruction: 37.5274 | kl_div: 26182.1426| SSIM: 0.2906 \n",
      "2023-08-11 20:39:30,731 - INFO - Step: 0001  | NELBO: 1390.3896 | Reconstruction: 37.4015 | kl_div: 1951.9493| SSIM: 0.2866 \n",
      "2023-08-11 20:39:30,777 - INFO - Step: 0002  | NELBO: 15590.1328 | Reconstruction: 37.3964 | kl_div: 22437.8555| SSIM: 0.2894 \n",
      "2023-08-11 20:39:30,822 - INFO - Step: 0003  | NELBO: 4945.2681 | Reconstruction: 37.5371 | kl_div: 7080.3589| SSIM: 0.2897 \n",
      "2023-08-11 20:39:30,866 - INFO - Step: 0004  | NELBO: 74634.1562 | Reconstruction: 37.3911 | kl_div: 107620.3828| SSIM: 0.2938 \n",
      "2023-08-11 20:39:30,910 - INFO - Step: 0005  | NELBO: 7136.1167 | Reconstruction: 37.3642 | kl_div: 10241.3350| SSIM: 0.2967 \n",
      "2023-08-11 20:39:30,954 - INFO - Step: 0006  | NELBO: 74096.5156 | Reconstruction: 37.4514 | kl_div: 106844.6406| SSIM: 0.2846 \n",
      "2023-08-11 20:39:30,999 - INFO - Step: 0007  | NELBO: 12732.3438 | Reconstruction: 37.5175 | kl_div: 18314.7637| SSIM: 0.2882 \n",
      "2023-08-11 20:39:31,044 - INFO - Step: 0008  | NELBO: 840129.0000 | Reconstruction: 37.1301 | kl_div: 1211996.3750| SSIM: 0.2904 \n",
      "2023-08-11 20:39:31,087 - INFO - Step: 0009  | NELBO: 892.5518 | Reconstruction: 37.4794 | kl_div: 1233.6086| SSIM: 0.2957 \n",
      "2023-08-11 20:39:31,131 - INFO - Step: 0010  | NELBO: 2857.8354 | Reconstruction: 37.3723 | kl_div: 4069.0681| SSIM: 0.2932 \n",
      "2023-08-11 20:39:31,182 - INFO - Step: 0011  | NELBO: 45506.6172 | Reconstruction: 37.3709 | kl_div: 65598.2578| SSIM: 0.2879 \n",
      "2023-08-11 20:39:31,225 - INFO - Step: 0012  | NELBO: 1866.1217 | Reconstruction: 37.4493 | kl_div: 2638.2166| SSIM: 0.2919 \n",
      "2023-08-11 20:39:31,268 - INFO - Step: 0013  | NELBO: 1734.0221 | Reconstruction: 37.2750 | kl_div: 2447.8887| SSIM: 0.2914 \n",
      "2023-08-11 20:39:31,313 - INFO - Step: 0014  | NELBO: 1129140.7500 | Reconstruction: 37.3233 | kl_div: 1628951.8750| SSIM: 0.2924 \n",
      "2023-08-11 20:39:31,356 - INFO - Step: 0015  | NELBO: 973.6723 | Reconstruction: 37.5312 | kl_div: 1350.5662| SSIM: 0.2894 \n",
      "2023-08-11 20:39:31,400 - INFO - Step: 0016  | NELBO: 8540.3672 | Reconstruction: 37.4376 | kl_div: 12267.1348| SSIM: 0.2905 \n",
      "2023-08-11 20:39:31,444 - INFO - Step: 0017  | NELBO: 597824.4375 | Reconstruction: 37.4918 | kl_div: 862424.2500| SSIM: 0.2928 \n",
      "2023-08-11 20:39:31,488 - INFO - Step: 0018  | NELBO: 2772.2222 | Reconstruction: 37.4055 | kl_div: 3945.5063| SSIM: 0.2909 \n",
      "2023-08-11 20:39:31,532 - INFO - Step: 0019  | NELBO: 18919.3828 | Reconstruction: 37.4668 | kl_div: 27240.8457| SSIM: 0.2885 \n",
      "2023-08-11 20:39:31,577 - INFO - Step: 0020  | NELBO: 9195.5371 | Reconstruction: 37.3876 | kl_div: 13212.4170| SSIM: 0.2844 \n",
      "2023-08-11 20:39:31,623 - INFO - Step: 0021  | NELBO: 170027.9375 | Reconstruction: 37.3456 | kl_div: 245244.5781| SSIM: 0.2942 \n",
      "2023-08-11 20:39:31,667 - INFO - Step: 0022  | NELBO: 70919.8672 | Reconstruction: 37.3734 | kl_div: 102261.8203| SSIM: 0.2852 \n",
      "2023-08-11 20:39:31,711 - INFO - Step: 0023  | NELBO: 2908.2915 | Reconstruction: 37.4034 | kl_div: 4141.8159| SSIM: 0.2889 \n",
      "2023-08-11 20:39:31,755 - INFO - Step: 0024  | NELBO: 7810.7637 | Reconstruction: 37.4314 | kl_div: 11214.5479| SSIM: 0.2858 \n",
      "2023-08-11 20:39:31,810 - INFO - Step: 0025  | NELBO: 4987.3931 | Reconstruction: 37.4946 | kl_div: 7141.1938| SSIM: 0.2858 \n",
      "2023-08-11 20:39:31,857 - INFO - Step: 0026  | NELBO: 1064.5988 | Reconstruction: 37.4672 | kl_div: 1481.8376| SSIM: 0.2915 \n",
      "2023-08-11 20:39:31,901 - INFO - Step: 0027  | NELBO: 63954408.0000 | Reconstruction: 37.3217 | kl_div: 92266656.0000| SSIM: 0.2913 \n",
      "2023-08-11 20:39:31,945 - INFO - Step: 0028  | NELBO: 1550.0337 | Reconstruction: 37.4755 | kl_div: 2182.1602| SSIM: 0.2959 \n",
      "2023-08-11 20:39:31,990 - INFO - Step: 0029  | NELBO: 12523.3750 | Reconstruction: 37.3730 | kl_div: 18013.4922| SSIM: 0.2930 \n",
      "2023-08-11 20:39:32,034 - INFO - Step: 0030  | NELBO: 16044.2686 | Reconstruction: 37.3634 | kl_div: 23093.0820| SSIM: 0.2929 \n",
      "2023-08-11 20:39:32,077 - INFO - Step: 0031  | NELBO: 3704.1589 | Reconstruction: 37.5024 | kl_div: 5289.8672| SSIM: 0.2925 \n",
      "2023-08-11 20:39:32,121 - INFO - Step: 0032  | NELBO: 6700.6382 | Reconstruction: 37.3944 | kl_div: 9613.0283| SSIM: 0.2881 \n",
      "2023-08-11 20:39:32,164 - INFO - Step: 0033  | NELBO: 20709.3262 | Reconstruction: 37.5036 | kl_div: 29823.1348| SSIM: 0.2905 \n",
      "2023-08-11 20:39:32,207 - INFO - Step: 0034  | NELBO: 11989.4551 | Reconstruction: 37.3614 | kl_div: 17243.2266| SSIM: 0.2952 \n",
      "2023-08-11 20:39:32,250 - INFO - Step: 0035  | NELBO: 2517.2834 | Reconstruction: 37.2136 | kl_div: 3577.9844| SSIM: 0.2916 \n",
      "2023-08-11 20:39:32,295 - INFO - Step: 0036  | NELBO: 31006.9180 | Reconstruction: 37.5394 | kl_div: 44679.3711| SSIM: 0.2896 \n",
      "2023-08-11 20:39:32,339 - INFO - Step: 0037  | NELBO: 2776.2732 | Reconstruction: 37.4478 | kl_div: 3951.2898| SSIM: 0.2900 \n",
      "2023-08-11 20:39:32,384 - INFO - Step: 0038  | NELBO: 3916.2773 | Reconstruction: 37.4742 | kl_div: 5595.9302| SSIM: 0.2937 \n",
      "2023-08-11 20:39:32,426 - INFO - Step: 0039  | NELBO: 12637.8447 | Reconstruction: 37.3095 | kl_div: 18178.7305| SSIM: 0.2903 \n",
      "2023-08-11 20:39:32,469 - INFO - Step: 0040  | NELBO: 36948.9102 | Reconstruction: 37.1968 | kl_div: 53252.3477| SSIM: 0.2897 \n",
      "2023-08-11 20:39:32,515 - INFO - Step: 0041  | NELBO: 53597.9805 | Reconstruction: 37.4859 | kl_div: 77271.4609| SSIM: 0.2931 \n",
      "2023-08-11 20:39:32,558 - INFO - Step: 0042  | NELBO: 28731.9688 | Reconstruction: 37.4778 | kl_div: 41397.3984| SSIM: 0.2930 \n",
      "2023-08-11 20:39:32,602 - INFO - Step: 0043  | NELBO: 8444.4209 | Reconstruction: 37.2339 | kl_div: 12129.0078| SSIM: 0.2856 \n",
      "2023-08-11 20:39:32,645 - INFO - Step: 0044  | NELBO: 18954.3945 | Reconstruction: 37.4606 | kl_div: 27291.3652| SSIM: 0.2934 \n",
      "2023-08-11 20:39:32,688 - INFO - Step: 0045  | NELBO: 70512.3984 | Reconstruction: 37.4336 | kl_div: 101673.8906| SSIM: 0.2935 \n",
      "2023-08-11 20:39:32,731 - INFO - Step: 0046  | NELBO: 442214.0000 | Reconstruction: 37.4027 | kl_div: 637926.0000| SSIM: 0.2936 \n",
      "2023-08-11 20:39:32,775 - INFO - Step: 0047  | NELBO: 2172.8838 | Reconstruction: 37.4418 | kl_div: 3080.7917| SSIM: 0.2876 \n",
      "2023-08-11 20:39:32,819 - INFO - Step: 0048  | NELBO: 1515.7200 | Reconstruction: 37.4767 | kl_div: 2132.6543| SSIM: 0.2939 \n",
      "2023-08-11 20:39:32,864 - INFO - Step: 0049  | NELBO: 890028.8125 | Reconstruction: 37.4233 | kl_div: 1283986.1250| SSIM: 0.2864 \n",
      "2023-08-11 20:39:32,907 - INFO - Step: 0050  | NELBO: 79470.8047 | Reconstruction: 37.4077 | kl_div: 114598.1719| SSIM: 0.2863 \n",
      "2023-08-11 20:39:32,950 - INFO - Step: 0051  | NELBO: 70171.9609 | Reconstruction: 37.3509 | kl_div: 101182.8516| SSIM: 0.2897 \n",
      "2023-08-11 20:39:32,995 - INFO - Step: 0052  | NELBO: 79767.5156 | Reconstruction: 37.3671 | kl_div: 115026.2891| SSIM: 0.2873 \n",
      "2023-08-11 20:39:33,039 - INFO - Step: 0053  | NELBO: 8176.6055 | Reconstruction: 37.4568 | kl_div: 11742.3086| SSIM: 0.2888 \n",
      "2023-08-11 20:39:33,083 - INFO - Step: 0054  | NELBO: 1265.3988 | Reconstruction: 37.3627 | kl_div: 1771.6816| SSIM: 0.2976 \n",
      "2023-08-11 20:39:33,127 - INFO - Step: 0055  | NELBO: 156081248.0000 | Reconstruction: 37.3689 | kl_div: 225177600.0000| SSIM: 0.2937 \n",
      "2023-08-11 20:39:33,173 - INFO - Step: 0056  | NELBO: 9894.8525 | Reconstruction: 37.4900 | kl_div: 14221.1680| SSIM: 0.2882 \n",
      "2023-08-11 20:39:33,217 - INFO - Step: 0057  | NELBO: 13482.7803 | Reconstruction: 37.4036 | kl_div: 19397.5781| SSIM: 0.2944 \n",
      "2023-08-11 20:39:33,261 - INFO - Step: 0058  | NELBO: 15720.8252 | Reconstruction: 37.2588 | kl_div: 22626.6035| SSIM: 0.2852 \n",
      "2023-08-11 20:39:33,305 - INFO - Step: 0059  | NELBO: 449071.2812 | Reconstruction: 37.5022 | kl_div: 647818.8125| SSIM: 0.2899 \n",
      "2023-08-11 20:39:33,350 - INFO - Step: 0060  | NELBO: 374827.5000 | Reconstruction: 37.4336 | kl_div: 540707.7500| SSIM: 0.2937 \n",
      "2023-08-11 20:39:33,395 - INFO - Step: 0061  | NELBO: 99866.9062 | Reconstruction: 37.4019 | kl_div: 144023.5312| SSIM: 0.2882 \n",
      "2023-08-11 20:39:33,438 - INFO - Step: 0062  | NELBO: 17792.4277 | Reconstruction: 37.4529 | kl_div: 25615.0137| SSIM: 0.2872 \n",
      "2023-08-11 20:39:33,483 - INFO - Step: 0063  | NELBO: 5822.9038 | Reconstruction: 37.5342 | kl_div: 8346.5244| SSIM: 0.2899 \n",
      "2023-08-11 20:39:33,528 - INFO - Step: 0064  | NELBO: 976184.6875 | Reconstruction: 37.4854 | kl_div: 1408282.7500| SSIM: 0.2861 \n",
      "2023-08-11 20:39:33,572 - INFO - Step: 0065  | NELBO: 7851.2104 | Reconstruction: 37.3700 | kl_div: 11272.9883| SSIM: 0.2869 \n",
      "2023-08-11 20:39:33,618 - INFO - Step: 0066  | NELBO: 31456.0703 | Reconstruction: 37.4555 | kl_div: 45327.4805| SSIM: 0.2876 \n",
      "2023-08-11 20:39:33,662 - INFO - Step: 0067  | NELBO: 38828.7852 | Reconstruction: 37.5235 | kl_div: 55963.9609| SSIM: 0.2893 \n",
      "2023-08-11 20:39:33,705 - INFO - Step: 0068  | NELBO: 2321.3518 | Reconstruction: 37.2731 | kl_div: 3295.2288| SSIM: 0.2892 \n",
      "2023-08-11 20:39:33,750 - INFO - Step: 0069  | NELBO: 87533.1719 | Reconstruction: 37.3914 | kl_div: 126229.7266| SSIM: 0.2920 \n",
      "2023-08-11 20:39:33,795 - INFO - Step: 0070  | NELBO: 12796.5068 | Reconstruction: 37.3775 | kl_div: 18407.5312| SSIM: 0.2914 \n",
      "2023-08-11 20:39:33,841 - INFO - Step: 0071  | NELBO: 17093.9043 | Reconstruction: 37.3972 | kl_div: 24607.3398| SSIM: 0.2877 \n",
      "2023-08-11 20:39:33,884 - INFO - Step: 0072  | NELBO: 7673.6016 | Reconstruction: 37.4736 | kl_div: 11016.6035| SSIM: 0.2900 \n",
      "2023-08-11 20:39:33,933 - INFO - Step: 0073  | NELBO: 13695.6660 | Reconstruction: 37.4863 | kl_div: 19704.5879| SSIM: 0.2953 \n",
      "2023-08-11 20:39:33,976 - INFO - Step: 0074  | NELBO: 2292.4685 | Reconstruction: 37.4822 | kl_div: 3253.2576| SSIM: 0.2922 \n",
      "2023-08-11 20:39:34,020 - INFO - Step: 0075  | NELBO: 8219.9111 | Reconstruction: 37.3762 | kl_div: 11804.9023| SSIM: 0.2894 \n",
      "2023-08-11 20:39:34,068 - INFO - Step: 0076  | NELBO: 1639.5168 | Reconstruction: 37.4260 | kl_div: 2311.3284| SSIM: 0.2904 \n",
      "2023-08-11 20:39:34,116 - INFO - Step: 0077  | NELBO: 27887.4629 | Reconstruction: 37.2926 | kl_div: 40179.3008| SSIM: 0.2909 \n",
      "2023-08-11 20:39:34,117 - INFO - \n",
      "-----------------------------------------------------------------------------------------\n",
      "2023-08-11 20:39:34,117 - INFO - NELBO: 2914134.500000 | SSIM: 0.290426\n"
     ]
    }
   ],
   "source": [
    "from synthesize import main\n",
    "main()"
   ],
   "metadata": {
    "collapsed": false
   }
  },
  {
   "cell_type": "code",
   "execution_count": 1,
   "outputs": [],
   "source": [
    "class X:\n",
    "    @staticmethod\n",
    "    def method():\n",
    "        print(\"method\")\n",
    "\n",
    "x = X()"
   ],
   "metadata": {
    "collapsed": false
   }
  },
  {
   "cell_type": "code",
   "execution_count": 2,
   "outputs": [],
   "source": [
    "typ = x.__class__"
   ],
   "metadata": {
    "collapsed": false
   }
  },
  {
   "cell_type": "code",
   "execution_count": 3,
   "outputs": [],
   "source": [
    "cls = typ"
   ],
   "metadata": {
    "collapsed": false
   }
  },
  {
   "cell_type": "code",
   "execution_count": 4,
   "outputs": [
    {
     "data": {
      "text/plain": "__main__.X"
     },
     "execution_count": 4,
     "metadata": {},
     "output_type": "execute_result"
    }
   ],
   "source": [
    "cls"
   ],
   "metadata": {
    "collapsed": false
   }
  },
  {
   "cell_type": "code",
   "execution_count": 5,
   "outputs": [
    {
     "name": "stdout",
     "output_type": "stream",
     "text": [
      "method\n"
     ]
    }
   ],
   "source": [
    "X.method()"
   ],
   "metadata": {
    "collapsed": false
   }
  },
  {
   "cell_type": "code",
   "execution_count": 10,
   "outputs": [
    {
     "name": "stdout",
     "output_type": "stream",
     "text": [
      "method\n"
     ]
    }
   ],
   "source": [
    "cls.method()"
   ],
   "metadata": {
    "collapsed": false
   }
  },
  {
   "cell_type": "code",
   "execution_count": null,
   "outputs": [],
   "source": [],
   "metadata": {
    "collapsed": false
   }
  }
 ],
 "metadata": {
  "kernelspec": {
   "display_name": "Python 3",
   "language": "python",
   "name": "python3"
  },
  "language_info": {
   "codemirror_mode": {
    "name": "ipython",
    "version": 2
   },
   "file_extension": ".py",
   "mimetype": "text/x-python",
   "name": "python",
   "nbconvert_exporter": "python",
   "pygments_lexer": "ipython2",
   "version": "2.7.6"
  }
 },
 "nbformat": 4,
 "nbformat_minor": 0
}
