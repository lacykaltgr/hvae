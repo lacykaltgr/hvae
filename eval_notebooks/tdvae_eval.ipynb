{
 "cells": [
  {
   "cell_type": "markdown",
   "source": [
    "# hVAE"
   ],
   "metadata": {
    "collapsed": false
   }
  },
  {
   "cell_type": "code",
   "execution_count": 3,
   "metadata": {
    "collapsed": true
   },
   "outputs": [
    {
     "ename": "TypeError",
     "evalue": "load() missing 1 required positional argument: 'path'",
     "output_type": "error",
     "traceback": [
      "\u001B[0;31m---------------------------------------------------------------------------\u001B[0m",
      "\u001B[0;31mTypeError\u001B[0m                                 Traceback (most recent call last)",
      "Cell \u001B[0;32mIn[3], line 5\u001B[0m\n\u001B[1;32m      1\u001B[0m \u001B[38;5;28;01mfrom\u001B[39;00m \u001B[38;5;21;01msrc\u001B[39;00m\u001B[38;5;21;01m.\u001B[39;00m\u001B[38;5;21;01mhvae\u001B[39;00m \u001B[38;5;28;01mimport\u001B[39;00m hVAE\n\u001B[1;32m      3\u001B[0m PATH \u001B[38;5;241m=\u001B[39m \u001B[38;5;124m\"\u001B[39m\u001B[38;5;124mpath\u001B[39m\u001B[38;5;124m\"\u001B[39m\n\u001B[0;32m----> 5\u001B[0m hvae \u001B[38;5;241m=\u001B[39m \u001B[43mhVAE\u001B[49m\u001B[38;5;241;43m.\u001B[39;49m\u001B[43mload\u001B[49m\u001B[43m(\u001B[49m\u001B[43mPATH\u001B[49m\u001B[43m)\u001B[49m\n\u001B[1;32m      6\u001B[0m hvae\u001B[38;5;241m.\u001B[39meval()\n\u001B[1;32m      7\u001B[0m hvae\u001B[38;5;241m.\u001B[39mgenerate(\u001B[38;5;241m10\u001B[39m)\n",
      "\u001B[0;31mTypeError\u001B[0m: load() missing 1 required positional argument: 'path'"
     ]
    }
   ],
   "source": [
    "from src.hvae import hVAE\n",
    "\n",
    "PATH = \"path\"\n",
    "\n",
    "hvae = hVAE.load(PATH)\n",
    "hvae.eval()\n",
    "hvae.generate(10)"
   ]
  },
  {
   "cell_type": "code",
   "execution_count": null,
   "outputs": [],
   "source": [
    "from torch import nn\n",
    "\n",
    "class VAE(nn.Module):\n",
    "    def __init__(self):\n",
    "        super(VAE, self).__init__()\n",
    "\n",
    "        self.fc1 = nn.Linear(784, 400)\n",
    "        self.fc21 = nn.Linear(400, 20)\n",
    "        self.fc22 = nn.Linear(400, 20)\n",
    "        self.fc3 = nn.Linear(20, 400)\n",
    "        self.fc4 = nn.Linear(400, 784)\n",
    "\n",
    "\n",
    "vae = VAE()\n",
    "for p in vae.parameters():\n",
    "    print(p.shape)"
   ],
   "metadata": {
    "collapsed": false
   }
  },
  {
   "cell_type": "code",
   "execution_count": null,
   "outputs": [],
   "source": [
    "import networkx as nx\n",
    "import matplotlib.pyplot as plt\n",
    "\n",
    "def visualize_graph():\n",
    "    G = nx.DiGraph()\n",
    "\n",
    "    encoder_edges = [('x', 'z1'), ('y', 'z1'), ('x', 'y')]\n",
    "    decoder_edges = [('z1', 'x'), ('y', 'z1')]\n",
    "\n",
    "    # use the same node list for both nx.draw calls\n",
    "    nodes = ['x', 'y', 'z1']\n",
    "\n",
    "    # specify the positions of the nodes\n",
    "    pos = {'x': (0, 0), 'z1': (0, 1), 'y': (0, 2)}\n",
    "\n",
    "    nx.draw(G, nodelist=nodes, pos=pos, edgelist=encoder_edges, edge_color=\"r\", width=2, node_size=2000, with_labels=True, node_color=\"lightblue\", ax=plt.gca(), arrowstyle=\"->\", connectionstyle=\"arc3,rad=0.2\")\n",
    "\n",
    "    # draw the blue edges with labels and arrows on the same axis with negative curvature\n",
    "    nx.draw(G, nodelist=nodes, pos=pos, edgelist=decoder_edges, edge_color=\"b\", width=2, node_size=2000, with_labels=True, node_color=\"lightblue\", ax=plt.gca(), arrowstyle=\"->\")\n",
    "    # show the plot\n",
    "    plt.show()\n"
   ],
   "metadata": {
    "collapsed": false
   }
  },
  {
   "cell_type": "code",
   "execution_count": null,
   "outputs": [],
   "source": [
    "visualize_graph()"
   ],
   "metadata": {
    "collapsed": false
   }
  },
  {
   "cell_type": "code",
   "execution_count": 1,
   "outputs": [],
   "source": [
    "from hparams import get_hparams\n",
    "\n",
    "hparams = get_hparams()\n",
    "model = hparams.model_params.model()"
   ],
   "metadata": {
    "collapsed": false
   }
  },
  {
   "cell_type": "code",
   "execution_count": 1,
   "outputs": [
    {
     "name": "stdout",
     "output_type": "stream",
     "text": [
      "Loading from experiments/TDVAE/2023-08-10_22-13-14/checkpoints/checkpoint-25.pth\n"
     ]
    },
    {
     "name": "stderr",
     "output_type": "stream",
     "text": [
      "2023-08-10 22:30:39,857 - INFO - Model Checkpoint is loaded\n",
      "2023-08-10 22:30:42,297 - INFO - Validation Stats| Reconstruction Loss 37.4010 | KL Div 202005.3125 |NELBO 202042.718750 | SSIM: 0.144424\n"
     ]
    }
   ],
   "source": [
    "from test import main\n",
    "main()"
   ],
   "metadata": {
    "collapsed": false
   }
  },
  {
   "cell_type": "code",
   "execution_count": 1,
   "outputs": [
    {
     "name": "stderr",
     "output_type": "stream",
     "text": [
      "2023-08-10 22:13:14,116 - INFO - Train step generator trainable params 18.361m.\n",
      "2023-08-10 22:13:14,168 - INFO - (0, ('Time/Step (sec)', 0.05), ('Reconstruction Loss', 18.738), ('KL loss', 1425.725), ('ELBO', 18.837), ('average KL loss', 2919.886), ('Beta', 0.0001), ('N° active groups', 2), ('GradNorm', 45676.4), ('GradSkipCount', 1.0))\n",
      "2023-08-10 22:13:14,169 - INFO - \n",
      "-----------------------------------------------------------------------------------------\n",
      "2023-08-10 22:13:14,175 - INFO - Train Stats for global_step 0 | NELBO 18.836956024169922 | SSIM: 0.14734524488449097\n",
      "2023-08-10 22:13:16,515 - INFO - Validation Stats for global_step 0 | Reconstruction Loss 37.4009 | KL Div 950246.0625 |NELBO 950283.437500 | SSIM: 0.144617\n",
      "2023-08-10 22:13:16,516 - INFO - Logging to Tensorboard..\n",
      "2023-08-10 22:13:19,352 - INFO - Saved checkpoint for global_step 0 to experiments/TDVAE/2023-08-10_22-13-14/checkpoints/checkpoint-0.pth\n",
      "2023-08-10 22:13:19,354 - INFO - \n",
      "-----------------------------------------------------------------------------------------\n",
      "\n",
      "2023-08-10 22:13:19,405 - INFO - (1, ('Time/Step (sec)', 0.05), ('Reconstruction Loss', 18.746), ('KL loss', 2906.726), ('ELBO', 18.9473), ('average KL loss', 5952.975), ('Beta', 0.0001), ('N° active groups', 2), ('GradNorm', 23029.0), ('GradSkipCount', 2.0))\n",
      "2023-08-10 22:13:19,446 - INFO - (2, ('Time/Step (sec)', 0.04), ('Reconstruction Loss', 18.74), ('KL loss', 551.097), ('ELBO', 18.7783), ('average KL loss', 1128.646), ('Beta', 0.0001), ('N° active groups', 2), ('GradNorm', 2260.1), ('GradSkipCount', 3.0))\n",
      "2023-08-10 22:13:19,488 - INFO - (3, ('Time/Step (sec)', 0.04), ('Reconstruction Loss', 18.658), ('KL loss', 18322.42), ('ELBO', 19.9278), ('average KL loss', 37524.319), ('Beta', 0.0001), ('N° active groups', 2), ('GradNorm', 3639763.8), ('GradSkipCount', 4.0))\n",
      "2023-08-10 22:13:19,528 - INFO - (4, ('Time/Step (sec)', 0.04), ('Reconstruction Loss', 18.763), ('KL loss', 205776.188), ('ELBO', 33.026), ('average KL loss', 421429.649), ('Beta', 0.0001), ('N° active groups', 2), ('GradNorm', 74761264.0), ('GradSkipCount', 5.0))\n",
      "2023-08-10 22:13:19,568 - INFO - (5, ('Time/Step (sec)', 0.04), ('Reconstruction Loss', 18.75), ('KL loss', 63678.395), ('ELBO', 23.1638), ('average KL loss', 130413.355), ('Beta', 0.0001), ('N° active groups', 2), ('GradNorm', 13922544.0), ('GradSkipCount', 6.0))\n",
      "2023-08-10 22:13:19,568 - INFO - \n",
      "-----------------------------------------------------------------------------------------\n",
      "2023-08-10 22:13:19,574 - INFO - Train Stats for global_step 5 | NELBO 23.163833618164062 | SSIM: 0.14123299717903137\n",
      "2023-08-10 22:13:21,954 - INFO - Validation Stats for global_step 5 | Reconstruction Loss 37.4013 | KL Div 26684644.0000 |NELBO 26684682.000000 | SSIM: 0.144718\n",
      "2023-08-10 22:13:21,955 - INFO - Logging to Tensorboard..\n",
      "2023-08-10 22:13:24,780 - INFO - Saved checkpoint for global_step 5 to experiments/TDVAE/2023-08-10_22-13-14/checkpoints/checkpoint-5.pth\n",
      "2023-08-10 22:13:24,780 - INFO - \n",
      "-----------------------------------------------------------------------------------------\n",
      "\n",
      "2023-08-10 22:13:24,825 - INFO - (6, ('Time/Step (sec)', 0.04), ('Reconstruction Loss', 18.762), ('KL loss', 1310.041), ('ELBO', 18.8529), ('average KL loss', 2682.965), ('Beta', 0.0001), ('N° active groups', 2), ('GradNorm', 15458.7), ('GradSkipCount', 7.0))\n",
      "2023-08-10 22:13:24,866 - INFO - (7, ('Time/Step (sec)', 0.04), ('Reconstruction Loss', 18.652), ('KL loss', 2007.359), ('ELBO', 18.7914), ('average KL loss', 4111.072), ('Beta', 0.0001), ('N° active groups', 2), ('GradNorm', 43878.8), ('GradSkipCount', 8.0))\n",
      "2023-08-10 22:13:24,906 - INFO - (8, ('Time/Step (sec)', 0.04), ('Reconstruction Loss', 18.764), ('KL loss', 1953.596), ('ELBO', 18.8999), ('average KL loss', 4000.965), ('Beta', 0.0001), ('N° active groups', 2), ('GradNorm', 36574.7), ('GradSkipCount', 9.0))\n",
      "2023-08-10 22:13:24,947 - INFO - (9, ('Time/Step (sec)', 0.04), ('Reconstruction Loss', 18.727), ('KL loss', 2072.016), ('ELBO', 18.8702), ('average KL loss', 4243.49), ('Beta', 0.0001), ('N° active groups', 2), ('GradNorm', 31829.1), ('GradSkipCount', 10.0))\n",
      "2023-08-10 22:13:24,988 - INFO - (10, ('Time/Step (sec)', 0.04), ('Reconstruction Loss', 18.705), ('KL loss', 2285108.0), ('ELBO', 177.0965), ('average KL loss', 4679901.069), ('Beta', 0.0001), ('N° active groups', 2), ('GradNorm', 3627383808.0), ('GradSkipCount', 11.0))\n",
      "2023-08-10 22:13:24,989 - INFO - \n",
      "-----------------------------------------------------------------------------------------\n",
      "2023-08-10 22:13:24,995 - INFO - Train Stats for global_step 10 | NELBO 177.09654235839844 | SSIM: 0.14525489509105682\n",
      "2023-08-10 22:13:27,372 - INFO - Validation Stats for global_step 10 | Reconstruction Loss 37.4013 | KL Div 10907362.0000 |NELBO 10907399.000000 | SSIM: 0.144870\n",
      "2023-08-10 22:13:27,372 - INFO - Logging to Tensorboard..\n",
      "2023-08-10 22:13:30,098 - INFO - Saved checkpoint for global_step 10 to experiments/TDVAE/2023-08-10_22-13-14/checkpoints/checkpoint-10.pth\n",
      "2023-08-10 22:13:30,098 - INFO - \n",
      "-----------------------------------------------------------------------------------------\n",
      "\n",
      "2023-08-10 22:13:30,141 - INFO - (11, ('Time/Step (sec)', 0.04), ('Reconstruction Loss', 18.707), ('KL loss', 1890.134), ('ELBO', 18.8381), ('average KL loss', 3870.994), ('Beta', 0.0001), ('N° active groups', 2), ('GradNorm', 44437.6), ('GradSkipCount', 12.0))\n",
      "2023-08-10 22:13:30,184 - INFO - (12, ('Time/Step (sec)', 0.04), ('Reconstruction Loss', 18.664), ('KL loss', 21982.715), ('ELBO', 20.1881), ('average KL loss', 45020.599), ('Beta', 0.0001), ('N° active groups', 2), ('GradNorm', 2541148.5), ('GradSkipCount', 13.0))\n",
      "2023-08-10 22:13:30,226 - INFO - (13, ('Time/Step (sec)', 0.04), ('Reconstruction Loss', 18.67), ('KL loss', 16349.807), ('ELBO', 19.8037), ('average KL loss', 33484.404), ('Beta', 0.0001), ('N° active groups', 2), ('GradNorm', 973284.3), ('GradSkipCount', 14.0))\n",
      "2023-08-10 22:13:30,267 - INFO - (14, ('Time/Step (sec)', 0.04), ('Reconstruction Loss', 18.691), ('KL loss', 1565.445), ('ELBO', 18.7999), ('average KL loss', 3206.032), ('Beta', 0.0001), ('N° active groups', 2), ('GradNorm', 10667.4), ('GradSkipCount', 15.0))\n",
      "2023-08-10 22:13:30,309 - INFO - (15, ('Time/Step (sec)', 0.04), ('Reconstruction Loss', 18.766), ('KL loss', 2214.037), ('ELBO', 18.9193), ('average KL loss', 4534.348), ('Beta', 0.0001), ('N° active groups', 2), ('GradNorm', 19754.0), ('GradSkipCount', 16.0))\n",
      "2023-08-10 22:13:30,309 - INFO - \n",
      "-----------------------------------------------------------------------------------------\n",
      "2023-08-10 22:13:30,316 - INFO - Train Stats for global_step 15 | NELBO 18.919328689575195 | SSIM: 0.14809757471084595\n",
      "2023-08-10 22:13:32,720 - INFO - Validation Stats for global_step 15 | Reconstruction Loss 37.4011 | KL Div 2643197.0000 |NELBO 2643234.500000 | SSIM: 0.144743\n",
      "2023-08-10 22:13:32,720 - INFO - Logging to Tensorboard..\n",
      "2023-08-10 22:13:35,420 - INFO - Saved checkpoint for global_step 15 to experiments/TDVAE/2023-08-10_22-13-14/checkpoints/checkpoint-15.pth\n",
      "2023-08-10 22:13:35,421 - INFO - \n",
      "-----------------------------------------------------------------------------------------\n",
      "\n",
      "2023-08-10 22:13:35,466 - INFO - (16, ('Time/Step (sec)', 0.04), ('Reconstruction Loss', 18.765), ('KL loss', 15845.389), ('ELBO', 19.8635), ('average KL loss', 32451.358), ('Beta', 0.0001), ('N° active groups', 2), ('GradNorm', 2566327.5), ('GradSkipCount', 17.0))\n",
      "2023-08-10 22:13:35,513 - INFO - (17, ('Time/Step (sec)', 0.05), ('Reconstruction Loss', 18.709), ('KL loss', 1512.232), ('ELBO', 18.814), ('average KL loss', 3097.051), ('Beta', 0.0001), ('N° active groups', 2), ('GradNorm', 25655.8), ('GradSkipCount', 18.0))\n",
      "2023-08-10 22:13:35,560 - INFO - (18, ('Time/Step (sec)', 0.05), ('Reconstruction Loss', 18.547), ('KL loss', 1122246.625), ('ELBO', 96.335), ('average KL loss', 2298361.133), ('Beta', 0.0001), ('N° active groups', 2), ('GradNorm', 1663797504.0), ('GradSkipCount', 19.0))\n",
      "2023-08-10 22:13:35,604 - INFO - (19, ('Time/Step (sec)', 0.04), ('Reconstruction Loss', 18.668), ('KL loss', 732.733), ('ELBO', 18.7183), ('average KL loss', 1500.636), ('Beta', 0.0001), ('N° active groups', 2), ('GradNorm', 2309.0), ('GradSkipCount', 20.0))\n",
      "2023-08-10 22:13:35,649 - INFO - (20, ('Time/Step (sec)', 0.04), ('Reconstruction Loss', 18.755), ('KL loss', 22012.826), ('ELBO', 20.2812), ('average KL loss', 45082.267), ('Beta', 0.0001), ('N° active groups', 2), ('GradNorm', 5058185.0), ('GradSkipCount', 21.0))\n",
      "2023-08-10 22:13:35,650 - INFO - \n",
      "-----------------------------------------------------------------------------------------\n",
      "2023-08-10 22:13:35,656 - INFO - Train Stats for global_step 20 | NELBO 20.28117561340332 | SSIM: 0.14080001413822174\n",
      "2023-08-10 22:13:38,094 - INFO - Validation Stats for global_step 20 | Reconstruction Loss 37.4013 | KL Div 1448506.0000 |NELBO 1448543.375000 | SSIM: 0.144925\n",
      "2023-08-10 22:13:38,095 - INFO - Logging to Tensorboard..\n",
      "2023-08-10 22:13:40,805 - INFO - Saved checkpoint for global_step 20 to experiments/TDVAE/2023-08-10_22-13-14/checkpoints/checkpoint-20.pth\n",
      "2023-08-10 22:13:40,806 - INFO - \n",
      "-----------------------------------------------------------------------------------------\n",
      "\n",
      "2023-08-10 22:13:40,850 - INFO - (21, ('Time/Step (sec)', 0.04), ('Reconstruction Loss', 18.675), ('KL loss', 2982.722), ('ELBO', 18.8813), ('average KL loss', 6108.615), ('Beta', 0.0001), ('N° active groups', 2), ('GradNorm', 33104.1), ('GradSkipCount', 22.0))\n",
      "2023-08-10 22:13:40,896 - INFO - (22, ('Time/Step (sec)', 0.04), ('Reconstruction Loss', 18.699), ('KL loss', 231156.844), ('ELBO', 50.6101), ('average KL loss', 473409.198), ('Beta', 0.0002), ('N° active groups', 2), ('GradNorm', 191175408.0), ('GradSkipCount', 23.0))\n",
      "2023-08-10 22:13:40,940 - INFO - (23, ('Time/Step (sec)', 0.04), ('Reconstruction Loss', 18.761), ('KL loss', 10083.377), ('ELBO', 21.5447), ('average KL loss', 20650.755), ('Beta', 0.0004), ('N° active groups', 2), ('GradNorm', 3357641.2), ('GradSkipCount', 24.0))\n",
      "2023-08-10 22:13:40,983 - INFO - (24, ('Time/Step (sec)', 0.04), ('Reconstruction Loss', 18.651), ('KL loss', 764171.75), ('ELBO', 335.1315), ('average KL loss', 1565024.238), ('Beta', 0.0006), ('N° active groups', 2), ('GradNorm', 1984388992.0), ('GradSkipCount', 25.0))\n",
      "2023-08-10 22:13:41,027 - INFO - (25, ('Time/Step (sec)', 0.04), ('Reconstruction Loss', 18.735), ('KL loss', 132623.656), ('ELBO', 91.9694), ('average KL loss', 271613.216), ('Beta', 0.0008), ('N° active groups', 2), ('GradNorm', 571397248.0), ('GradSkipCount', 26.0))\n",
      "2023-08-10 22:13:41,028 - INFO - \n",
      "-----------------------------------------------------------------------------------------\n",
      "2023-08-10 22:13:41,034 - INFO - Train Stats for global_step 25 | NELBO 91.9693603515625 | SSIM: 0.14500607550144196\n",
      "2023-08-10 22:13:43,535 - INFO - Validation Stats for global_step 25 | Reconstruction Loss 37.4010 | KL Div 1733058.0000 |NELBO 1733095.375000 | SSIM: 0.144667\n",
      "2023-08-10 22:13:43,536 - INFO - Logging to Tensorboard..\n",
      "2023-08-10 22:13:46,244 - INFO - Saved checkpoint for global_step 25 to experiments/TDVAE/2023-08-10_22-13-14/checkpoints/checkpoint-25.pth\n",
      "2023-08-10 22:13:46,245 - INFO - \n",
      "-----------------------------------------------------------------------------------------\n",
      "\n",
      "2023-08-10 22:13:46,286 - INFO - (26, ('Time/Step (sec)', 0.04), ('Reconstruction Loss', 18.72), ('KL loss', 6720.151), ('ELBO', 23.3582), ('average KL loss', 13762.869), ('Beta', 0.001), ('N° active groups', 2), ('GradNorm', 2613658.0), ('GradSkipCount', 27.0))\n",
      "2023-08-10 22:13:46,328 - INFO - (27, ('Time/Step (sec)', 0.04), ('Reconstruction Loss', 18.628), ('KL loss', 824.553), ('ELBO', 19.3113), ('average KL loss', 1688.685), ('Beta', 0.0012), ('N° active groups', 2), ('GradNorm', 33186.0), ('GradSkipCount', 28.0))\n",
      "2023-08-10 22:13:46,368 - INFO - (28, ('Time/Step (sec)', 0.04), ('Reconstruction Loss', 18.721), ('KL loss', 4171.806), ('ELBO', 22.7524), ('average KL loss', 8543.86), ('Beta', 0.0014), ('N° active groups', 2), ('GradNorm', 1779644.9), ('GradSkipCount', 29.0))\n",
      "2023-08-10 22:13:46,410 - INFO - (29, ('Time/Step (sec)', 0.04), ('Reconstruction Loss', 18.667), ('KL loss', 4045.365), ('ELBO', 23.1347), ('average KL loss', 8284.909), ('Beta', 0.0016), ('N° active groups', 2), ('GradNorm', 688093.6), ('GradSkipCount', 30.0))\n",
      "2023-08-10 22:13:46,452 - INFO - (30, ('Time/Step (sec)', 0.04), ('Reconstruction Loss', 18.704), ('KL loss', 1017.166), ('ELBO', 19.9682), ('average KL loss', 2083.156), ('Beta', 0.0018), ('N° active groups', 2), ('GradNorm', 150779.8), ('GradSkipCount', 31.0))\n",
      "2023-08-10 22:13:46,452 - INFO - \n",
      "-----------------------------------------------------------------------------------------\n",
      "2023-08-10 22:13:46,459 - INFO - Train Stats for global_step 30 | NELBO 19.96817398071289 | SSIM: 0.14336957037448883\n"
     ]
    },
    {
     "ename": "KeyboardInterrupt",
     "evalue": "",
     "output_type": "error",
     "traceback": [
      "\u001B[0;31m---------------------------------------------------------------------------\u001B[0m",
      "\u001B[0;31mKeyboardInterrupt\u001B[0m                         Traceback (most recent call last)",
      "Cell \u001B[0;32mIn[1], line 2\u001B[0m\n\u001B[1;32m      1\u001B[0m \u001B[38;5;28;01mfrom\u001B[39;00m \u001B[38;5;21;01mtrain\u001B[39;00m \u001B[38;5;28;01mimport\u001B[39;00m main\n\u001B[0;32m----> 2\u001B[0m \u001B[43mmain\u001B[49m\u001B[43m(\u001B[49m\u001B[43m)\u001B[49m\n",
      "File \u001B[0;32m~/code/ai/hvae/train.py:54\u001B[0m, in \u001B[0;36mmain\u001B[0;34m()\u001B[0m\n\u001B[1;32m     51\u001B[0m writer_train \u001B[38;5;241m=\u001B[39m create_tb_writer_for(\u001B[38;5;124m'\u001B[39m\u001B[38;5;124mtrain\u001B[39m\u001B[38;5;124m'\u001B[39m, checkpoint_path\u001B[38;5;241m=\u001B[39mcheckpoint_path)\n\u001B[1;32m     52\u001B[0m writer_val \u001B[38;5;241m=\u001B[39m create_tb_writer_for(\u001B[38;5;124m'\u001B[39m\u001B[38;5;124mval\u001B[39m\u001B[38;5;124m'\u001B[39m, checkpoint_path\u001B[38;5;241m=\u001B[39mcheckpoint_path)\n\u001B[0;32m---> 54\u001B[0m \u001B[43mtrain\u001B[49m\u001B[43m(\u001B[49m\u001B[43mmodel\u001B[49m\u001B[43m,\u001B[49m\u001B[43m \u001B[49m\u001B[43moptimizer\u001B[49m\u001B[43m,\u001B[49m\u001B[43m \u001B[49m\u001B[43mschedule\u001B[49m\u001B[43m,\u001B[49m\u001B[43m \u001B[49m\u001B[43mtrain_loader\u001B[49m\u001B[43m,\u001B[49m\u001B[43m \u001B[49m\u001B[43mval_loader\u001B[49m\u001B[43m,\u001B[49m\u001B[43m \u001B[49m\u001B[43mgloabal_step\u001B[49m\u001B[43m,\u001B[49m\n\u001B[1;32m     55\u001B[0m \u001B[43m      \u001B[49m\u001B[43mwriter_train\u001B[49m\u001B[43m,\u001B[49m\u001B[43m \u001B[49m\u001B[43mwriter_val\u001B[49m\u001B[43m,\u001B[49m\u001B[43m \u001B[49m\u001B[43mcheckpoint_path\u001B[49m\u001B[43m,\u001B[49m\u001B[43m \u001B[49m\u001B[43mlogger\u001B[49m\u001B[43m)\u001B[49m\n",
      "File \u001B[0;32m~/code/ai/hvae/src/model.py:268\u001B[0m, in \u001B[0;36mtrain\u001B[0;34m(net, optimizer, schedule, train_loader, val_loader, checkpoint_start_step, tb_writer_train, tb_writer_val, checkpoint_path, logger)\u001B[0m\n\u001B[1;32m    265\u001B[0m train_ssim \u001B[38;5;241m=\u001B[39m ssim_metric(train_inputs, train_outputs, global_batch_size\u001B[38;5;241m=\u001B[39mprms\u001B[38;5;241m.\u001B[39mtrain_params\u001B[38;5;241m.\u001B[39mbatch_size)\n\u001B[1;32m    266\u001B[0m logger\u001B[38;5;241m.\u001B[39minfo(\n\u001B[1;32m    267\u001B[0m     \u001B[38;5;124mf\u001B[39m\u001B[38;5;124m'\u001B[39m\u001B[38;5;124mTrain Stats for global_step \u001B[39m\u001B[38;5;132;01m{\u001B[39;00mglobal_step\u001B[38;5;132;01m}\u001B[39;00m\u001B[38;5;124m | NELBO \u001B[39m\u001B[38;5;132;01m{\u001B[39;00mtrain_results[\u001B[38;5;124m\"\u001B[39m\u001B[38;5;124melbo\u001B[39m\u001B[38;5;124m\"\u001B[39m]\u001B[38;5;132;01m}\u001B[39;00m\u001B[38;5;124m | \u001B[39m\u001B[38;5;124m'\u001B[39m\u001B[38;5;124mf\u001B[39m\u001B[38;5;124m'\u001B[39m\u001B[38;5;124mSSIM: \u001B[39m\u001B[38;5;132;01m{\u001B[39;00mtrain_ssim\u001B[38;5;132;01m}\u001B[39;00m\u001B[38;5;124m'\u001B[39m)\n\u001B[0;32m--> 268\u001B[0m val_results, val_outputs, val_inputs \u001B[38;5;241m=\u001B[39m \u001B[43mevaluate\u001B[49m\u001B[43m(\u001B[49m\u001B[43mnet\u001B[49m\u001B[43m,\u001B[49m\u001B[43m \u001B[49m\u001B[43mval_loader\u001B[49m\u001B[43m,\u001B[49m\u001B[43m \u001B[49m\u001B[43mglobal_step\u001B[49m\u001B[43m,\u001B[49m\u001B[43m \u001B[49m\u001B[43mlogger\u001B[49m\u001B[43m)\u001B[49m\n\u001B[1;32m    269\u001B[0m \u001B[38;5;66;03m# Tensorboard logging\u001B[39;00m\n\u001B[1;32m    270\u001B[0m logger\u001B[38;5;241m.\u001B[39minfo(\u001B[38;5;124m'\u001B[39m\u001B[38;5;124mLogging to Tensorboard..\u001B[39m\u001B[38;5;124m'\u001B[39m)\n",
      "File \u001B[0;32m~/code/ai/hvae/src/model.py:328\u001B[0m, in \u001B[0;36mevaluate\u001B[0;34m(net, val_loader, global_step, logger)\u001B[0m\n\u001B[1;32m    325\u001B[0m \u001B[38;5;28;01mfor\u001B[39;00m val_step, val_inputs \u001B[38;5;129;01min\u001B[39;00m \u001B[38;5;28menumerate\u001B[39m(val_loader):\n\u001B[1;32m    326\u001B[0m     val_inputs \u001B[38;5;241m=\u001B[39m val_inputs\u001B[38;5;241m.\u001B[39mto(device, non_blocking\u001B[38;5;241m=\u001B[39m\u001B[38;5;28;01mTrue\u001B[39;00m)\n\u001B[1;32m    327\u001B[0m     val_outputs, val_computed, val_results \u001B[38;5;241m=\u001B[39m \\\n\u001B[0;32m--> 328\u001B[0m         \u001B[43mreconstruction_step\u001B[49m\u001B[43m(\u001B[49m\u001B[43mnet\u001B[49m\u001B[43m,\u001B[49m\u001B[43m \u001B[49m\u001B[43minputs\u001B[49m\u001B[38;5;241;43m=\u001B[39;49m\u001B[43mval_inputs\u001B[49m\u001B[43m,\u001B[49m\u001B[43m \u001B[49m\u001B[43mstep_n\u001B[49m\u001B[38;5;241;43m=\u001B[39;49m\u001B[43mglobal_step\u001B[49m\u001B[43m)\u001B[49m\n\u001B[1;32m    330\u001B[0m     val_ssim_per_batch \u001B[38;5;241m=\u001B[39m ssim_metric(val_inputs, val_outputs, global_batch_size\u001B[38;5;241m=\u001B[39mprms\u001B[38;5;241m.\u001B[39meval_params\u001B[38;5;241m.\u001B[39mbatch_size)\n\u001B[1;32m    331\u001B[0m     val_feature_matching_losses \u001B[38;5;241m+\u001B[39m\u001B[38;5;241m=\u001B[39m val_results[\u001B[38;5;124m\"\u001B[39m\u001B[38;5;124mreconstruction_loss\u001B[39m\u001B[38;5;124m\"\u001B[39m]\n",
      "File \u001B[0;32m~/code/ai/hvae/src/model.py:112\u001B[0m, in \u001B[0;36mreconstruction_step\u001B[0;34m(net, inputs, variates_masks, step_n)\u001B[0m\n\u001B[1;32m    110\u001B[0m \u001B[38;5;28;01mif\u001B[39;00m step_n \u001B[38;5;129;01mis\u001B[39;00m \u001B[38;5;28;01mNone\u001B[39;00m:\n\u001B[1;32m    111\u001B[0m     step_n \u001B[38;5;241m=\u001B[39m \u001B[38;5;28mmax\u001B[39m(prms\u001B[38;5;241m.\u001B[39mloss_params\u001B[38;5;241m.\u001B[39mvae_beta_anneal_steps, prms\u001B[38;5;241m.\u001B[39mloss_params\u001B[38;5;241m.\u001B[39mgamma_max_steps) \u001B[38;5;241m*\u001B[39m \u001B[38;5;241m10.\u001B[39m\n\u001B[0;32m--> 112\u001B[0m results \u001B[38;5;241m=\u001B[39m \u001B[43mcompute_loss\u001B[49m\u001B[43m(\u001B[49m\u001B[43minputs\u001B[49m\u001B[43m,\u001B[49m\u001B[43m \u001B[49m\u001B[43mpredictions\u001B[49m\u001B[43m,\u001B[49m\u001B[43m \u001B[49m\u001B[43mdistributions\u001B[49m\u001B[43m,\u001B[49m\u001B[43m \u001B[49m\u001B[43mstep_n\u001B[49m\u001B[38;5;241;43m=\u001B[39;49m\u001B[43mstep_n\u001B[49m\u001B[43m)\u001B[49m\n\u001B[1;32m    113\u001B[0m outputs \u001B[38;5;241m=\u001B[39m sample(predictions)\n\u001B[1;32m    114\u001B[0m \u001B[38;5;28;01mreturn\u001B[39;00m outputs, computed, results\n",
      "File \u001B[0;32m~/code/ai/hvae/src/model.py:38\u001B[0m, in \u001B[0;36mcompute_loss\u001B[0;34m(targets, predictions, distributions, step_n)\u001B[0m\n\u001B[1;32m     33\u001B[0m \u001B[38;5;28;01mif\u001B[39;00m prms\u001B[38;5;241m.\u001B[39mloss_params\u001B[38;5;241m.\u001B[39mcustom_loss \u001B[38;5;129;01mis\u001B[39;00m \u001B[38;5;129;01mnot\u001B[39;00m \u001B[38;5;28;01mNone\u001B[39;00m:\n\u001B[1;32m     34\u001B[0m     \u001B[38;5;28;01mreturn\u001B[39;00m prms\u001B[38;5;241m.\u001B[39mloss_params\u001B[38;5;241m.\u001B[39mcustom_loss(targets\u001B[38;5;241m=\u001B[39mtargets, predictions\u001B[38;5;241m=\u001B[39mpredictions,\n\u001B[1;32m     35\u001B[0m                                         distributions\u001B[38;5;241m=\u001B[39mdistributions, step_n\u001B[38;5;241m=\u001B[39mstep_n)\n\u001B[1;32m     37\u001B[0m feature_matching_loss, avg_feature_matching_loss, means, log_scales \\\n\u001B[0;32m---> 38\u001B[0m     \u001B[38;5;241m=\u001B[39m \u001B[43mreconstruction_loss\u001B[49m\u001B[43m(\u001B[49m\u001B[43mtargets\u001B[49m\u001B[43m,\u001B[49m\u001B[43m \u001B[49m\u001B[43mpredictions\u001B[49m\u001B[43m)\u001B[49m\n\u001B[1;32m     40\u001B[0m global_variational_prior_losses \u001B[38;5;241m=\u001B[39m []\n\u001B[1;32m     41\u001B[0m avg_global_var_prior_losses \u001B[38;5;241m=\u001B[39m []\n",
      "File \u001B[0;32m~/miniconda/envs/tensyflow/lib/python3.8/site-packages/torch/nn/modules/module.py:1501\u001B[0m, in \u001B[0;36mModule._call_impl\u001B[0;34m(self, *args, **kwargs)\u001B[0m\n\u001B[1;32m   1496\u001B[0m \u001B[38;5;66;03m# If we don't have any hooks, we want to skip the rest of the logic in\u001B[39;00m\n\u001B[1;32m   1497\u001B[0m \u001B[38;5;66;03m# this function, and just call forward.\u001B[39;00m\n\u001B[1;32m   1498\u001B[0m \u001B[38;5;28;01mif\u001B[39;00m \u001B[38;5;129;01mnot\u001B[39;00m (\u001B[38;5;28mself\u001B[39m\u001B[38;5;241m.\u001B[39m_backward_hooks \u001B[38;5;129;01mor\u001B[39;00m \u001B[38;5;28mself\u001B[39m\u001B[38;5;241m.\u001B[39m_backward_pre_hooks \u001B[38;5;129;01mor\u001B[39;00m \u001B[38;5;28mself\u001B[39m\u001B[38;5;241m.\u001B[39m_forward_hooks \u001B[38;5;129;01mor\u001B[39;00m \u001B[38;5;28mself\u001B[39m\u001B[38;5;241m.\u001B[39m_forward_pre_hooks\n\u001B[1;32m   1499\u001B[0m         \u001B[38;5;129;01mor\u001B[39;00m _global_backward_pre_hooks \u001B[38;5;129;01mor\u001B[39;00m _global_backward_hooks\n\u001B[1;32m   1500\u001B[0m         \u001B[38;5;129;01mor\u001B[39;00m _global_forward_hooks \u001B[38;5;129;01mor\u001B[39;00m _global_forward_pre_hooks):\n\u001B[0;32m-> 1501\u001B[0m     \u001B[38;5;28;01mreturn\u001B[39;00m \u001B[43mforward_call\u001B[49m\u001B[43m(\u001B[49m\u001B[38;5;241;43m*\u001B[39;49m\u001B[43margs\u001B[49m\u001B[43m,\u001B[49m\u001B[43m \u001B[49m\u001B[38;5;241;43m*\u001B[39;49m\u001B[38;5;241;43m*\u001B[39;49m\u001B[43mkwargs\u001B[49m\u001B[43m)\u001B[49m\n\u001B[1;32m   1502\u001B[0m \u001B[38;5;66;03m# Do not call functions when jit is used\u001B[39;00m\n\u001B[1;32m   1503\u001B[0m full_backward_hooks, non_full_backward_hooks \u001B[38;5;241m=\u001B[39m [], []\n",
      "\u001B[0;31mKeyboardInterrupt\u001B[0m: "
     ]
    }
   ],
   "source": [
    "from train import main\n",
    "main()"
   ],
   "metadata": {
    "collapsed": false
   }
  },
  {
   "cell_type": "code",
   "execution_count": 1,
   "outputs": [
    {
     "name": "stdout",
     "output_type": "stream",
     "text": [
      "Loading from experiments/TDVAE/2023-08-10_22-13-14/checkpoints/checkpoint-25.pth\n"
     ]
    },
    {
     "name": "stderr",
     "output_type": "stream",
     "text": [
      "2023-08-10 22:36:46,249 - INFO - Model Checkpoint is loaded\n"
     ]
    },
    {
     "ename": "AssertionError",
     "evalue": "",
     "output_type": "error",
     "traceback": [
      "\u001B[0;31m---------------------------------------------------------------------------\u001B[0m",
      "\u001B[0;31mAssertionError\u001B[0m                            Traceback (most recent call last)",
      "Cell \u001B[0;32mIn[1], line 3\u001B[0m\n\u001B[1;32m      1\u001B[0m \u001B[38;5;28;01mfrom\u001B[39;00m \u001B[38;5;21;01msynthesize\u001B[39;00m \u001B[38;5;28;01mimport\u001B[39;00m main\n\u001B[0;32m----> 3\u001B[0m \u001B[43mmain\u001B[49m\u001B[43m(\u001B[49m\u001B[43m)\u001B[49m\n",
      "File \u001B[0;32m~/code/ai/hvae/synthesize.py:70\u001B[0m, in \u001B[0;36mmain\u001B[0;34m()\u001B[0m\n\u001B[1;32m     63\u001B[0m model \u001B[38;5;241m=\u001B[39m model\u001B[38;5;241m.\u001B[39mto(model\u001B[38;5;241m.\u001B[39mdevice)\n\u001B[1;32m     65\u001B[0m data_loader \u001B[38;5;241m=\u001B[39m \u001B[38;5;28;01mNone\u001B[39;00m \u001B[38;5;28;01mif\u001B[39;00m p\u001B[38;5;241m.\u001B[39msynthesis_params\u001B[38;5;241m.\u001B[39msynthesis_mode \u001B[38;5;241m==\u001B[39m \u001B[38;5;124m\"\u001B[39m\u001B[38;5;124mgeneration\u001B[39m\u001B[38;5;124m\"\u001B[39m \\\n\u001B[1;32m     66\u001B[0m     \u001B[38;5;28;01melse\u001B[39;00m p\u001B[38;5;241m.\u001B[39mdata_params\u001B[38;5;241m.\u001B[39mdataset\u001B[38;5;241m.\u001B[39mget_test_loader() \u001B[38;5;28;01mif\u001B[39;00m p\u001B[38;5;241m.\u001B[39msynthesis_params\u001B[38;5;241m.\u001B[39msynthesis_mode \u001B[38;5;241m==\u001B[39m \u001B[38;5;124m'\u001B[39m\u001B[38;5;124mreconstruction\u001B[39m\u001B[38;5;124m'\u001B[39m \\\n\u001B[1;32m     67\u001B[0m     \u001B[38;5;28;01melse\u001B[39;00m p\u001B[38;5;241m.\u001B[39mdata_params\u001B[38;5;241m.\u001B[39mdataset\u001B[38;5;241m.\u001B[39mget_train_loader() \u001B[38;5;28;01mif\u001B[39;00m p\u001B[38;5;241m.\u001B[39msynthesis_params\u001B[38;5;241m.\u001B[39msynthesis_mode \u001B[38;5;129;01min\u001B[39;00m [\u001B[38;5;124m'\u001B[39m\u001B[38;5;124mencoding\u001B[39m\u001B[38;5;124m'\u001B[39m, \u001B[38;5;124m'\u001B[39m\u001B[38;5;124mdiv_stats\u001B[39m\u001B[38;5;124m'\u001B[39m] \\\n\u001B[1;32m     68\u001B[0m     \u001B[38;5;28;01melse\u001B[39;00m \u001B[38;5;28;01mNone\u001B[39;00m\n\u001B[0;32m---> 70\u001B[0m \u001B[43msynthesize\u001B[49m\u001B[43m(\u001B[49m\u001B[43mmodel\u001B[49m\u001B[43m,\u001B[49m\u001B[43m \u001B[49m\u001B[43mdata_loader\u001B[49m\u001B[43m,\u001B[49m\u001B[43m \u001B[49m\u001B[43mcheckpoint_path\u001B[49m\u001B[43m,\u001B[49m\u001B[43m \u001B[49m\u001B[43mmode\u001B[49m\u001B[38;5;241;43m=\u001B[39;49m\u001B[43mp\u001B[49m\u001B[38;5;241;43m.\u001B[39;49m\u001B[43msynthesis_params\u001B[49m\u001B[38;5;241;43m.\u001B[39;49m\u001B[43msynthesis_mode\u001B[49m\u001B[43m,\u001B[49m\u001B[43m \u001B[49m\u001B[43mlogger\u001B[49m\u001B[38;5;241;43m=\u001B[39;49m\u001B[43mlogger\u001B[49m\u001B[43m)\u001B[49m\n",
      "File \u001B[0;32m~/code/ai/hvae/synthesize.py:42\u001B[0m, in \u001B[0;36msynthesize\u001B[0;34m(model, data, logdir, mode, logger)\u001B[0m\n\u001B[1;32m     39\u001B[0m os\u001B[38;5;241m.\u001B[39mmakedirs(latents_folder, exist_ok\u001B[38;5;241m=\u001B[39m\u001B[38;5;28;01mTrue\u001B[39;00m)\n\u001B[1;32m     41\u001B[0m \u001B[38;5;28;01mif\u001B[39;00m mode \u001B[38;5;241m==\u001B[39m \u001B[38;5;124m'\u001B[39m\u001B[38;5;124mreconstruction\u001B[39m\u001B[38;5;124m'\u001B[39m:\n\u001B[0;32m---> 42\u001B[0m     \u001B[43mreconstruction_mode\u001B[49m\u001B[43m(\u001B[49m\u001B[43mmodel\u001B[49m\u001B[43m,\u001B[49m\u001B[43m \u001B[49m\u001B[43mdata\u001B[49m\u001B[43m,\u001B[49m\u001B[43m \u001B[49m\u001B[43martifacts_folder\u001B[49m\u001B[43m,\u001B[49m\u001B[43m \u001B[49m\u001B[43mlatents_folder\u001B[49m\u001B[43m,\u001B[49m\u001B[43m \u001B[49m\u001B[43mlogger\u001B[49m\u001B[43m)\u001B[49m\n\u001B[1;32m     43\u001B[0m \u001B[38;5;28;01melif\u001B[39;00m mode \u001B[38;5;241m==\u001B[39m \u001B[38;5;124m'\u001B[39m\u001B[38;5;124mgeneration\u001B[39m\u001B[38;5;124m'\u001B[39m:\n\u001B[1;32m     44\u001B[0m     generation_mode(model, artifacts_folder, logger)\n",
      "File \u001B[0;32m~/code/ai/hvae/synthesize.py:31\u001B[0m, in \u001B[0;36mreconstruction_mode\u001B[0;34m(model, test_dataset, artifacts_folder, latents_folder, logger)\u001B[0m\n\u001B[1;32m     30\u001B[0m \u001B[38;5;28;01mdef\u001B[39;00m \u001B[38;5;21mreconstruction_mode\u001B[39m(model, test_dataset, artifacts_folder\u001B[38;5;241m=\u001B[39m\u001B[38;5;28;01mNone\u001B[39;00m, latents_folder\u001B[38;5;241m=\u001B[39m\u001B[38;5;28;01mNone\u001B[39;00m, logger: logging\u001B[38;5;241m.\u001B[39mLogger \u001B[38;5;241m=\u001B[39m \u001B[38;5;28;01mNone\u001B[39;00m):\n\u001B[0;32m---> 31\u001B[0m     io_pairs \u001B[38;5;241m=\u001B[39m \u001B[43mreconstruct\u001B[49m\u001B[43m(\u001B[49m\u001B[43mmodel\u001B[49m\u001B[43m,\u001B[49m\u001B[43m \u001B[49m\u001B[43mtest_dataset\u001B[49m\u001B[43m,\u001B[49m\u001B[43m \u001B[49m\u001B[43martifacts_folder\u001B[49m\u001B[43m,\u001B[49m\u001B[43m \u001B[49m\u001B[43mlatents_folder\u001B[49m\u001B[43m,\u001B[49m\u001B[43m \u001B[49m\u001B[43mlogger\u001B[49m\u001B[43m)\u001B[49m\n",
      "File \u001B[0;32m~/code/ai/hvae/src/model.py:149\u001B[0m, in \u001B[0;36mreconstruct\u001B[0;34m(net, dataset, artifacts_folder, latents_folder, logger)\u001B[0m\n\u001B[1;32m    145\u001B[0m \u001B[38;5;28;01mif\u001B[39;00m prms\u001B[38;5;241m.\u001B[39msynthesis_params\u001B[38;5;241m.\u001B[39msave_target_in_reconstruction:\n\u001B[1;32m    146\u001B[0m     write_image_to_disk(\n\u001B[1;32m    147\u001B[0m         os\u001B[38;5;241m.\u001B[39mpath\u001B[38;5;241m.\u001B[39mjoin(artifacts_folder, \u001B[38;5;124mf\u001B[39m\u001B[38;5;124m'\u001B[39m\u001B[38;5;124mtarget-\u001B[39m\u001B[38;5;132;01m{\u001B[39;00msample_i\u001B[38;5;132;01m:\u001B[39;00m\u001B[38;5;124m04d\u001B[39m\u001B[38;5;132;01m}\u001B[39;00m\u001B[38;5;124m.png\u001B[39m\u001B[38;5;124m'\u001B[39m),\n\u001B[1;32m    148\u001B[0m         target\u001B[38;5;241m.\u001B[39mdetach()\u001B[38;5;241m.\u001B[39mcpu()\u001B[38;5;241m.\u001B[39mnumpy())\n\u001B[0;32m--> 149\u001B[0m \u001B[43mwrite_image_to_disk\u001B[49m\u001B[43m(\u001B[49m\n\u001B[1;32m    150\u001B[0m \u001B[43m    \u001B[49m\u001B[43mos\u001B[49m\u001B[38;5;241;43m.\u001B[39;49m\u001B[43mpath\u001B[49m\u001B[38;5;241;43m.\u001B[39;49m\u001B[43mjoin\u001B[49m\u001B[43m(\u001B[49m\u001B[43martifacts_folder\u001B[49m\u001B[43m,\u001B[49m\u001B[43m \u001B[49m\u001B[38;5;124;43mf\u001B[39;49m\u001B[38;5;124;43m'\u001B[39;49m\u001B[38;5;124;43mimage-\u001B[39;49m\u001B[38;5;132;43;01m{\u001B[39;49;00m\u001B[43msample_i\u001B[49m\u001B[38;5;132;43;01m:\u001B[39;49;00m\u001B[38;5;124;43m04d\u001B[39;49m\u001B[38;5;132;43;01m}\u001B[39;49;00m\u001B[38;5;124;43m.png\u001B[39;49m\u001B[38;5;124;43m'\u001B[39;49m\u001B[43m)\u001B[49m\u001B[43m,\u001B[49m\n\u001B[1;32m    151\u001B[0m \u001B[43m    \u001B[49m\u001B[43moutput\u001B[49m\u001B[38;5;241;43m.\u001B[39;49m\u001B[43mdetach\u001B[49m\u001B[43m(\u001B[49m\u001B[43m)\u001B[49m\u001B[38;5;241;43m.\u001B[39;49m\u001B[43mcpu\u001B[49m\u001B[43m(\u001B[49m\u001B[43m)\u001B[49m\u001B[38;5;241;43m.\u001B[39;49m\u001B[43mnumpy\u001B[49m\u001B[43m(\u001B[49m\u001B[43m)\u001B[49m\u001B[43m)\u001B[49m\n\u001B[1;32m    152\u001B[0m io_pairs\u001B[38;5;241m.\u001B[39mappend((target, output))\n\u001B[1;32m    154\u001B[0m sample_i \u001B[38;5;241m+\u001B[39m\u001B[38;5;241m=\u001B[39m \u001B[38;5;241m1\u001B[39m\n",
      "File \u001B[0;32m~/code/ai/hvae/src/utils.py:154\u001B[0m, in \u001B[0;36mwrite_image_to_disk\u001B[0;34m(filepath, image)\u001B[0m\n\u001B[1;32m    152\u001B[0m \u001B[38;5;28;01mfrom\u001B[39;00m \u001B[38;5;21;01mPIL\u001B[39;00m \u001B[38;5;28;01mimport\u001B[39;00m Image\n\u001B[1;32m    153\u001B[0m \u001B[38;5;28;01massert\u001B[39;00m \u001B[38;5;28mlen\u001B[39m(image\u001B[38;5;241m.\u001B[39mshape) \u001B[38;5;241m==\u001B[39m \u001B[38;5;241m3\u001B[39m\n\u001B[0;32m--> 154\u001B[0m \u001B[38;5;28;01massert\u001B[39;00m image\u001B[38;5;241m.\u001B[39mshape[\u001B[38;5;241m0\u001B[39m] \u001B[38;5;241m==\u001B[39m \u001B[38;5;241m3\u001B[39m\n\u001B[1;32m    156\u001B[0m image \u001B[38;5;241m=\u001B[39m np\u001B[38;5;241m.\u001B[39mround(image \u001B[38;5;241m*\u001B[39m \u001B[38;5;241m127.5\u001B[39m \u001B[38;5;241m+\u001B[39m \u001B[38;5;241m127.5\u001B[39m)\n\u001B[1;32m    157\u001B[0m image \u001B[38;5;241m=\u001B[39m image\u001B[38;5;241m.\u001B[39mastype(np\u001B[38;5;241m.\u001B[39muint8)\n",
      "\u001B[0;31mAssertionError\u001B[0m: "
     ]
    }
   ],
   "source": [
    "from synthesize import main\n",
    "\n",
    "main()"
   ],
   "metadata": {
    "collapsed": false
   }
  },
  {
   "cell_type": "code",
   "execution_count": null,
   "outputs": [],
   "source": [],
   "metadata": {
    "collapsed": false
   }
  }
 ],
 "metadata": {
  "kernelspec": {
   "display_name": "Python 3",
   "language": "python",
   "name": "python3"
  },
  "language_info": {
   "codemirror_mode": {
    "name": "ipython",
    "version": 2
   },
   "file_extension": ".py",
   "mimetype": "text/x-python",
   "name": "python",
   "nbconvert_exporter": "python",
   "pygments_lexer": "ipython2",
   "version": "2.7.6"
  }
 },
 "nbformat": 4,
 "nbformat_minor": 0
}
